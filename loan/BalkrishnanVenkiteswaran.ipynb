{
 "cells": [
  {
   "cell_type": "markdown",
   "metadata": {},
   "source": [
    "## Lending Club Case Study -- solution\n"
   ]
  },
  {
   "cell_type": "markdown",
   "metadata": {},
   "source": [
    "**Step 1: Importing Necessary Libraries**"
   ]
  },
  {
   "cell_type": "code",
   "execution_count": 1,
   "metadata": {},
   "outputs": [],
   "source": [
    "# Analysis\n",
    "import pandas as pd\n",
    "import numpy as np\n",
    "\n",
    "# Visualization\n",
    "import matplotlib.pyplot as plt\n",
    "import seaborn as sns\n",
    "\n",
    "# Extra\n",
    "import warnings\n",
    "warnings.filterwarnings(action=\"ignore\")"
   ]
  },
  {
   "cell_type": "markdown",
   "metadata": {},
   "source": [
    "**Step 2: Data Loading**"
   ]
  },
  {
   "cell_type": "code",
   "execution_count": 3,
   "metadata": {},
   "outputs": [],
   "source": [
    "df_loan = pd.read_csv(\"loan.csv\")"
   ]
  },
  {
   "cell_type": "markdown",
   "metadata": {},
   "source": [
    "**Step 3: View Top5 records of dataframe**"
   ]
  },
  {
   "cell_type": "code",
   "execution_count": null,
   "metadata": {},
   "outputs": [],
   "source": [
    "df_loan.head()"
   ]
  },
  {
   "cell_type": "markdown",
   "metadata": {},
   "source": [
    "**Step 4: Check Shape, Info & dtypes details**"
   ]
  },
  {
   "cell_type": "code",
   "execution_count": null,
   "metadata": {},
   "outputs": [],
   "source": [
    "print(\"|------df_loan.shape----------|\")\n",
    "print(df_loan.shape)\n",
    "print(\"|------df_loan.info()---------|\")\n",
    "print(df_loan.info())\n",
    "print(\"|-----------------------------|\")"
   ]
  },
  {
   "cell_type": "markdown",
   "metadata": {},
   "source": [
    "**Step 5: List out int64 type features from dataFrame**"
   ]
  },
  {
   "cell_type": "code",
   "execution_count": null,
   "metadata": {},
   "outputs": [],
   "source": [
    "print(\"|------int64 type features---------|\")\n",
    "df_loan_int64 = df_loan.select_dtypes(include='int64')\n",
    "int64_type_features = df_loan_int64.columns\n",
    "print(int64_type_features)\n",
    "print(\"|----------------------------------|\")"
   ]
  },
  {
   "cell_type": "markdown",
   "metadata": {},
   "source": [
    "**Step 6: List out float64 type features from dataFrame**"
   ]
  },
  {
   "cell_type": "code",
   "execution_count": null,
   "metadata": {},
   "outputs": [],
   "source": [
    "print(\"|------float64 type features---------|\")\n",
    "df_loan_float64 = df_loan.select_dtypes(include='float64')\n",
    "float64_type_features = df_loan_float64.columns\n",
    "print(float64_type_features)\n",
    "print(\"|------------------------------------|\")"
   ]
  },
  {
   "cell_type": "markdown",
   "metadata": {},
   "source": [
    "**Step 7: List out object type features from dataFrame**"
   ]
  },
  {
   "cell_type": "code",
   "execution_count": null,
   "metadata": {},
   "outputs": [],
   "source": [
    "print(\"|------object type features---------|\")\n",
    "df_loan_object = df_loan.select_dtypes(include='object')\n",
    "object_type_features = df_loan_object.columns\n",
    "print(object_type_features)\n",
    "print(\"|-----------------------------------|\")"
   ]
  },
  {
   "cell_type": "markdown",
   "metadata": {},
   "source": [
    "**Step 8: Check info() of all int64-type features**"
   ]
  },
  {
   "cell_type": "code",
   "execution_count": null,
   "metadata": {},
   "outputs": [],
   "source": [
    "df_loan_int64.info()"
   ]
  },
  {
   "cell_type": "markdown",
   "metadata": {},
   "source": [
    "**Step 9: Check info() of all float64-type features**"
   ]
  },
  {
   "cell_type": "code",
   "execution_count": null,
   "metadata": {},
   "outputs": [],
   "source": [
    "df_loan_float64.info()"
   ]
  },
  {
   "cell_type": "markdown",
   "metadata": {},
   "source": [
    "**Step 10: Check info() of all object-type features**"
   ]
  },
  {
   "cell_type": "code",
   "execution_count": null,
   "metadata": {},
   "outputs": [],
   "source": [
    "df_loan_object.info()"
   ]
  },
  {
   "cell_type": "markdown",
   "metadata": {},
   "source": [
    "**Step 10: Find the duplicate-rows in the *df_loan* dataFrame**"
   ]
  },
  {
   "cell_type": "code",
   "execution_count": null,
   "metadata": {},
   "outputs": [],
   "source": [
    "duplicate_rows_in_df_loan = df_loan.duplicated()\n",
    "df_loan[duplicate_rows_in_df_loan]\n",
    "\n",
    "# OBSERVATION: We see that there are zero-duplicated-rows in the df_loan dataFrame"
   ]
  },
  {
   "cell_type": "markdown",
   "metadata": {},
   "source": [
    "**Step 11: Find the number-of-rows in the *df_loan* dataFrame that are empty**"
   ]
  },
  {
   "cell_type": "code",
   "execution_count": null,
   "metadata": {},
   "outputs": [],
   "source": [
    "number_of_empty_rows = df_loan.isnull().all(axis=1).sum()\n",
    "number_of_empty_rows\n",
    "\n",
    "# OBSERVATION: There are zero-empty-rows in the df_loan dataFrame"
   ]
  },
  {
   "cell_type": "markdown",
   "metadata": {},
   "source": [
    "**Step 12: Find the number-of-features in the *df_loan* dataFrame that are empty**"
   ]
  },
  {
   "cell_type": "code",
   "execution_count": null,
   "metadata": {},
   "outputs": [],
   "source": [
    "number_of_empty_features = df_loan.isnull().all(axis=0).sum()\n",
    "number_of_empty_features\n",
    "\n",
    "# OBSERVATION: There are 54-empty-features in the df_loan dataFrame"
   ]
  },
  {
   "cell_type": "markdown",
   "metadata": {},
   "source": [
    "**Step 12A: List the features from *df_loan* dataFrame which are empty**"
   ]
  },
  {
   "cell_type": "code",
   "execution_count": null,
   "metadata": {},
   "outputs": [],
   "source": [
    "empty_features = [col for col in df_loan.columns if df_loan[col].isnull().all()]\n",
    "print(empty_features)"
   ]
  },
  {
   "cell_type": "markdown",
   "metadata": {},
   "source": [
    "**Step 12B: Impute the features from *df_loan* dataFrame which are empty**"
   ]
  },
  {
   "cell_type": "code",
   "execution_count": 16,
   "metadata": {},
   "outputs": [],
   "source": [
    "df_loan.drop(empty_features, axis=1, inplace=True)"
   ]
  },
  {
   "cell_type": "markdown",
   "metadata": {},
   "source": [
    "**Step 12C: Check the current Shape of *df_loan* dataFrame after imputation**"
   ]
  },
  {
   "cell_type": "code",
   "execution_count": null,
   "metadata": {},
   "outputs": [],
   "source": [
    "print(\"|------current df_loan.shape----------|\")\n",
    "print(df_loan.shape)\n",
    "print(\"|-----------------------------|\")\n",
    "\n",
    "# OBSERVATION: 48% of the features are imputed at this point."
   ]
  },
  {
   "cell_type": "markdown",
   "metadata": {},
   "source": [
    "**Step 13: Find number-of-null-values in the features which have int64-dtype**"
   ]
  },
  {
   "cell_type": "code",
   "execution_count": null,
   "metadata": {},
   "outputs": [],
   "source": [
    "df_loan_int64 = df_loan.select_dtypes(include='int64')\n",
    "df_loan_int64.isna().sum()\n",
    "# null_columns_df_loan_int64 = df_loan_int64.columns[df_loan_int64.isna().any()].to_list()\n",
    "# null_columns_df_loan_int64\n",
    "\n",
    "drop_features_df_loan_int64 = []\n",
    "drop_features_df_loan_int64"
   ]
  },
  {
   "cell_type": "markdown",
   "metadata": {},
   "source": [
    "**Step 14: List the features which have float64-dtype and have many nulls**"
   ]
  },
  {
   "cell_type": "code",
   "execution_count": null,
   "metadata": {},
   "outputs": [],
   "source": [
    "df_loan_float64 = df_loan.select_dtypes(include='float64')\n",
    "df_loan_float64.isna().sum()\n",
    "# null_columns_df_loan_float64 = df_loan_float64.columns[df_loan_float64.isna().any()].to_list()\n",
    "# null_columns_df_loan_float64\n",
    "\n",
    "drop_features_df_loan_float64 = ['mths_since_last_delinq','mths_since_last_record']\n",
    "drop_features_df_loan_float64"
   ]
  },
  {
   "cell_type": "markdown",
   "metadata": {},
   "source": [
    "**Step 15: List the features which have object-dtype and have many nulls**"
   ]
  },
  {
   "cell_type": "code",
   "execution_count": null,
   "metadata": {},
   "outputs": [],
   "source": [
    "df_loan_object = df_loan.select_dtypes(include='object')\n",
    "df_loan_object.isna().sum()\n",
    "# null_columns_df_loan_object = df_loan_object.columns[df_loan_object.isna().any()].to_list()\n",
    "# null_columns_df_loan_object\n",
    "\n",
    "drop_features_df_loan_object = ['desc','next_pymnt_d']\n",
    "drop_features_df_loan_object"
   ]
  },
  {
   "cell_type": "markdown",
   "metadata": {},
   "source": [
    "**Step 16: Drop the above selected features**"
   ]
  },
  {
   "cell_type": "code",
   "execution_count": 21,
   "metadata": {},
   "outputs": [],
   "source": [
    "df_loan.drop(drop_features_df_loan_int64, axis=1, inplace=True)\n",
    "df_loan.drop(drop_features_df_loan_float64, axis=1, inplace=True)\n",
    "df_loan.drop(drop_features_df_loan_object, axis=1, inplace=True)"
   ]
  },
  {
   "cell_type": "code",
   "execution_count": null,
   "metadata": {},
   "outputs": [],
   "source": [
    "df_loan.shape"
   ]
  },
  {
   "cell_type": "markdown",
   "metadata": {},
   "source": [
    "**Step 17: Create a dataFrame containing only DEFAULTED-LOAN records from *df_loan* dataFrame**"
   ]
  },
  {
   "cell_type": "code",
   "execution_count": null,
   "metadata": {},
   "outputs": [],
   "source": [
    "df_loan.loan_status.unique()\n",
    "\n",
    "# ASSUMPTION: 'Charged Off' means DEFAULTED."
   ]
  },
  {
   "cell_type": "code",
   "execution_count": 24,
   "metadata": {},
   "outputs": [],
   "source": [
    "df_loan_defaulted = df_loan[df_loan[\"loan_status\"]=='Charged Off']"
   ]
  },
  {
   "cell_type": "code",
   "execution_count": null,
   "metadata": {},
   "outputs": [],
   "source": [
    "df_loan_defaulted.shape"
   ]
  },
  {
   "cell_type": "markdown",
   "metadata": {},
   "source": [
    "**Step 18: Segregate *df_loan_defaulted* dataFrame into Numerical and Categorical**"
   ]
  },
  {
   "cell_type": "code",
   "execution_count": null,
   "metadata": {},
   "outputs": [],
   "source": [
    "df_loan_defaulted_numeric = df_loan_defaulted.select_dtypes(include=['float64','int64'])\n",
    "df_loan_defaulted_numeric_features = df_loan_defaulted_numeric.columns\n",
    "print(df_loan_defaulted_numeric_features)"
   ]
  },
  {
   "cell_type": "code",
   "execution_count": null,
   "metadata": {},
   "outputs": [],
   "source": [
    "df_loan_defaulted_categorical = df_loan_defaulted.select_dtypes(include=['object'])\n",
    "df_loan_defaulted_categorical_features = df_loan_defaulted_categorical.columns\n",
    "print(df_loan_defaulted_categorical_features)"
   ]
  },
  {
   "cell_type": "markdown",
   "metadata": {},
   "source": [
    "**Step 19: Further cleanup of DEFAULTED-Numeric,-Categorical dataFrames values**"
   ]
  },
  {
   "cell_type": "code",
   "execution_count": 28,
   "metadata": {},
   "outputs": [],
   "source": [
    "# Replace NULL with MEDIAN-value of feature \"pub_rec_bankruptcies\"\n",
    "\n",
    "median_pub_rec_bankruptcies = df_loan_defaulted[\"pub_rec_bankruptcies\"].median()\n",
    "df_loan_defaulted[\"pub_rec_bankruptcies\"] = df_loan_defaulted[\"pub_rec_bankruptcies\"].fillna(median_pub_rec_bankruptcies)\n"
   ]
  },
  {
   "cell_type": "code",
   "execution_count": null,
   "metadata": {},
   "outputs": [],
   "source": [
    "df_loan_defaulted_numeric.isna().sum()"
   ]
  },
  {
   "cell_type": "code",
   "execution_count": null,
   "metadata": {},
   "outputs": [],
   "source": [
    "df_loan_defaulted_categorical.isna().sum()"
   ]
  },
  {
   "cell_type": "code",
   "execution_count": null,
   "metadata": {},
   "outputs": [],
   "source": [
    "df_loan_defaulted_categorical.emp_length.head()"
   ]
  },
  {
   "cell_type": "markdown",
   "metadata": {},
   "source": [
    "**Step 20: Histograms for Numerical-Features (Univariate)**"
   ]
  },
  {
   "cell_type": "code",
   "execution_count": null,
   "metadata": {},
   "outputs": [],
   "source": [
    "for col in df_loan_defaulted_numeric_features:\n",
    "    sns.histplot(x=df_loan_defaulted[col])\n",
    "    plt.show()"
   ]
  },
  {
   "cell_type": "markdown",
   "metadata": {},
   "source": [
    "**Step 21: Boxplots for Numerical-Features (Univariate)**"
   ]
  },
  {
   "cell_type": "code",
   "execution_count": null,
   "metadata": {},
   "outputs": [],
   "source": [
    "for col in df_loan_defaulted_numeric_features:\n",
    "    sns.boxplot(x=df_loan_defaulted[col])\n",
    "    plt.show()"
   ]
  },
  {
   "cell_type": "markdown",
   "metadata": {},
   "source": [
    "**Step 22: Countplots for Categorical-Features (Univariate)**"
   ]
  },
  {
   "cell_type": "code",
   "execution_count": null,
   "metadata": {},
   "outputs": [],
   "source": [
    "for col in df_loan_defaulted_categorical_features:\n",
    "    sns.countplot(x=df_loan_defaulted[col])\n",
    "    plt.show()"
   ]
  },
  {
   "cell_type": "markdown",
   "metadata": {},
   "source": [
    "**Step 23: Scatterplots for Categorical-vs-Categorical Features (Bivariate)**"
   ]
  },
  {
   "cell_type": "code",
   "execution_count": null,
   "metadata": {},
   "outputs": [],
   "source": [
    "for col1 in df_loan_defaulted_numeric_features:\n",
    "    for col2 in df_loan_defaulted_numeric_features:\n",
    "        if col1!=col2:\n",
    "            print(\"ScatterPlot of \",col1,\"and\",col2)\n",
    "            sns.scatterplot(x=df_loan_defaulted[col1], y=df_loan_defaulted[col2])\n",
    "            sns.regplot(x=df_loan_defaulted[col1],y=df_loan_defaulted[col2],scatter_kws={\"color\":\"blue\"},line_kws={\"color\":\"red\"})\n",
    "            plt.show()"
   ]
  },
  {
   "cell_type": "code",
   "execution_count": null,
   "metadata": {},
   "outputs": [],
   "source": []
  }
 ],
 "metadata": {
  "kernelspec": {
   "display_name": "Python 3",
   "language": "python",
   "name": "python3"
  },
  "language_info": {
   "codemirror_mode": {
    "name": "ipython",
    "version": 3
   },
   "file_extension": ".py",
   "mimetype": "text/x-python",
   "name": "python",
   "nbconvert_exporter": "python",
   "pygments_lexer": "ipython3",
   "version": "3.12.4"
  }
 },
 "nbformat": 4,
 "nbformat_minor": 2
}
