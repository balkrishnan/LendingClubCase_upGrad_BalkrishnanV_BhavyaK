{
 "cells": [
  {
   "cell_type": "code",
   "execution_count": 268,
   "id": "a0902bcb",
   "metadata": {},
   "outputs": [],
   "source": [
    "import pandas as pd\n"
   ]
  },
  {
   "cell_type": "code",
   "execution_count": 269,
   "id": "0dd55520",
   "metadata": {},
   "outputs": [],
   "source": [
    "df = pd.read_csv('loan.csv',low_memory=False)"
   ]
  },
  {
   "cell_type": "code",
   "execution_count": 270,
   "id": "4a7e75cd",
   "metadata": {},
   "outputs": [
    {
     "data": {
      "text/plain": [
       "(39717, 111)"
      ]
     },
     "execution_count": 270,
     "metadata": {},
     "output_type": "execute_result"
    }
   ],
   "source": [
    "df.shape"
   ]
  },
  {
   "cell_type": "markdown",
   "id": "1e2ac216",
   "metadata": {},
   "source": [
    "Null value analysis\n"
   ]
  },
  {
   "cell_type": "code",
   "execution_count": 271,
   "id": "0a40d374",
   "metadata": {},
   "outputs": [],
   "source": [
    "df = df.loc[:,df.isnull().sum() != len(df)]"
   ]
  },
  {
   "cell_type": "code",
   "execution_count": 272,
   "id": "7f8a8867",
   "metadata": {
    "scrolled": true
   },
   "outputs": [
    {
     "data": {
      "text/plain": [
       "(39717, 57)"
      ]
     },
     "execution_count": 272,
     "metadata": {},
     "output_type": "execute_result"
    }
   ],
   "source": [
    "df.shape"
   ]
  },
  {
   "cell_type": "code",
   "execution_count": 273,
   "id": "3b665bec",
   "metadata": {},
   "outputs": [
    {
     "data": {
      "text/plain": [
       "id                                0\n",
       "member_id                         0\n",
       "loan_amnt                         0\n",
       "funded_amnt                       0\n",
       "funded_amnt_inv                   0\n",
       "term                              0\n",
       "int_rate                          0\n",
       "installment                       0\n",
       "grade                             0\n",
       "sub_grade                         0\n",
       "emp_title                      2459\n",
       "emp_length                     1075\n",
       "home_ownership                    0\n",
       "annual_inc                        0\n",
       "verification_status               0\n",
       "issue_d                           0\n",
       "loan_status                       0\n",
       "pymnt_plan                        0\n",
       "url                               0\n",
       "desc                          12942\n",
       "purpose                           0\n",
       "title                            11\n",
       "zip_code                          0\n",
       "addr_state                        0\n",
       "dti                               0\n",
       "delinq_2yrs                       0\n",
       "earliest_cr_line                  0\n",
       "inq_last_6mths                    0\n",
       "mths_since_last_delinq        25682\n",
       "mths_since_last_record        36931\n",
       "open_acc                          0\n",
       "pub_rec                           0\n",
       "revol_bal                         0\n",
       "revol_util                       50\n",
       "total_acc                         0\n",
       "initial_list_status               0\n",
       "out_prncp                         0\n",
       "out_prncp_inv                     0\n",
       "total_pymnt                       0\n",
       "total_pymnt_inv                   0\n",
       "total_rec_prncp                   0\n",
       "total_rec_int                     0\n",
       "total_rec_late_fee                0\n",
       "recoveries                        0\n",
       "collection_recovery_fee           0\n",
       "last_pymnt_d                     71\n",
       "last_pymnt_amnt                   0\n",
       "next_pymnt_d                  38577\n",
       "last_credit_pull_d                2\n",
       "collections_12_mths_ex_med       56\n",
       "policy_code                       0\n",
       "application_type                  0\n",
       "acc_now_delinq                    0\n",
       "chargeoff_within_12_mths         56\n",
       "delinq_amnt                       0\n",
       "pub_rec_bankruptcies            697\n",
       "tax_liens                        39\n",
       "dtype: int64"
      ]
     },
     "execution_count": 273,
     "metadata": {},
     "output_type": "execute_result"
    }
   ],
   "source": [
    "df.isna().sum()"
   ]
  },
  {
   "cell_type": "code",
   "execution_count": 274,
   "id": "d3b0d1dc",
   "metadata": {},
   "outputs": [],
   "source": [
    "df = df.drop(['desc','mths_since_last_delinq','mths_since_last_record','next_pymnt_d'],axis=1)"
   ]
  },
  {
   "cell_type": "code",
   "execution_count": 275,
   "id": "636b4a8f",
   "metadata": {},
   "outputs": [
    {
     "data": {
      "text/plain": [
       "(39717, 53)"
      ]
     },
     "execution_count": 275,
     "metadata": {},
     "output_type": "execute_result"
    }
   ],
   "source": [
    "df.shape"
   ]
  },
  {
   "cell_type": "code",
   "execution_count": 276,
   "id": "7565e5ef",
   "metadata": {},
   "outputs": [
    {
     "data": {
      "text/plain": [
       "id                               0\n",
       "member_id                        0\n",
       "loan_amnt                        0\n",
       "funded_amnt                      0\n",
       "funded_amnt_inv                  0\n",
       "term                             0\n",
       "int_rate                         0\n",
       "installment                      0\n",
       "grade                            0\n",
       "sub_grade                        0\n",
       "emp_title                     2459\n",
       "emp_length                    1075\n",
       "home_ownership                   0\n",
       "annual_inc                       0\n",
       "verification_status              0\n",
       "issue_d                          0\n",
       "loan_status                      0\n",
       "pymnt_plan                       0\n",
       "url                              0\n",
       "purpose                          0\n",
       "title                           11\n",
       "zip_code                         0\n",
       "addr_state                       0\n",
       "dti                              0\n",
       "delinq_2yrs                      0\n",
       "earliest_cr_line                 0\n",
       "inq_last_6mths                   0\n",
       "open_acc                         0\n",
       "pub_rec                          0\n",
       "revol_bal                        0\n",
       "revol_util                      50\n",
       "total_acc                        0\n",
       "initial_list_status              0\n",
       "out_prncp                        0\n",
       "out_prncp_inv                    0\n",
       "total_pymnt                      0\n",
       "total_pymnt_inv                  0\n",
       "total_rec_prncp                  0\n",
       "total_rec_int                    0\n",
       "total_rec_late_fee               0\n",
       "recoveries                       0\n",
       "collection_recovery_fee          0\n",
       "last_pymnt_d                    71\n",
       "last_pymnt_amnt                  0\n",
       "last_credit_pull_d               2\n",
       "collections_12_mths_ex_med      56\n",
       "policy_code                      0\n",
       "application_type                 0\n",
       "acc_now_delinq                   0\n",
       "chargeoff_within_12_mths        56\n",
       "delinq_amnt                      0\n",
       "pub_rec_bankruptcies           697\n",
       "tax_liens                       39\n",
       "dtype: int64"
      ]
     },
     "execution_count": 276,
     "metadata": {},
     "output_type": "execute_result"
    }
   ],
   "source": [
    "df.isna().sum()"
   ]
  },
  {
   "cell_type": "code",
   "execution_count": 277,
   "id": "7a8ac9a8",
   "metadata": {},
   "outputs": [
    {
     "data": {
      "text/plain": [
       "tax_liens\n",
       "0.0    39678\n",
       "Name: count, dtype: int64"
      ]
     },
     "execution_count": 277,
     "metadata": {},
     "output_type": "execute_result"
    }
   ],
   "source": [
    "df.tax_liens.value_counts()"
   ]
  },
  {
   "cell_type": "code",
   "execution_count": 278,
   "id": "d4a01040",
   "metadata": {},
   "outputs": [],
   "source": [
    "df.tax_liens =  df.tax_liens.fillna(0.0)"
   ]
  },
  {
   "cell_type": "code",
   "execution_count": 279,
   "id": "627bd2a4",
   "metadata": {},
   "outputs": [
    {
     "data": {
      "text/plain": [
       "tax_liens\n",
       "0.0    39717\n",
       "Name: count, dtype: int64"
      ]
     },
     "execution_count": 279,
     "metadata": {},
     "output_type": "execute_result"
    }
   ],
   "source": [
    "df.tax_liens.value_counts()"
   ]
  },
  {
   "cell_type": "code",
   "execution_count": 280,
   "id": "620f80c1",
   "metadata": {},
   "outputs": [
    {
     "data": {
      "text/plain": [
       "chargeoff_within_12_mths\n",
       "0.0    39661\n",
       "Name: count, dtype: int64"
      ]
     },
     "execution_count": 280,
     "metadata": {},
     "output_type": "execute_result"
    }
   ],
   "source": [
    "df.chargeoff_within_12_mths.value_counts()"
   ]
  },
  {
   "cell_type": "code",
   "execution_count": 281,
   "id": "7223a330",
   "metadata": {},
   "outputs": [],
   "source": [
    "df.chargeoff_within_12_mths = df.chargeoff_within_12_mths.fillna(0.0)"
   ]
  },
  {
   "cell_type": "code",
   "execution_count": 282,
   "id": "1838cfb5",
   "metadata": {},
   "outputs": [
    {
     "data": {
      "text/plain": [
       "chargeoff_within_12_mths\n",
       "0.0    39717\n",
       "Name: count, dtype: int64"
      ]
     },
     "execution_count": 282,
     "metadata": {},
     "output_type": "execute_result"
    }
   ],
   "source": [
    "df.chargeoff_within_12_mths.value_counts()"
   ]
  },
  {
   "cell_type": "code",
   "execution_count": 283,
   "id": "3df655b7",
   "metadata": {},
   "outputs": [
    {
     "data": {
      "text/plain": [
       "collections_12_mths_ex_med\n",
       "0.0    39661\n",
       "Name: count, dtype: int64"
      ]
     },
     "execution_count": 283,
     "metadata": {},
     "output_type": "execute_result"
    }
   ],
   "source": [
    "df.collections_12_mths_ex_med.value_counts()"
   ]
  },
  {
   "cell_type": "code",
   "execution_count": 284,
   "id": "344734e4",
   "metadata": {},
   "outputs": [],
   "source": [
    "df.collections_12_mths_ex_med = df.collections_12_mths_ex_med.fillna(0.0)"
   ]
  },
  {
   "cell_type": "code",
   "execution_count": 285,
   "id": "c08c20f6",
   "metadata": {},
   "outputs": [
    {
     "data": {
      "text/plain": [
       "chargeoff_within_12_mths\n",
       "0.0    39717\n",
       "Name: count, dtype: int64"
      ]
     },
     "execution_count": 285,
     "metadata": {},
     "output_type": "execute_result"
    }
   ],
   "source": [
    "df.chargeoff_within_12_mths.value_counts()"
   ]
  },
  {
   "cell_type": "code",
   "execution_count": 286,
   "id": "4f792235",
   "metadata": {},
   "outputs": [
    {
     "data": {
      "text/plain": [
       "0        Jan-15\n",
       "1        Apr-13\n",
       "2        Jun-14\n",
       "3        Jan-15\n",
       "4        May-16\n",
       "          ...  \n",
       "39712    Jul-10\n",
       "39713    Jul-10\n",
       "39714    Apr-08\n",
       "39715    Jan-08\n",
       "39716    Jun-10\n",
       "Name: last_pymnt_d, Length: 39717, dtype: object"
      ]
     },
     "execution_count": 286,
     "metadata": {},
     "output_type": "execute_result"
    }
   ],
   "source": [
    "df.last_pymnt_d"
   ]
  },
  {
   "cell_type": "code",
   "execution_count": 287,
   "id": "29a8752d",
   "metadata": {},
   "outputs": [
    {
     "data": {
      "text/plain": [
       "revol_util\n",
       "37.63%      1\n",
       "33.29%      1\n",
       "58.19%      1\n",
       "5.34%       1\n",
       "6.75%       1\n",
       "         ... \n",
       "0.10%      58\n",
       "40.70%     58\n",
       "63%        62\n",
       "0.20%      63\n",
       "0%        977\n",
       "Name: count, Length: 1089, dtype: int64"
      ]
     },
     "execution_count": 287,
     "metadata": {},
     "output_type": "execute_result"
    }
   ],
   "source": [
    "df.revol_util.value_counts().sort_values()"
   ]
  },
  {
   "cell_type": "code",
   "execution_count": 288,
   "id": "dc72345b",
   "metadata": {},
   "outputs": [],
   "source": [
    "df = df[~df.revol_util.isna()]"
   ]
  },
  {
   "cell_type": "code",
   "execution_count": 289,
   "id": "d7048f84",
   "metadata": {},
   "outputs": [
    {
     "data": {
      "text/plain": [
       "id                               0\n",
       "member_id                        0\n",
       "loan_amnt                        0\n",
       "funded_amnt                      0\n",
       "funded_amnt_inv                  0\n",
       "term                             0\n",
       "int_rate                         0\n",
       "installment                      0\n",
       "grade                            0\n",
       "sub_grade                        0\n",
       "emp_title                     2455\n",
       "emp_length                    1072\n",
       "home_ownership                   0\n",
       "annual_inc                       0\n",
       "verification_status              0\n",
       "issue_d                          0\n",
       "loan_status                      0\n",
       "pymnt_plan                       0\n",
       "url                              0\n",
       "purpose                          0\n",
       "title                           11\n",
       "zip_code                         0\n",
       "addr_state                       0\n",
       "dti                              0\n",
       "delinq_2yrs                      0\n",
       "earliest_cr_line                 0\n",
       "inq_last_6mths                   0\n",
       "open_acc                         0\n",
       "pub_rec                          0\n",
       "revol_bal                        0\n",
       "revol_util                       0\n",
       "total_acc                        0\n",
       "initial_list_status              0\n",
       "out_prncp                        0\n",
       "out_prncp_inv                    0\n",
       "total_pymnt                      0\n",
       "total_pymnt_inv                  0\n",
       "total_rec_prncp                  0\n",
       "total_rec_int                    0\n",
       "total_rec_late_fee               0\n",
       "recoveries                       0\n",
       "collection_recovery_fee          0\n",
       "last_pymnt_d                    67\n",
       "last_pymnt_amnt                  0\n",
       "last_credit_pull_d               2\n",
       "collections_12_mths_ex_med       0\n",
       "policy_code                      0\n",
       "application_type                 0\n",
       "acc_now_delinq                   0\n",
       "chargeoff_within_12_mths         0\n",
       "delinq_amnt                      0\n",
       "pub_rec_bankruptcies           697\n",
       "tax_liens                        0\n",
       "dtype: int64"
      ]
     },
     "execution_count": 289,
     "metadata": {},
     "output_type": "execute_result"
    }
   ],
   "source": [
    "df.isna().sum()"
   ]
  },
  {
   "cell_type": "markdown",
   "id": "c384f23b",
   "metadata": {},
   "source": [
    "# Nulls are removed, now will clean the data"
   ]
  },
  {
   "cell_type": "code",
   "execution_count": 290,
   "id": "d21cb84a",
   "metadata": {},
   "outputs": [
    {
     "data": {
      "text/plain": [
       "Index(['id', 'member_id', 'loan_amnt', 'funded_amnt', 'funded_amnt_inv',\n",
       "       'term', 'int_rate', 'installment', 'grade', 'sub_grade', 'emp_title',\n",
       "       'emp_length', 'home_ownership', 'annual_inc', 'verification_status',\n",
       "       'issue_d', 'loan_status', 'pymnt_plan', 'url', 'purpose', 'title',\n",
       "       'zip_code', 'addr_state', 'dti', 'delinq_2yrs', 'earliest_cr_line',\n",
       "       'inq_last_6mths', 'open_acc', 'pub_rec', 'revol_bal', 'revol_util',\n",
       "       'total_acc', 'initial_list_status', 'out_prncp', 'out_prncp_inv',\n",
       "       'total_pymnt', 'total_pymnt_inv', 'total_rec_prncp', 'total_rec_int',\n",
       "       'total_rec_late_fee', 'recoveries', 'collection_recovery_fee',\n",
       "       'last_pymnt_d', 'last_pymnt_amnt', 'last_credit_pull_d',\n",
       "       'collections_12_mths_ex_med', 'policy_code', 'application_type',\n",
       "       'acc_now_delinq', 'chargeoff_within_12_mths', 'delinq_amnt',\n",
       "       'pub_rec_bankruptcies', 'tax_liens'],\n",
       "      dtype='object')"
      ]
     },
     "execution_count": 290,
     "metadata": {},
     "output_type": "execute_result"
    }
   ],
   "source": [
    "df.columns    "
   ]
  },
  {
   "cell_type": "code",
   "execution_count": 291,
   "id": "0b852a42",
   "metadata": {},
   "outputs": [],
   "source": [
    "df.columns = df.columns.str.strip()"
   ]
  },
  {
   "cell_type": "code",
   "execution_count": 292,
   "id": "ec715201",
   "metadata": {},
   "outputs": [
    {
     "name": "stdout",
     "output_type": "stream",
     "text": [
      "39667\n",
      "39667\n",
      "884\n",
      "1040\n",
      "8195\n",
      "2\n",
      "371\n",
      "15363\n",
      "7\n",
      "35\n",
      "28781\n",
      "11\n",
      "5\n",
      "5313\n",
      "3\n",
      "55\n",
      "3\n",
      "39667\n",
      "14\n",
      "19583\n",
      "823\n",
      "50\n",
      "2868\n",
      "11\n",
      "526\n",
      "9\n",
      "40\n",
      "5\n",
      "21711\n",
      "1089\n",
      "82\n",
      "1137\n",
      "1138\n",
      "37800\n",
      "37470\n",
      "7963\n",
      "35105\n",
      "1353\n",
      "4026\n",
      "2610\n",
      "101\n",
      "34901\n",
      "106\n",
      "3\n"
     ]
    }
   ],
   "source": [
    "for c in df.columns:\n",
    "    if(len(df[c].value_counts()) > 1):\n",
    "       print(len(df[c].value_counts()))"
   ]
  },
  {
   "cell_type": "code",
   "execution_count": 293,
   "id": "13544426",
   "metadata": {},
   "outputs": [],
   "source": [
    "for c in df.columns:\n",
    "    if(len(df[c].value_counts()) <= 1):\n",
    "       df.drop(c,axis=1,inplace=True)"
   ]
  },
  {
   "cell_type": "code",
   "execution_count": 294,
   "id": "9e142ec9",
   "metadata": {},
   "outputs": [
    {
     "data": {
      "text/plain": [
       "(39667, 44)"
      ]
     },
     "execution_count": 294,
     "metadata": {},
     "output_type": "execute_result"
    }
   ],
   "source": [
    "df.shape"
   ]
  },
  {
   "cell_type": "markdown",
   "id": "5ab7bf6a",
   "metadata": {},
   "source": [
    "we can drop any column that may not be needed for analysis"
   ]
  },
  {
   "cell_type": "code",
   "execution_count": 295,
   "id": "1d743e8e",
   "metadata": {},
   "outputs": [
    {
     "name": "stdout",
     "output_type": "stream",
     "text": [
      "<class 'pandas.core.frame.DataFrame'>\n",
      "Index: 39667 entries, 0 to 39716\n",
      "Data columns (total 44 columns):\n",
      " #   Column                   Non-Null Count  Dtype  \n",
      "---  ------                   --------------  -----  \n",
      " 0   id                       39667 non-null  int64  \n",
      " 1   member_id                39667 non-null  int64  \n",
      " 2   loan_amnt                39667 non-null  int64  \n",
      " 3   funded_amnt              39667 non-null  int64  \n",
      " 4   funded_amnt_inv          39667 non-null  float64\n",
      " 5   term                     39667 non-null  object \n",
      " 6   int_rate                 39667 non-null  object \n",
      " 7   installment              39667 non-null  float64\n",
      " 8   grade                    39667 non-null  object \n",
      " 9   sub_grade                39667 non-null  object \n",
      " 10  emp_title                37212 non-null  object \n",
      " 11  emp_length               38595 non-null  object \n",
      " 12  home_ownership           39667 non-null  object \n",
      " 13  annual_inc               39667 non-null  float64\n",
      " 14  verification_status      39667 non-null  object \n",
      " 15  issue_d                  39667 non-null  object \n",
      " 16  loan_status              39667 non-null  object \n",
      " 17  url                      39667 non-null  object \n",
      " 18  purpose                  39667 non-null  object \n",
      " 19  title                    39656 non-null  object \n",
      " 20  zip_code                 39667 non-null  object \n",
      " 21  addr_state               39667 non-null  object \n",
      " 22  dti                      39667 non-null  float64\n",
      " 23  delinq_2yrs              39667 non-null  int64  \n",
      " 24  earliest_cr_line         39667 non-null  object \n",
      " 25  inq_last_6mths           39667 non-null  int64  \n",
      " 26  open_acc                 39667 non-null  int64  \n",
      " 27  pub_rec                  39667 non-null  int64  \n",
      " 28  revol_bal                39667 non-null  int64  \n",
      " 29  revol_util               39667 non-null  object \n",
      " 30  total_acc                39667 non-null  int64  \n",
      " 31  out_prncp                39667 non-null  float64\n",
      " 32  out_prncp_inv            39667 non-null  float64\n",
      " 33  total_pymnt              39667 non-null  float64\n",
      " 34  total_pymnt_inv          39667 non-null  float64\n",
      " 35  total_rec_prncp          39667 non-null  float64\n",
      " 36  total_rec_int            39667 non-null  float64\n",
      " 37  total_rec_late_fee       39667 non-null  float64\n",
      " 38  recoveries               39667 non-null  float64\n",
      " 39  collection_recovery_fee  39667 non-null  float64\n",
      " 40  last_pymnt_d             39600 non-null  object \n",
      " 41  last_pymnt_amnt          39667 non-null  float64\n",
      " 42  last_credit_pull_d       39665 non-null  object \n",
      " 43  pub_rec_bankruptcies     38970 non-null  float64\n",
      "dtypes: float64(15), int64(10), object(19)\n",
      "memory usage: 13.6+ MB\n"
     ]
    }
   ],
   "source": [
    "df.info()"
   ]
  },
  {
   "cell_type": "code",
   "execution_count": 296,
   "id": "31a085c8",
   "metadata": {
    "scrolled": true
   },
   "outputs": [
    {
     "data": {
      "text/plain": [
       "last_credit_pull_d\n",
       "May-16    10302\n",
       "Apr-16     2546\n",
       "Mar-16     1121\n",
       "Feb-13      842\n",
       "Feb-16      736\n",
       "          ...  \n",
       "May-08        1\n",
       "Jun-08        1\n",
       "Jul-08        1\n",
       "May-07        1\n",
       "Jul-07        1\n",
       "Name: count, Length: 106, dtype: int64"
      ]
     },
     "execution_count": 296,
     "metadata": {},
     "output_type": "execute_result"
    }
   ],
   "source": [
    "df.last_credit_pull_d.value_counts()"
   ]
  },
  {
   "cell_type": "code",
   "execution_count": 297,
   "id": "7b7656b1",
   "metadata": {},
   "outputs": [],
   "source": [
    "df = df.drop(['id','member_id','url','collection_recovery_fee','last_pymnt_d','last_pymnt_amnt','last_credit_pull_d','recoveries','total_rec_late_fee','total_rec_int','total_rec_prncp','total_pymnt_inv','total_pymnt','out_prncp_inv','out_prncp','issue_d','funded_amnt','funded_amnt_inv'],axis=1)"
   ]
  },
  {
   "cell_type": "code",
   "execution_count": 298,
   "id": "8c7182dd",
   "metadata": {},
   "outputs": [
    {
     "name": "stdout",
     "output_type": "stream",
     "text": [
      "<class 'pandas.core.frame.DataFrame'>\n",
      "Index: 39667 entries, 0 to 39716\n",
      "Data columns (total 26 columns):\n",
      " #   Column                Non-Null Count  Dtype  \n",
      "---  ------                --------------  -----  \n",
      " 0   loan_amnt             39667 non-null  int64  \n",
      " 1   term                  39667 non-null  object \n",
      " 2   int_rate              39667 non-null  object \n",
      " 3   installment           39667 non-null  float64\n",
      " 4   grade                 39667 non-null  object \n",
      " 5   sub_grade             39667 non-null  object \n",
      " 6   emp_title             37212 non-null  object \n",
      " 7   emp_length            38595 non-null  object \n",
      " 8   home_ownership        39667 non-null  object \n",
      " 9   annual_inc            39667 non-null  float64\n",
      " 10  verification_status   39667 non-null  object \n",
      " 11  loan_status           39667 non-null  object \n",
      " 12  purpose               39667 non-null  object \n",
      " 13  title                 39656 non-null  object \n",
      " 14  zip_code              39667 non-null  object \n",
      " 15  addr_state            39667 non-null  object \n",
      " 16  dti                   39667 non-null  float64\n",
      " 17  delinq_2yrs           39667 non-null  int64  \n",
      " 18  earliest_cr_line      39667 non-null  object \n",
      " 19  inq_last_6mths        39667 non-null  int64  \n",
      " 20  open_acc              39667 non-null  int64  \n",
      " 21  pub_rec               39667 non-null  int64  \n",
      " 22  revol_bal             39667 non-null  int64  \n",
      " 23  revol_util            39667 non-null  object \n",
      " 24  total_acc             39667 non-null  int64  \n",
      " 25  pub_rec_bankruptcies  38970 non-null  float64\n",
      "dtypes: float64(4), int64(7), object(15)\n",
      "memory usage: 8.2+ MB\n"
     ]
    }
   ],
   "source": [
    "df.info()"
   ]
  },
  {
   "cell_type": "markdown",
   "id": "d12890c6",
   "metadata": {},
   "source": [
    "## change data types whereever necessary"
   ]
  },
  {
   "cell_type": "markdown",
   "id": "edcb3ae0",
   "metadata": {},
   "source": [
    " int_rate , earliest_cr_line, revol_util should be checked if they can be changed to int,float,  date time"
   ]
  },
  {
   "cell_type": "code",
   "execution_count": 299,
   "id": "090b7734",
   "metadata": {},
   "outputs": [
    {
     "data": {
      "text/plain": [
       "int_rate\n",
       "10.99%    956\n",
       "13.49%    826\n",
       "11.49%    825\n",
       "7.51%     787\n",
       "7.88%     725\n",
       "         ... \n",
       "17.34%      1\n",
       "16.71%      1\n",
       "16.15%      1\n",
       "18.36%      1\n",
       "14.67%      1\n",
       "Name: count, Length: 371, dtype: int64"
      ]
     },
     "execution_count": 299,
     "metadata": {},
     "output_type": "execute_result"
    }
   ],
   "source": [
    "df.int_rate.value_counts()"
   ]
  },
  {
   "cell_type": "code",
   "execution_count": 300,
   "id": "8374cf1c",
   "metadata": {},
   "outputs": [],
   "source": [
    "df.int_rate = df.int_rate.apply(lambda x: float(x.replace('%','')))"
   ]
  },
  {
   "cell_type": "code",
   "execution_count": 301,
   "id": "6781fb9b",
   "metadata": {},
   "outputs": [
    {
     "data": {
      "text/plain": [
       "revol_util\n",
       "0%        977\n",
       "0.20%      63\n",
       "63%        62\n",
       "40.70%     58\n",
       "66.70%     58\n",
       "         ... \n",
       "0.75%       1\n",
       "2.64%       1\n",
       "81.31%      1\n",
       "26.33%      1\n",
       "7.28%       1\n",
       "Name: count, Length: 1089, dtype: int64"
      ]
     },
     "execution_count": 301,
     "metadata": {},
     "output_type": "execute_result"
    }
   ],
   "source": [
    "df.revol_util.value_counts()"
   ]
  },
  {
   "cell_type": "code",
   "execution_count": 302,
   "id": "25f42be4",
   "metadata": {},
   "outputs": [],
   "source": [
    "df.revol_util = df.revol_util.apply(lambda x: float(x.replace('%','')))"
   ]
  },
  {
   "cell_type": "code",
   "execution_count": 303,
   "id": "69babffd",
   "metadata": {},
   "outputs": [
    {
     "data": {
      "text/plain": [
       "0        Jan-85\n",
       "1        Apr-99\n",
       "2        Nov-01\n",
       "3        Feb-96\n",
       "4        Jan-96\n",
       "          ...  \n",
       "39712    Nov-90\n",
       "39713    Dec-86\n",
       "39714    Oct-98\n",
       "39715    Nov-88\n",
       "39716    Oct-03\n",
       "Name: earliest_cr_line, Length: 39667, dtype: object"
      ]
     },
     "execution_count": 303,
     "metadata": {},
     "output_type": "execute_result"
    }
   ],
   "source": [
    "df.earliest_cr_line"
   ]
  },
  {
   "cell_type": "code",
   "execution_count": 304,
   "id": "facac6c7",
   "metadata": {},
   "outputs": [],
   "source": [
    "df.earliest_cr_line = pd.to_datetime(df.earliest_cr_line,format='%b-%y')"
   ]
  },
  {
   "cell_type": "code",
   "execution_count": 305,
   "id": "1360abb4",
   "metadata": {},
   "outputs": [
    {
     "name": "stdout",
     "output_type": "stream",
     "text": [
      "<class 'pandas.core.frame.DataFrame'>\n",
      "Index: 39667 entries, 0 to 39716\n",
      "Data columns (total 26 columns):\n",
      " #   Column                Non-Null Count  Dtype         \n",
      "---  ------                --------------  -----         \n",
      " 0   loan_amnt             39667 non-null  int64         \n",
      " 1   term                  39667 non-null  object        \n",
      " 2   int_rate              39667 non-null  float64       \n",
      " 3   installment           39667 non-null  float64       \n",
      " 4   grade                 39667 non-null  object        \n",
      " 5   sub_grade             39667 non-null  object        \n",
      " 6   emp_title             37212 non-null  object        \n",
      " 7   emp_length            38595 non-null  object        \n",
      " 8   home_ownership        39667 non-null  object        \n",
      " 9   annual_inc            39667 non-null  float64       \n",
      " 10  verification_status   39667 non-null  object        \n",
      " 11  loan_status           39667 non-null  object        \n",
      " 12  purpose               39667 non-null  object        \n",
      " 13  title                 39656 non-null  object        \n",
      " 14  zip_code              39667 non-null  object        \n",
      " 15  addr_state            39667 non-null  object        \n",
      " 16  dti                   39667 non-null  float64       \n",
      " 17  delinq_2yrs           39667 non-null  int64         \n",
      " 18  earliest_cr_line      39667 non-null  datetime64[ns]\n",
      " 19  inq_last_6mths        39667 non-null  int64         \n",
      " 20  open_acc              39667 non-null  int64         \n",
      " 21  pub_rec               39667 non-null  int64         \n",
      " 22  revol_bal             39667 non-null  int64         \n",
      " 23  revol_util            39667 non-null  float64       \n",
      " 24  total_acc             39667 non-null  int64         \n",
      " 25  pub_rec_bankruptcies  38970 non-null  float64       \n",
      "dtypes: datetime64[ns](1), float64(6), int64(7), object(12)\n",
      "memory usage: 8.2+ MB\n"
     ]
    }
   ],
   "source": [
    "df.info()"
   ]
  },
  {
   "cell_type": "code",
   "execution_count": 306,
   "id": "add01ccb",
   "metadata": {},
   "outputs": [
    {
     "data": {
      "text/html": [
       "<div>\n",
       "<style scoped>\n",
       "    .dataframe tbody tr th:only-of-type {\n",
       "        vertical-align: middle;\n",
       "    }\n",
       "\n",
       "    .dataframe tbody tr th {\n",
       "        vertical-align: top;\n",
       "    }\n",
       "\n",
       "    .dataframe thead th {\n",
       "        text-align: right;\n",
       "    }\n",
       "</style>\n",
       "<table border=\"1\" class=\"dataframe\">\n",
       "  <thead>\n",
       "    <tr style=\"text-align: right;\">\n",
       "      <th></th>\n",
       "      <th>loan_amnt</th>\n",
       "      <th>term</th>\n",
       "      <th>int_rate</th>\n",
       "      <th>installment</th>\n",
       "      <th>grade</th>\n",
       "      <th>sub_grade</th>\n",
       "      <th>emp_title</th>\n",
       "      <th>emp_length</th>\n",
       "      <th>home_ownership</th>\n",
       "      <th>annual_inc</th>\n",
       "      <th>...</th>\n",
       "      <th>dti</th>\n",
       "      <th>delinq_2yrs</th>\n",
       "      <th>earliest_cr_line</th>\n",
       "      <th>inq_last_6mths</th>\n",
       "      <th>open_acc</th>\n",
       "      <th>pub_rec</th>\n",
       "      <th>revol_bal</th>\n",
       "      <th>revol_util</th>\n",
       "      <th>total_acc</th>\n",
       "      <th>pub_rec_bankruptcies</th>\n",
       "    </tr>\n",
       "  </thead>\n",
       "  <tbody>\n",
       "    <tr>\n",
       "      <th>0</th>\n",
       "      <td>5000</td>\n",
       "      <td>36 months</td>\n",
       "      <td>10.65</td>\n",
       "      <td>162.87</td>\n",
       "      <td>B</td>\n",
       "      <td>B2</td>\n",
       "      <td>NaN</td>\n",
       "      <td>10+ years</td>\n",
       "      <td>RENT</td>\n",
       "      <td>24000.0</td>\n",
       "      <td>...</td>\n",
       "      <td>27.65</td>\n",
       "      <td>0</td>\n",
       "      <td>1985-01-01</td>\n",
       "      <td>1</td>\n",
       "      <td>3</td>\n",
       "      <td>0</td>\n",
       "      <td>13648</td>\n",
       "      <td>83.7</td>\n",
       "      <td>9</td>\n",
       "      <td>0.0</td>\n",
       "    </tr>\n",
       "    <tr>\n",
       "      <th>1</th>\n",
       "      <td>2500</td>\n",
       "      <td>60 months</td>\n",
       "      <td>15.27</td>\n",
       "      <td>59.83</td>\n",
       "      <td>C</td>\n",
       "      <td>C4</td>\n",
       "      <td>Ryder</td>\n",
       "      <td>&lt; 1 year</td>\n",
       "      <td>RENT</td>\n",
       "      <td>30000.0</td>\n",
       "      <td>...</td>\n",
       "      <td>1.00</td>\n",
       "      <td>0</td>\n",
       "      <td>1999-04-01</td>\n",
       "      <td>5</td>\n",
       "      <td>3</td>\n",
       "      <td>0</td>\n",
       "      <td>1687</td>\n",
       "      <td>9.4</td>\n",
       "      <td>4</td>\n",
       "      <td>0.0</td>\n",
       "    </tr>\n",
       "    <tr>\n",
       "      <th>2</th>\n",
       "      <td>2400</td>\n",
       "      <td>36 months</td>\n",
       "      <td>15.96</td>\n",
       "      <td>84.33</td>\n",
       "      <td>C</td>\n",
       "      <td>C5</td>\n",
       "      <td>NaN</td>\n",
       "      <td>10+ years</td>\n",
       "      <td>RENT</td>\n",
       "      <td>12252.0</td>\n",
       "      <td>...</td>\n",
       "      <td>8.72</td>\n",
       "      <td>0</td>\n",
       "      <td>2001-11-01</td>\n",
       "      <td>2</td>\n",
       "      <td>2</td>\n",
       "      <td>0</td>\n",
       "      <td>2956</td>\n",
       "      <td>98.5</td>\n",
       "      <td>10</td>\n",
       "      <td>0.0</td>\n",
       "    </tr>\n",
       "    <tr>\n",
       "      <th>3</th>\n",
       "      <td>10000</td>\n",
       "      <td>36 months</td>\n",
       "      <td>13.49</td>\n",
       "      <td>339.31</td>\n",
       "      <td>C</td>\n",
       "      <td>C1</td>\n",
       "      <td>AIR RESOURCES BOARD</td>\n",
       "      <td>10+ years</td>\n",
       "      <td>RENT</td>\n",
       "      <td>49200.0</td>\n",
       "      <td>...</td>\n",
       "      <td>20.00</td>\n",
       "      <td>0</td>\n",
       "      <td>1996-02-01</td>\n",
       "      <td>1</td>\n",
       "      <td>10</td>\n",
       "      <td>0</td>\n",
       "      <td>5598</td>\n",
       "      <td>21.0</td>\n",
       "      <td>37</td>\n",
       "      <td>0.0</td>\n",
       "    </tr>\n",
       "    <tr>\n",
       "      <th>4</th>\n",
       "      <td>3000</td>\n",
       "      <td>60 months</td>\n",
       "      <td>12.69</td>\n",
       "      <td>67.79</td>\n",
       "      <td>B</td>\n",
       "      <td>B5</td>\n",
       "      <td>University Medical Group</td>\n",
       "      <td>1 year</td>\n",
       "      <td>RENT</td>\n",
       "      <td>80000.0</td>\n",
       "      <td>...</td>\n",
       "      <td>17.94</td>\n",
       "      <td>0</td>\n",
       "      <td>1996-01-01</td>\n",
       "      <td>0</td>\n",
       "      <td>15</td>\n",
       "      <td>0</td>\n",
       "      <td>27783</td>\n",
       "      <td>53.9</td>\n",
       "      <td>38</td>\n",
       "      <td>0.0</td>\n",
       "    </tr>\n",
       "    <tr>\n",
       "      <th>...</th>\n",
       "      <td>...</td>\n",
       "      <td>...</td>\n",
       "      <td>...</td>\n",
       "      <td>...</td>\n",
       "      <td>...</td>\n",
       "      <td>...</td>\n",
       "      <td>...</td>\n",
       "      <td>...</td>\n",
       "      <td>...</td>\n",
       "      <td>...</td>\n",
       "      <td>...</td>\n",
       "      <td>...</td>\n",
       "      <td>...</td>\n",
       "      <td>...</td>\n",
       "      <td>...</td>\n",
       "      <td>...</td>\n",
       "      <td>...</td>\n",
       "      <td>...</td>\n",
       "      <td>...</td>\n",
       "      <td>...</td>\n",
       "      <td>...</td>\n",
       "    </tr>\n",
       "    <tr>\n",
       "      <th>39712</th>\n",
       "      <td>2500</td>\n",
       "      <td>36 months</td>\n",
       "      <td>8.07</td>\n",
       "      <td>78.42</td>\n",
       "      <td>A</td>\n",
       "      <td>A4</td>\n",
       "      <td>FiSite Research</td>\n",
       "      <td>4 years</td>\n",
       "      <td>MORTGAGE</td>\n",
       "      <td>110000.0</td>\n",
       "      <td>...</td>\n",
       "      <td>11.33</td>\n",
       "      <td>0</td>\n",
       "      <td>1990-11-01</td>\n",
       "      <td>0</td>\n",
       "      <td>13</td>\n",
       "      <td>0</td>\n",
       "      <td>7274</td>\n",
       "      <td>13.1</td>\n",
       "      <td>40</td>\n",
       "      <td>NaN</td>\n",
       "    </tr>\n",
       "    <tr>\n",
       "      <th>39713</th>\n",
       "      <td>8500</td>\n",
       "      <td>36 months</td>\n",
       "      <td>10.28</td>\n",
       "      <td>275.38</td>\n",
       "      <td>C</td>\n",
       "      <td>C1</td>\n",
       "      <td>Squarewave Solutions, Ltd.</td>\n",
       "      <td>3 years</td>\n",
       "      <td>RENT</td>\n",
       "      <td>18000.0</td>\n",
       "      <td>...</td>\n",
       "      <td>6.40</td>\n",
       "      <td>1</td>\n",
       "      <td>1986-12-01</td>\n",
       "      <td>1</td>\n",
       "      <td>6</td>\n",
       "      <td>0</td>\n",
       "      <td>8847</td>\n",
       "      <td>26.9</td>\n",
       "      <td>9</td>\n",
       "      <td>NaN</td>\n",
       "    </tr>\n",
       "    <tr>\n",
       "      <th>39714</th>\n",
       "      <td>5000</td>\n",
       "      <td>36 months</td>\n",
       "      <td>8.07</td>\n",
       "      <td>156.84</td>\n",
       "      <td>A</td>\n",
       "      <td>A4</td>\n",
       "      <td>NaN</td>\n",
       "      <td>&lt; 1 year</td>\n",
       "      <td>MORTGAGE</td>\n",
       "      <td>100000.0</td>\n",
       "      <td>...</td>\n",
       "      <td>2.30</td>\n",
       "      <td>0</td>\n",
       "      <td>1998-10-01</td>\n",
       "      <td>0</td>\n",
       "      <td>11</td>\n",
       "      <td>0</td>\n",
       "      <td>9698</td>\n",
       "      <td>19.4</td>\n",
       "      <td>20</td>\n",
       "      <td>NaN</td>\n",
       "    </tr>\n",
       "    <tr>\n",
       "      <th>39715</th>\n",
       "      <td>5000</td>\n",
       "      <td>36 months</td>\n",
       "      <td>7.43</td>\n",
       "      <td>155.38</td>\n",
       "      <td>A</td>\n",
       "      <td>A2</td>\n",
       "      <td>NaN</td>\n",
       "      <td>&lt; 1 year</td>\n",
       "      <td>MORTGAGE</td>\n",
       "      <td>200000.0</td>\n",
       "      <td>...</td>\n",
       "      <td>3.72</td>\n",
       "      <td>0</td>\n",
       "      <td>1988-11-01</td>\n",
       "      <td>0</td>\n",
       "      <td>17</td>\n",
       "      <td>0</td>\n",
       "      <td>85607</td>\n",
       "      <td>0.7</td>\n",
       "      <td>26</td>\n",
       "      <td>NaN</td>\n",
       "    </tr>\n",
       "    <tr>\n",
       "      <th>39716</th>\n",
       "      <td>7500</td>\n",
       "      <td>36 months</td>\n",
       "      <td>13.75</td>\n",
       "      <td>255.43</td>\n",
       "      <td>E</td>\n",
       "      <td>E2</td>\n",
       "      <td>Evergreen Center</td>\n",
       "      <td>&lt; 1 year</td>\n",
       "      <td>OWN</td>\n",
       "      <td>22000.0</td>\n",
       "      <td>...</td>\n",
       "      <td>14.29</td>\n",
       "      <td>1</td>\n",
       "      <td>2003-10-01</td>\n",
       "      <td>0</td>\n",
       "      <td>7</td>\n",
       "      <td>0</td>\n",
       "      <td>4175</td>\n",
       "      <td>51.5</td>\n",
       "      <td>8</td>\n",
       "      <td>NaN</td>\n",
       "    </tr>\n",
       "  </tbody>\n",
       "</table>\n",
       "<p>39667 rows × 26 columns</p>\n",
       "</div>"
      ],
      "text/plain": [
       "       loan_amnt        term  int_rate  installment grade sub_grade  \\\n",
       "0           5000   36 months     10.65       162.87     B        B2   \n",
       "1           2500   60 months     15.27        59.83     C        C4   \n",
       "2           2400   36 months     15.96        84.33     C        C5   \n",
       "3          10000   36 months     13.49       339.31     C        C1   \n",
       "4           3000   60 months     12.69        67.79     B        B5   \n",
       "...          ...         ...       ...          ...   ...       ...   \n",
       "39712       2500   36 months      8.07        78.42     A        A4   \n",
       "39713       8500   36 months     10.28       275.38     C        C1   \n",
       "39714       5000   36 months      8.07       156.84     A        A4   \n",
       "39715       5000   36 months      7.43       155.38     A        A2   \n",
       "39716       7500   36 months     13.75       255.43     E        E2   \n",
       "\n",
       "                        emp_title emp_length home_ownership  annual_inc  ...  \\\n",
       "0                             NaN  10+ years           RENT     24000.0  ...   \n",
       "1                           Ryder   < 1 year           RENT     30000.0  ...   \n",
       "2                             NaN  10+ years           RENT     12252.0  ...   \n",
       "3             AIR RESOURCES BOARD  10+ years           RENT     49200.0  ...   \n",
       "4        University Medical Group     1 year           RENT     80000.0  ...   \n",
       "...                           ...        ...            ...         ...  ...   \n",
       "39712             FiSite Research    4 years       MORTGAGE    110000.0  ...   \n",
       "39713  Squarewave Solutions, Ltd.    3 years           RENT     18000.0  ...   \n",
       "39714                         NaN   < 1 year       MORTGAGE    100000.0  ...   \n",
       "39715                         NaN   < 1 year       MORTGAGE    200000.0  ...   \n",
       "39716            Evergreen Center   < 1 year            OWN     22000.0  ...   \n",
       "\n",
       "         dti delinq_2yrs earliest_cr_line inq_last_6mths open_acc pub_rec  \\\n",
       "0      27.65           0       1985-01-01              1        3       0   \n",
       "1       1.00           0       1999-04-01              5        3       0   \n",
       "2       8.72           0       2001-11-01              2        2       0   \n",
       "3      20.00           0       1996-02-01              1       10       0   \n",
       "4      17.94           0       1996-01-01              0       15       0   \n",
       "...      ...         ...              ...            ...      ...     ...   \n",
       "39712  11.33           0       1990-11-01              0       13       0   \n",
       "39713   6.40           1       1986-12-01              1        6       0   \n",
       "39714   2.30           0       1998-10-01              0       11       0   \n",
       "39715   3.72           0       1988-11-01              0       17       0   \n",
       "39716  14.29           1       2003-10-01              0        7       0   \n",
       "\n",
       "       revol_bal  revol_util total_acc  pub_rec_bankruptcies  \n",
       "0          13648        83.7         9                   0.0  \n",
       "1           1687         9.4         4                   0.0  \n",
       "2           2956        98.5        10                   0.0  \n",
       "3           5598        21.0        37                   0.0  \n",
       "4          27783        53.9        38                   0.0  \n",
       "...          ...         ...       ...                   ...  \n",
       "39712       7274        13.1        40                   NaN  \n",
       "39713       8847        26.9         9                   NaN  \n",
       "39714       9698        19.4        20                   NaN  \n",
       "39715      85607         0.7        26                   NaN  \n",
       "39716       4175        51.5         8                   NaN  \n",
       "\n",
       "[39667 rows x 26 columns]"
      ]
     },
     "execution_count": 306,
     "metadata": {},
     "output_type": "execute_result"
    }
   ],
   "source": [
    "df"
   ]
  },
  {
   "cell_type": "markdown",
   "id": "e74644d1",
   "metadata": {},
   "source": [
    "###  lets start analysis"
   ]
  },
  {
   "cell_type": "code",
   "execution_count": 307,
   "id": "d0129b6d",
   "metadata": {},
   "outputs": [],
   "source": [
    "import matplotlib.pyplot as plt\n",
    "import seaborn as sns"
   ]
  },
  {
   "cell_type": "markdown",
   "id": "286e602b",
   "metadata": {},
   "source": [
    "## Consumer Attributes and loan attributes\n"
   ]
  },
  {
   "cell_type": "code",
   "execution_count": 308,
   "id": "9aacff12",
   "metadata": {},
   "outputs": [],
   "source": [
    "ca = ['emp_title','emp_length','home_ownership','verification_status','purpose','title','zip_code','addr_state','dti','delinq_2yrs','earliest_cr_line','inq_last_6mths','open_acc','pub_rec','revol_bal','revol_util','total_acc','pub_rec_bankruptcies']\n",
    "la = ['loan_amnt','term','int_rate','installment','grade','sub_grade']"
   ]
  },
  {
   "cell_type": "markdown",
   "id": "be3e8e5a",
   "metadata": {},
   "source": [
    "### lets filter out defaulters and fully paid from this"
   ]
  },
  {
   "cell_type": "markdown",
   "id": "4273e2af",
   "metadata": {},
   "source": [
    "<b>loan attribute </b>"
   ]
  },
  {
   "cell_type": "code",
   "execution_count": 309,
   "id": "2a48e580",
   "metadata": {},
   "outputs": [],
   "source": [
    "df_def = df[df['loan_status'] == 'Charged Off']\n",
    "df_fp = df[df['loan_status'] == 'Fully Paid']"
   ]
  },
  {
   "cell_type": "code",
   "execution_count": 310,
   "id": "54fd0b17",
   "metadata": {
    "scrolled": true
   },
   "outputs": [
    {
     "data": {
      "text/plain": [
       "<Axes: xlabel='grade'>"
      ]
     },
     "execution_count": 310,
     "metadata": {},
     "output_type": "execute_result"
    },
    {
     "data": {
      "image/png": "[encoded data removed]",
      "text/plain": [
       "<Figure size 432x288 with 1 Axes>"
      ]
     },
     "metadata": {
      "needs_background": "light"
     },
     "output_type": "display_data"
    }
   ],
   "source": [
    "df_def1 = df_def.grade.value_counts().sort_index()\n",
    "df_fp1 = df_fp.grade.value_counts().sort_index()\n",
    "df_grade = pd.DataFrame({'Defaulters':df_def1.values,'Fully Paid':df_fp1.values},df_def1.index)\n",
    "df_grade.plot(kind='bar',stacked=True)"
   ]
  },
  {
   "cell_type": "code",
   "execution_count": 311,
   "id": "4a7353aa",
   "metadata": {},
   "outputs": [
    {
     "data": {
      "text/plain": [
       "<Axes: xlabel='sub_grade'>"
      ]
     },
     "execution_count": 311,
     "metadata": {},
     "output_type": "execute_result"
    },
    {
     "data": {
      "image/png": "[encoded data removed]",
      "text/plain": [
       "<Figure size 1080x432 with 1 Axes>"
      ]
     },
     "metadata": {
      "needs_background": "light"
     },
     "output_type": "display_data"
    }
   ],
   "source": [
    "df_def1 = df_def.sub_grade.value_counts().sort_index()\n",
    "df_fp1 = df_fp.sub_grade.value_counts().sort_index()\n",
    "df_grade = pd.DataFrame({'Defaulters':df_def1.values,'Fully Paid':df_fp1.values},df_def1.index)\n",
    "df_grade.plot(kind='bar',stacked=True,figsize=(15,6))"
   ]
  },
  {
   "cell_type": "code",
   "execution_count": 312,
   "id": "526d5820",
   "metadata": {},
   "outputs": [
    {
     "data": {
      "text/plain": [
       "<Axes: xlabel='loan_status', ylabel='installment'>"
      ]
     },
     "execution_count": 312,
     "metadata": {},
     "output_type": "execute_result"
    },
    {
     "data": {
      "image/png": "[encoded data removed]",
      "text/plain": [
       "<Figure size 432x288 with 1 Axes>"
      ]
     },
     "metadata": {
      "needs_background": "light"
     },
     "output_type": "display_data"
    }
   ],
   "source": [
    "# grade box plot\n",
    "sns.boxplot(y=df[df.installment < 1000].installment,x=df.loan_status)"
   ]
  },
  {
   "cell_type": "code",
   "execution_count": 313,
   "id": "97415c1a",
   "metadata": {
    "scrolled": true
   },
   "outputs": [
    {
     "data": {
      "text/plain": [
       "<Axes: xlabel='loan_status', ylabel='int_rate'>"
      ]
     },
     "execution_count": 313,
     "metadata": {},
     "output_type": "execute_result"
    },
    {
     "data": {
      "image/png": "[encoded data removed]",
      "text/plain": [
       "<Figure size 432x288 with 1 Axes>"
      ]
     },
     "metadata": {
      "needs_background": "light"
     },
     "output_type": "display_data"
    }
   ],
   "source": [
    "sns.boxplot(y=df.int_rate,x=df.loan_status)"
   ]
  },
  {
   "cell_type": "code",
   "execution_count": 314,
   "id": "6c06f386",
   "metadata": {
    "scrolled": true
   },
   "outputs": [
    {
     "data": {
      "text/plain": [
       "count    39667.000000\n",
       "mean        12.016587\n",
       "std          3.723856\n",
       "min          5.420000\n",
       "25%          9.250000\n",
       "50%         11.830000\n",
       "75%         14.540000\n",
       "max         24.590000\n",
       "Name: int_rate, dtype: float64"
      ]
     },
     "execution_count": 314,
     "metadata": {},
     "output_type": "execute_result"
    }
   ],
   "source": [
    "df.int_rate.describe()"
   ]
  },
  {
   "cell_type": "code",
   "execution_count": 315,
   "id": "858b7d02",
   "metadata": {},
   "outputs": [],
   "source": [
    "df['ir_cat'] = pd.cut(df.int_rate,bins=[5.00,9.25,14.54,25],labels=['low','medium','high'])\n",
    "df_def = df[df['loan_status'] == 'Charged Off']\n",
    "df_fp = df[df['loan_status'] == 'Fully Paid']"
   ]
  },
  {
   "cell_type": "code",
   "execution_count": 316,
   "id": "bd49d98e",
   "metadata": {},
   "outputs": [
    {
     "data": {
      "text/plain": [
       "<Axes: xlabel='ir_cat'>"
      ]
     },
     "execution_count": 316,
     "metadata": {},
     "output_type": "execute_result"
    },
    {
     "data": {
      "image/png": "[encoded data removed]",
      "text/plain": [
       "<Figure size 576x576 with 1 Axes>"
      ]
     },
     "metadata": {
      "needs_background": "light"
     },
     "output_type": "display_data"
    }
   ],
   "source": [
    "pd.DataFrame({'Defaulter':df_def.ir_cat.value_counts().sort_index().values,'Fully Paid':df_fp.ir_cat.value_counts().sort_index().values},df_fp.ir_cat.value_counts().sort_index().index).plot(kind='bar',stacked=True,figsize=(8,8))"
   ]
  },
  {
   "cell_type": "code",
   "execution_count": 317,
   "id": "89e824b5",
   "metadata": {},
   "outputs": [
    {
     "data": {
      "text/plain": [
       "<Axes: xlabel='loan_status', ylabel='loan_amnt'>"
      ]
     },
     "execution_count": 317,
     "metadata": {},
     "output_type": "execute_result"
    },
    {
     "data": {
      "image/png": "[encoded data removed]",
      "text/plain": [
       "<Figure size 432x288 with 1 Axes>"
      ]
     },
     "metadata": {
      "needs_background": "light"
     },
     "output_type": "display_data"
    }
   ],
   "source": [
    "sns.boxplot(y=df.loan_amnt,x=df.loan_status)"
   ]
  },
  {
   "cell_type": "code",
   "execution_count": 318,
   "id": "0b73ef2a",
   "metadata": {},
   "outputs": [
    {
     "data": {
      "text/plain": [
       "<Axes: xlabel='term'>"
      ]
     },
     "execution_count": 318,
     "metadata": {},
     "output_type": "execute_result"
    },
    {
     "data": {
      "image/png": "[encoded data removed]",
      "text/plain": [
       "<Figure size 720x432 with 1 Axes>"
      ]
     },
     "metadata": {
      "needs_background": "light"
     },
     "output_type": "display_data"
    }
   ],
   "source": [
    "df1 = df.groupby(['term','loan_status']).count().reset_index()\n",
    "pd.pivot_table(df1,values='int_rate',index='term',columns='loan_status',aggfunc='max',fill_value=0).plot(kind='bar',stacked=True,figsize=(10,6))"
   ]
  },
  {
   "cell_type": "code",
   "execution_count": 319,
   "id": "eb673104",
   "metadata": {},
   "outputs": [
    {
     "data": {
      "text/plain": [
       "<Axes: xlabel='loan_status', ylabel='loan_amnt'>"
      ]
     },
     "execution_count": 319,
     "metadata": {},
     "output_type": "execute_result"
    },
    {
     "data": {
      "image/png": "[encoded data removed]",
      "text/plain": [
       "<Figure size 432x288 with 1 Axes>"
      ]
     },
     "metadata": {
      "needs_background": "light"
     },
     "output_type": "display_data"
    }
   ],
   "source": [
    "sns.boxplot(x='loan_status', y='loan_amnt', data=df)\n"
   ]
  },
  {
   "cell_type": "markdown",
   "id": "0a192155",
   "metadata": {},
   "source": [
    "ca = ['emp_title','emp_length','home_ownership','verification_status','purpose','title','zip_code', <bR>\n",
    "'addr_state','dti','delinq_2yrs','earliest_cr_line','inq_last_6mths',<br>\n",
    "'open_acc','pub_rec','revol_bal','revol_util','total_acc','pub_rec_bankruptcies']\n"
   ]
  },
  {
   "cell_type": "code",
   "execution_count": 320,
   "id": "35842623",
   "metadata": {},
   "outputs": [],
   "source": [
    "df.emp_length = df.emp_length.str.rstrip(' year').str.rstrip(' years').str.replace('10+','15').replace('< 1','0.5').str.strip(' ').fillna('0').astype('float')\n"
   ]
  },
  {
   "cell_type": "code",
   "execution_count": 321,
   "id": "a84dbcaf",
   "metadata": {},
   "outputs": [
    {
     "data": {
      "text/plain": [
       "emp_length\n",
       "15.0    8878\n",
       "0.5     4571\n",
       "2.0     4383\n",
       "3.0     4091\n",
       "4.0     3429\n",
       "5.0     3278\n",
       "1.0     3234\n",
       "6.0     2226\n",
       "7.0     1770\n",
       "8.0     1477\n",
       "9.0     1258\n",
       "0.0     1072\n",
       "Name: count, dtype: int64"
      ]
     },
     "execution_count": 321,
     "metadata": {},
     "output_type": "execute_result"
    }
   ],
   "source": [
    "df.emp_length.value_counts()"
   ]
  },
  {
   "cell_type": "code",
   "execution_count": 322,
   "id": "3c61eca6",
   "metadata": {},
   "outputs": [
    {
     "data": {
      "text/plain": [
       "<Axes: xlabel='emp_length'>"
      ]
     },
     "execution_count": 322,
     "metadata": {},
     "output_type": "execute_result"
    },
    {
     "data": {
      "image/png": "[encoded data removed]",
      "text/plain": [
       "<Figure size 432x288 with 1 Axes>"
      ]
     },
     "metadata": {
      "needs_background": "light"
     },
     "output_type": "display_data"
    }
   ],
   "source": [
    "sns.barplot(x=df['emp_length'].value_counts().index, y=df['emp_length'].value_counts().values)\n"
   ]
  },
  {
   "cell_type": "code",
   "execution_count": 323,
   "id": "59069367",
   "metadata": {},
   "outputs": [
    {
     "data": {
      "text/html": [
       "<div>\n",
       "<style scoped>\n",
       "    .dataframe tbody tr th:only-of-type {\n",
       "        vertical-align: middle;\n",
       "    }\n",
       "\n",
       "    .dataframe tbody tr th {\n",
       "        vertical-align: top;\n",
       "    }\n",
       "\n",
       "    .dataframe thead th {\n",
       "        text-align: right;\n",
       "    }\n",
       "</style>\n",
       "<table border=\"1\" class=\"dataframe\">\n",
       "  <thead>\n",
       "    <tr style=\"text-align: right;\">\n",
       "      <th>loan_status</th>\n",
       "      <th>Charged Off</th>\n",
       "      <th>Current</th>\n",
       "      <th>Fully Paid</th>\n",
       "    </tr>\n",
       "    <tr>\n",
       "      <th>emp_length</th>\n",
       "      <th></th>\n",
       "      <th></th>\n",
       "      <th></th>\n",
       "    </tr>\n",
       "  </thead>\n",
       "  <tbody>\n",
       "    <tr>\n",
       "      <th>0.0</th>\n",
       "      <td>227</td>\n",
       "      <td>42</td>\n",
       "      <td>803</td>\n",
       "    </tr>\n",
       "    <tr>\n",
       "      <th>0.5</th>\n",
       "      <td>635</td>\n",
       "      <td>75</td>\n",
       "      <td>3861</td>\n",
       "    </tr>\n",
       "    <tr>\n",
       "      <th>1.0</th>\n",
       "      <td>453</td>\n",
       "      <td>71</td>\n",
       "      <td>2710</td>\n",
       "    </tr>\n",
       "    <tr>\n",
       "      <th>2.0</th>\n",
       "      <td>566</td>\n",
       "      <td>97</td>\n",
       "      <td>3720</td>\n",
       "    </tr>\n",
       "    <tr>\n",
       "      <th>3.0</th>\n",
       "      <td>555</td>\n",
       "      <td>83</td>\n",
       "      <td>3453</td>\n",
       "    </tr>\n",
       "    <tr>\n",
       "      <th>4.0</th>\n",
       "      <td>460</td>\n",
       "      <td>94</td>\n",
       "      <td>2875</td>\n",
       "    </tr>\n",
       "    <tr>\n",
       "      <th>5.0</th>\n",
       "      <td>457</td>\n",
       "      <td>88</td>\n",
       "      <td>2733</td>\n",
       "    </tr>\n",
       "    <tr>\n",
       "      <th>6.0</th>\n",
       "      <td>305</td>\n",
       "      <td>61</td>\n",
       "      <td>1860</td>\n",
       "    </tr>\n",
       "    <tr>\n",
       "      <th>7.0</th>\n",
       "      <td>263</td>\n",
       "      <td>62</td>\n",
       "      <td>1445</td>\n",
       "    </tr>\n",
       "    <tr>\n",
       "      <th>8.0</th>\n",
       "      <td>202</td>\n",
       "      <td>44</td>\n",
       "      <td>1231</td>\n",
       "    </tr>\n",
       "    <tr>\n",
       "      <th>9.0</th>\n",
       "      <td>158</td>\n",
       "      <td>32</td>\n",
       "      <td>1068</td>\n",
       "    </tr>\n",
       "    <tr>\n",
       "      <th>15.0</th>\n",
       "      <td>1330</td>\n",
       "      <td>391</td>\n",
       "      <td>7157</td>\n",
       "    </tr>\n",
       "  </tbody>\n",
       "</table>\n",
       "</div>"
      ],
      "text/plain": [
       "loan_status  Charged Off  Current  Fully Paid\n",
       "emp_length                                   \n",
       "0.0                  227       42         803\n",
       "0.5                  635       75        3861\n",
       "1.0                  453       71        2710\n",
       "2.0                  566       97        3720\n",
       "3.0                  555       83        3453\n",
       "4.0                  460       94        2875\n",
       "5.0                  457       88        2733\n",
       "6.0                  305       61        1860\n",
       "7.0                  263       62        1445\n",
       "8.0                  202       44        1231\n",
       "9.0                  158       32        1068\n",
       "15.0                1330      391        7157"
      ]
     },
     "execution_count": 323,
     "metadata": {},
     "output_type": "execute_result"
    }
   ],
   "source": [
    "df1 = pd.pivot_table(df.groupby(['emp_length','loan_status']).count(),values='int_rate',index='emp_length',columns='loan_status',aggfunc='max')\n",
    "df1"
   ]
  },
  {
   "cell_type": "code",
   "execution_count": 324,
   "id": "96028b65",
   "metadata": {},
   "outputs": [
    {
     "data": {
      "text/plain": [
       "<Axes: xlabel='emp_length'>"
      ]
     },
     "execution_count": 324,
     "metadata": {},
     "output_type": "execute_result"
    },
    {
     "data": {
      "image/png": "[encoded data removed]",
      "text/plain": [
       "<Figure size 432x288 with 1 Axes>"
      ]
     },
     "metadata": {
      "needs_background": "light"
     },
     "output_type": "display_data"
    }
   ],
   "source": [
    "df1.plot()"
   ]
  },
  {
   "cell_type": "code",
   "execution_count": 325,
   "id": "f06e34b7",
   "metadata": {},
   "outputs": [
    {
     "data": {
      "text/plain": [
       "<Axes: xlabel='emp_length'>"
      ]
     },
     "execution_count": 325,
     "metadata": {},
     "output_type": "execute_result"
    },
    {
     "data": {
      "image/png": "[encoded data removed]",
      "text/plain": [
       "<Figure size 936x936 with 1 Axes>"
      ]
     },
     "metadata": {
      "needs_background": "light"
     },
     "output_type": "display_data"
    }
   ],
   "source": [
    "df1.plot(kind='bar',figsize=(13,13))"
   ]
  },
  {
   "cell_type": "code",
   "execution_count": 353,
   "id": "61950efe",
   "metadata": {},
   "outputs": [
    {
     "data": {
      "text/html": [
       "<div>\n",
       "<style scoped>\n",
       "    .dataframe tbody tr th:only-of-type {\n",
       "        vertical-align: middle;\n",
       "    }\n",
       "\n",
       "    .dataframe tbody tr th {\n",
       "        vertical-align: top;\n",
       "    }\n",
       "\n",
       "    .dataframe thead th {\n",
       "        text-align: right;\n",
       "    }\n",
       "</style>\n",
       "<table border=\"1\" class=\"dataframe\">\n",
       "  <thead>\n",
       "    <tr style=\"text-align: right;\">\n",
       "      <th>loan_status</th>\n",
       "      <th>Charged Off</th>\n",
       "      <th>Current</th>\n",
       "      <th>Fully Paid</th>\n",
       "    </tr>\n",
       "    <tr>\n",
       "      <th>home_ownership</th>\n",
       "      <th></th>\n",
       "      <th></th>\n",
       "      <th></th>\n",
       "    </tr>\n",
       "  </thead>\n",
       "  <tbody>\n",
       "    <tr>\n",
       "      <th>MORTGAGE</th>\n",
       "      <td>2323.0</td>\n",
       "      <td>638.0</td>\n",
       "      <td>14687.0</td>\n",
       "    </tr>\n",
       "    <tr>\n",
       "      <th>NONE</th>\n",
       "      <td>NaN</td>\n",
       "      <td>NaN</td>\n",
       "      <td>3.0</td>\n",
       "    </tr>\n",
       "    <tr>\n",
       "      <th>OTHER</th>\n",
       "      <td>18.0</td>\n",
       "      <td>NaN</td>\n",
       "      <td>78.0</td>\n",
       "    </tr>\n",
       "    <tr>\n",
       "      <th>OWN</th>\n",
       "      <td>441.0</td>\n",
       "      <td>83.0</td>\n",
       "      <td>2529.0</td>\n",
       "    </tr>\n",
       "    <tr>\n",
       "      <th>RENT</th>\n",
       "      <td>2829.0</td>\n",
       "      <td>419.0</td>\n",
       "      <td>15619.0</td>\n",
       "    </tr>\n",
       "  </tbody>\n",
       "</table>\n",
       "</div>"
      ],
      "text/plain": [
       "loan_status     Charged Off  Current  Fully Paid\n",
       "home_ownership                                  \n",
       "MORTGAGE             2323.0    638.0     14687.0\n",
       "NONE                    NaN      NaN         3.0\n",
       "OTHER                  18.0      NaN        78.0\n",
       "OWN                   441.0     83.0      2529.0\n",
       "RENT                 2829.0    419.0     15619.0"
      ]
     },
     "execution_count": 353,
     "metadata": {},
     "output_type": "execute_result"
    }
   ],
   "source": [
    "df1 = pd.pivot_table(df.groupby(['home_ownership','loan_status']).count(),values='int_rate',index='home_ownership',columns='loan_status',aggfunc='max')\n",
    "df1\n"
   ]
  },
  {
   "cell_type": "code",
   "execution_count": 354,
   "id": "1a837527",
   "metadata": {},
   "outputs": [
    {
     "data": {
      "text/plain": [
       "<Axes: xlabel='home_ownership'>"
      ]
     },
     "execution_count": 354,
     "metadata": {},
     "output_type": "execute_result"
    },
    {
     "data": {
      "image/png": "[encoded data removed]",
      "text/plain": [
       "<Figure size 720x720 with 1 Axes>"
      ]
     },
     "metadata": {
      "needs_background": "light"
     },
     "output_type": "display_data"
    }
   ],
   "source": [
    "df1.plot(kind='bar',stacked=True,figsize=(10,10))"
   ]
  },
  {
   "cell_type": "code",
   "execution_count": 356,
   "id": "b015b5a6",
   "metadata": {},
   "outputs": [
    {
     "data": {
      "text/html": [
       "<div>\n",
       "<style scoped>\n",
       "    .dataframe tbody tr th:only-of-type {\n",
       "        vertical-align: middle;\n",
       "    }\n",
       "\n",
       "    .dataframe tbody tr th {\n",
       "        vertical-align: top;\n",
       "    }\n",
       "\n",
       "    .dataframe thead th {\n",
       "        text-align: right;\n",
       "    }\n",
       "</style>\n",
       "<table border=\"1\" class=\"dataframe\">\n",
       "  <thead>\n",
       "    <tr style=\"text-align: right;\">\n",
       "      <th>loan_status</th>\n",
       "      <th>Charged Off</th>\n",
       "      <th>Current</th>\n",
       "      <th>Fully Paid</th>\n",
       "    </tr>\n",
       "    <tr>\n",
       "      <th>verification_status</th>\n",
       "      <th></th>\n",
       "      <th></th>\n",
       "      <th></th>\n",
       "    </tr>\n",
       "  </thead>\n",
       "  <tbody>\n",
       "    <tr>\n",
       "      <th>Not Verified</th>\n",
       "      <td>2135</td>\n",
       "      <td>227</td>\n",
       "      <td>14530</td>\n",
       "    </tr>\n",
       "    <tr>\n",
       "      <th>Source Verified</th>\n",
       "      <td>1431</td>\n",
       "      <td>310</td>\n",
       "      <td>8235</td>\n",
       "    </tr>\n",
       "    <tr>\n",
       "      <th>Verified</th>\n",
       "      <td>2045</td>\n",
       "      <td>603</td>\n",
       "      <td>10151</td>\n",
       "    </tr>\n",
       "  </tbody>\n",
       "</table>\n",
       "</div>"
      ],
      "text/plain": [
       "loan_status          Charged Off  Current  Fully Paid\n",
       "verification_status                                  \n",
       "Not Verified                2135      227       14530\n",
       "Source Verified             1431      310        8235\n",
       "Verified                    2045      603       10151"
      ]
     },
     "execution_count": 356,
     "metadata": {},
     "output_type": "execute_result"
    }
   ],
   "source": [
    "df1 = pd.pivot_table(df.groupby(['verification_status','loan_status']).count(),values='int_rate',index='verification_status',columns='loan_status',aggfunc='max')\n",
    "df1\n",
    "\n"
   ]
  },
  {
   "cell_type": "code",
   "execution_count": 357,
   "id": "410cac0a",
   "metadata": {},
   "outputs": [
    {
     "data": {
      "text/plain": [
       "<Axes: xlabel='verification_status'>"
      ]
     },
     "execution_count": 357,
     "metadata": {},
     "output_type": "execute_result"
    },
    {
     "data": {
      "image/png": "[encoded data removed]",
      "text/plain": [
       "<Figure size 432x288 with 1 Axes>"
      ]
     },
     "metadata": {
      "needs_background": "light"
     },
     "output_type": "display_data"
    }
   ],
   "source": [
    "df1.plot(kind='bar',stacked=True)"
   ]
  },
  {
   "cell_type": "code",
   "execution_count": 362,
   "id": "a764abf7",
   "metadata": {},
   "outputs": [
    {
     "data": {
      "text/plain": [
       "addr_state\n",
       "CA    7092\n",
       "NY    3811\n",
       "FL    2865\n",
       "TX    2723\n",
       "NJ    1845\n",
       "IL    1524\n",
       "PA    1513\n",
       "VA    1406\n",
       "GA    1398\n",
       "MA    1339\n",
       "OH    1219\n",
       "MD    1047\n",
       "AZ     876\n",
       "WA     839\n",
       "CO     792\n",
       "NC     787\n",
       "CT     751\n",
       "MI     720\n",
       "MO     685\n",
       "MN     613\n",
       "NV     496\n",
       "SC     472\n",
       "WI     459\n",
       "AL     451\n",
       "OR     450\n",
       "LA     436\n",
       "KY     325\n",
       "OK     299\n",
       "KS     270\n",
       "UT     258\n",
       "AR     244\n",
       "DC     212\n",
       "RI     198\n",
       "NM     189\n",
       "WV     177\n",
       "HI     173\n",
       "NH     171\n",
       "DE     113\n",
       "MT      85\n",
       "WY      83\n",
       "AK      80\n",
       "SD      63\n",
       "VT      54\n",
       "MS      19\n",
       "TN      17\n",
       "IN       9\n",
       "ID       6\n",
       "IA       5\n",
       "NE       5\n",
       "ME       3\n",
       "Name: count, dtype: int64"
      ]
     },
     "execution_count": 362,
     "metadata": {},
     "output_type": "execute_result"
    }
   ],
   "source": [
    "df.addr_state.value_counts()"
   ]
  },
  {
   "cell_type": "code",
   "execution_count": 372,
   "id": "f2e631cf",
   "metadata": {},
   "outputs": [
    {
     "data": {
      "text/plain": [
       "<Axes: xlabel='loan_status', ylabel='dti'>"
      ]
     },
     "execution_count": 372,
     "metadata": {},
     "output_type": "execute_result"
    },
    {
     "data": {
      "image/png": "[encoded data removed]",
      "text/plain": [
       "<Figure size 720x432 with 1 Axes>"
      ]
     },
     "metadata": {
      "needs_background": "light"
     },
     "output_type": "display_data"
    }
   ],
   "source": [
    "plt.figure(figsize=(10, 6))\n",
    "sns.boxplot(x='loan_status', y='dti', data=df)"
   ]
  },
  {
   "cell_type": "code",
   "execution_count": 379,
   "id": "85b3c3ff",
   "metadata": {},
   "outputs": [
    {
     "data": {
      "text/plain": [
       "<Axes: xlabel='loan_status', ylabel='pub_rec_bankruptcies'>"
      ]
     },
     "execution_count": 379,
     "metadata": {},
     "output_type": "execute_result"
    },
    {
     "data": {
      "image/png": "[encoded data removed]",
      "text/plain": [
       "<Figure size 720x432 with 1 Axes>"
      ]
     },
     "metadata": {
      "needs_background": "light"
     },
     "output_type": "display_data"
    }
   ],
   "source": [
    "plt.figure(figsize=(10, 6))\n",
    "sns.barplot(x='loan_status', y='pub_rec_bankruptcies', data=df)"
   ]
  },
  {
   "cell_type": "code",
   "execution_count": 383,
   "id": "91a56e32",
   "metadata": {},
   "outputs": [
    {
     "data": {
      "text/plain": [
       "<Axes: xlabel='loan_status', ylabel='revol_util'>"
      ]
     },
     "execution_count": 383,
     "metadata": {},
     "output_type": "execute_result"
    },
    {
     "data": {
      "image/png": "[encoded data removed]",
      "text/plain": [
       "<Figure size 720x432 with 1 Axes>"
      ]
     },
     "metadata": {
      "needs_background": "light"
     },
     "output_type": "display_data"
    }
   ],
   "source": [
    "plt.figure(figsize=(10, 6))\n",
    "sns.boxplot(x='loan_status', y='revol_util', data=df)\n"
   ]
  },
  {
   "cell_type": "code",
   "execution_count": 389,
   "id": "aa5255c5",
   "metadata": {},
   "outputs": [
    {
     "data": {
      "text/plain": [
       "<Axes: xlabel='loan_status', ylabel='pub_rec'>"
      ]
     },
     "execution_count": 389,
     "metadata": {},
     "output_type": "execute_result"
    },
    {
     "data": {
      "image/png": "[encoded data removed]",
      "text/plain": [
       "<Figure size 720x432 with 1 Axes>"
      ]
     },
     "metadata": {
      "needs_background": "light"
     },
     "output_type": "display_data"
    }
   ],
   "source": [
    "plt.figure(figsize=(10, 6))\n",
    "sns.barplot(x='loan_status', y='pub_rec', data=df)\n"
   ]
  },
  {
   "cell_type": "code",
   "execution_count": 393,
   "id": "1163afa6",
   "metadata": {},
   "outputs": [
    {
     "data": {
      "text/plain": [
       "<Axes: xlabel='loan_status', ylabel='open_acc'>"
      ]
     },
     "execution_count": 393,
     "metadata": {},
     "output_type": "execute_result"
    },
    {
     "data": {
      "image/png": "[encoded data removed]",
      "text/plain": [
       "<Figure size 720x432 with 1 Axes>"
      ]
     },
     "metadata": {
      "needs_background": "light"
     },
     "output_type": "display_data"
    }
   ],
   "source": [
    "plt.figure(figsize=(10, 6))\n",
    "sns.boxplot(x='loan_status', y=df[df.open_acc <23]['open_acc'], data=df)"
   ]
  },
  {
   "cell_type": "code",
   "execution_count": null,
   "id": "5ed367b0",
   "metadata": {},
   "outputs": [],
   "source": []
  }
 ],
 "metadata": {
  "kernelspec": {
   "display_name": "Python 3 (ipykernel)",
   "language": "python",
   "name": "python3"
  },
  "language_info": {
   "codemirror_mode": {
    "name": "ipython",
    "version": 3
   },
   "file_extension": ".py",
   "mimetype": "text/x-python",
   "name": "python",
   "nbconvert_exporter": "python",
   "pygments_lexer": "ipython3",
   "version": "3.10.12"
  }
 },
 "nbformat": 4,
 "nbformat_minor": 5
}
