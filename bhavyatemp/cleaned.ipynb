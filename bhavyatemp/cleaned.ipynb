{
 "cells": [
  {
   "cell_type": "code",
   "execution_count": 243,
   "id": "a0902bcb",
   "metadata": {},
   "outputs": [],
   "source": [
    "import pandas as pd\n"
   ]
  },
  {
   "cell_type": "code",
   "execution_count": 244,
   "id": "0dd55520",
   "metadata": {},
   "outputs": [],
   "source": [
    "df = pd.read_csv('loan.csv',low_memory=False)"
   ]
  },
  {
   "cell_type": "code",
   "execution_count": 245,
   "id": "4a7e75cd",
   "metadata": {},
   "outputs": [
    {
     "data": {
      "text/plain": [
       "(39717, 111)"
      ]
     },
     "execution_count": 245,
     "metadata": {},
     "output_type": "execute_result"
    }
   ],
   "source": [
    "df.shape"
   ]
  },
  {
   "cell_type": "markdown",
   "id": "1e2ac216",
   "metadata": {},
   "source": [
    "Null value analysis\n"
   ]
  },
  {
   "cell_type": "code",
   "execution_count": 246,
   "id": "0a40d374",
   "metadata": {},
   "outputs": [],
   "source": [
    "df = df.loc[:,df.isnull().sum() != len(df)]"
   ]
  },
  {
   "cell_type": "code",
   "execution_count": 247,
   "id": "7f8a8867",
   "metadata": {
    "scrolled": true
   },
   "outputs": [
    {
     "data": {
      "text/plain": [
       "(39717, 57)"
      ]
     },
     "execution_count": 247,
     "metadata": {},
     "output_type": "execute_result"
    }
   ],
   "source": [
    "df.shape"
   ]
  },
  {
   "cell_type": "code",
   "execution_count": 248,
   "id": "3b665bec",
   "metadata": {},
   "outputs": [
    {
     "data": {
      "text/plain": [
       "id                                0\n",
       "member_id                         0\n",
       "loan_amnt                         0\n",
       "funded_amnt                       0\n",
       "funded_amnt_inv                   0\n",
       "term                              0\n",
       "int_rate                          0\n",
       "installment                       0\n",
       "grade                             0\n",
       "sub_grade                         0\n",
       "emp_title                      2459\n",
       "emp_length                     1075\n",
       "home_ownership                    0\n",
       "annual_inc                        0\n",
       "verification_status               0\n",
       "issue_d                           0\n",
       "loan_status                       0\n",
       "pymnt_plan                        0\n",
       "url                               0\n",
       "desc                          12942\n",
       "purpose                           0\n",
       "title                            11\n",
       "zip_code                          0\n",
       "addr_state                        0\n",
       "dti                               0\n",
       "delinq_2yrs                       0\n",
       "earliest_cr_line                  0\n",
       "inq_last_6mths                    0\n",
       "mths_since_last_delinq        25682\n",
       "mths_since_last_record        36931\n",
       "open_acc                          0\n",
       "pub_rec                           0\n",
       "revol_bal                         0\n",
       "revol_util                       50\n",
       "total_acc                         0\n",
       "initial_list_status               0\n",
       "out_prncp                         0\n",
       "out_prncp_inv                     0\n",
       "total_pymnt                       0\n",
       "total_pymnt_inv                   0\n",
       "total_rec_prncp                   0\n",
       "total_rec_int                     0\n",
       "total_rec_late_fee                0\n",
       "recoveries                        0\n",
       "collection_recovery_fee           0\n",
       "last_pymnt_d                     71\n",
       "last_pymnt_amnt                   0\n",
       "next_pymnt_d                  38577\n",
       "last_credit_pull_d                2\n",
       "collections_12_mths_ex_med       56\n",
       "policy_code                       0\n",
       "application_type                  0\n",
       "acc_now_delinq                    0\n",
       "chargeoff_within_12_mths         56\n",
       "delinq_amnt                       0\n",
       "pub_rec_bankruptcies            697\n",
       "tax_liens                        39\n",
       "dtype: int64"
      ]
     },
     "execution_count": 248,
     "metadata": {},
     "output_type": "execute_result"
    }
   ],
   "source": [
    "df.isna().sum()"
   ]
  },
  {
   "cell_type": "code",
   "execution_count": 249,
   "id": "d3b0d1dc",
   "metadata": {},
   "outputs": [],
   "source": [
    "df = df.drop(['desc','mths_since_last_delinq','mths_since_last_record','next_pymnt_d'],axis=1)"
   ]
  },
  {
   "cell_type": "code",
   "execution_count": 250,
   "id": "636b4a8f",
   "metadata": {},
   "outputs": [
    {
     "data": {
      "text/plain": [
       "(39717, 53)"
      ]
     },
     "execution_count": 250,
     "metadata": {},
     "output_type": "execute_result"
    }
   ],
   "source": [
    "df.shape"
   ]
  },
  {
   "cell_type": "code",
   "execution_count": 251,
   "id": "7565e5ef",
   "metadata": {},
   "outputs": [
    {
     "data": {
      "text/plain": [
       "id                               0\n",
       "member_id                        0\n",
       "loan_amnt                        0\n",
       "funded_amnt                      0\n",
       "funded_amnt_inv                  0\n",
       "term                             0\n",
       "int_rate                         0\n",
       "installment                      0\n",
       "grade                            0\n",
       "sub_grade                        0\n",
       "emp_title                     2459\n",
       "emp_length                    1075\n",
       "home_ownership                   0\n",
       "annual_inc                       0\n",
       "verification_status              0\n",
       "issue_d                          0\n",
       "loan_status                      0\n",
       "pymnt_plan                       0\n",
       "url                              0\n",
       "purpose                          0\n",
       "title                           11\n",
       "zip_code                         0\n",
       "addr_state                       0\n",
       "dti                              0\n",
       "delinq_2yrs                      0\n",
       "earliest_cr_line                 0\n",
       "inq_last_6mths                   0\n",
       "open_acc                         0\n",
       "pub_rec                          0\n",
       "revol_bal                        0\n",
       "revol_util                      50\n",
       "total_acc                        0\n",
       "initial_list_status              0\n",
       "out_prncp                        0\n",
       "out_prncp_inv                    0\n",
       "total_pymnt                      0\n",
       "total_pymnt_inv                  0\n",
       "total_rec_prncp                  0\n",
       "total_rec_int                    0\n",
       "total_rec_late_fee               0\n",
       "recoveries                       0\n",
       "collection_recovery_fee          0\n",
       "last_pymnt_d                    71\n",
       "last_pymnt_amnt                  0\n",
       "last_credit_pull_d               2\n",
       "collections_12_mths_ex_med      56\n",
       "policy_code                      0\n",
       "application_type                 0\n",
       "acc_now_delinq                   0\n",
       "chargeoff_within_12_mths        56\n",
       "delinq_amnt                      0\n",
       "pub_rec_bankruptcies           697\n",
       "tax_liens                       39\n",
       "dtype: int64"
      ]
     },
     "execution_count": 251,
     "metadata": {},
     "output_type": "execute_result"
    }
   ],
   "source": [
    "df.isna().sum()"
   ]
  },
  {
   "cell_type": "code",
   "execution_count": 252,
   "id": "7a8ac9a8",
   "metadata": {},
   "outputs": [
    {
     "data": {
      "text/plain": [
       "tax_liens\n",
       "0.0    39678\n",
       "Name: count, dtype: int64"
      ]
     },
     "execution_count": 252,
     "metadata": {},
     "output_type": "execute_result"
    }
   ],
   "source": [
    "df.tax_liens.value_counts()"
   ]
  },
  {
   "cell_type": "code",
   "execution_count": 253,
   "id": "d4a01040",
   "metadata": {},
   "outputs": [],
   "source": [
    "df.tax_liens =  df.tax_liens.fillna(0.0)"
   ]
  },
  {
   "cell_type": "code",
   "execution_count": 254,
   "id": "627bd2a4",
   "metadata": {},
   "outputs": [
    {
     "data": {
      "text/plain": [
       "tax_liens\n",
       "0.0    39717\n",
       "Name: count, dtype: int64"
      ]
     },
     "execution_count": 254,
     "metadata": {},
     "output_type": "execute_result"
    }
   ],
   "source": [
    "df.tax_liens.value_counts()"
   ]
  },
  {
   "cell_type": "code",
   "execution_count": 255,
   "id": "620f80c1",
   "metadata": {},
   "outputs": [
    {
     "data": {
      "text/plain": [
       "chargeoff_within_12_mths\n",
       "0.0    39661\n",
       "Name: count, dtype: int64"
      ]
     },
     "execution_count": 255,
     "metadata": {},
     "output_type": "execute_result"
    }
   ],
   "source": [
    "df.chargeoff_within_12_mths.value_counts()"
   ]
  },
  {
   "cell_type": "code",
   "execution_count": 256,
   "id": "7223a330",
   "metadata": {},
   "outputs": [],
   "source": [
    "df.chargeoff_within_12_mths = df.chargeoff_within_12_mths.fillna(0.0)"
   ]
  },
  {
   "cell_type": "code",
   "execution_count": 257,
   "id": "1838cfb5",
   "metadata": {},
   "outputs": [
    {
     "data": {
      "text/plain": [
       "chargeoff_within_12_mths\n",
       "0.0    39717\n",
       "Name: count, dtype: int64"
      ]
     },
     "execution_count": 257,
     "metadata": {},
     "output_type": "execute_result"
    }
   ],
   "source": [
    "df.chargeoff_within_12_mths.value_counts()"
   ]
  },
  {
   "cell_type": "code",
   "execution_count": 258,
   "id": "3df655b7",
   "metadata": {},
   "outputs": [
    {
     "data": {
      "text/plain": [
       "collections_12_mths_ex_med\n",
       "0.0    39661\n",
       "Name: count, dtype: int64"
      ]
     },
     "execution_count": 258,
     "metadata": {},
     "output_type": "execute_result"
    }
   ],
   "source": [
    "df.collections_12_mths_ex_med.value_counts()"
   ]
  },
  {
   "cell_type": "code",
   "execution_count": 259,
   "id": "344734e4",
   "metadata": {},
   "outputs": [],
   "source": [
    "df.collections_12_mths_ex_med = df.collections_12_mths_ex_med.fillna(0.0)"
   ]
  },
  {
   "cell_type": "code",
   "execution_count": 260,
   "id": "c08c20f6",
   "metadata": {},
   "outputs": [
    {
     "data": {
      "text/plain": [
       "chargeoff_within_12_mths\n",
       "0.0    39717\n",
       "Name: count, dtype: int64"
      ]
     },
     "execution_count": 260,
     "metadata": {},
     "output_type": "execute_result"
    }
   ],
   "source": [
    "df.chargeoff_within_12_mths.value_counts()"
   ]
  },
  {
   "cell_type": "code",
   "execution_count": 261,
   "id": "4f792235",
   "metadata": {},
   "outputs": [
    {
     "data": {
      "text/plain": [
       "0        Jan-15\n",
       "1        Apr-13\n",
       "2        Jun-14\n",
       "3        Jan-15\n",
       "4        May-16\n",
       "          ...  \n",
       "39712    Jul-10\n",
       "39713    Jul-10\n",
       "39714    Apr-08\n",
       "39715    Jan-08\n",
       "39716    Jun-10\n",
       "Name: last_pymnt_d, Length: 39717, dtype: object"
      ]
     },
     "execution_count": 261,
     "metadata": {},
     "output_type": "execute_result"
    }
   ],
   "source": [
    "df.last_pymnt_d"
   ]
  },
  {
   "cell_type": "code",
   "execution_count": 262,
   "id": "29a8752d",
   "metadata": {},
   "outputs": [
    {
     "data": {
      "text/plain": [
       "revol_util\n",
       "37.63%      1\n",
       "33.29%      1\n",
       "58.19%      1\n",
       "5.34%       1\n",
       "6.75%       1\n",
       "         ... \n",
       "0.10%      58\n",
       "40.70%     58\n",
       "63%        62\n",
       "0.20%      63\n",
       "0%        977\n",
       "Name: count, Length: 1089, dtype: int64"
      ]
     },
     "execution_count": 262,
     "metadata": {},
     "output_type": "execute_result"
    }
   ],
   "source": [
    "df.revol_util.value_counts().sort_values()"
   ]
  },
  {
   "cell_type": "code",
   "execution_count": 263,
   "id": "dc72345b",
   "metadata": {},
   "outputs": [],
   "source": [
    "df = df[~df.revol_util.isna()]"
   ]
  },
  {
   "cell_type": "code",
   "execution_count": 264,
   "id": "d7048f84",
   "metadata": {},
   "outputs": [
    {
     "data": {
      "text/plain": [
       "id                               0\n",
       "member_id                        0\n",
       "loan_amnt                        0\n",
       "funded_amnt                      0\n",
       "funded_amnt_inv                  0\n",
       "term                             0\n",
       "int_rate                         0\n",
       "installment                      0\n",
       "grade                            0\n",
       "sub_grade                        0\n",
       "emp_title                     2455\n",
       "emp_length                    1072\n",
       "home_ownership                   0\n",
       "annual_inc                       0\n",
       "verification_status              0\n",
       "issue_d                          0\n",
       "loan_status                      0\n",
       "pymnt_plan                       0\n",
       "url                              0\n",
       "purpose                          0\n",
       "title                           11\n",
       "zip_code                         0\n",
       "addr_state                       0\n",
       "dti                              0\n",
       "delinq_2yrs                      0\n",
       "earliest_cr_line                 0\n",
       "inq_last_6mths                   0\n",
       "open_acc                         0\n",
       "pub_rec                          0\n",
       "revol_bal                        0\n",
       "revol_util                       0\n",
       "total_acc                        0\n",
       "initial_list_status              0\n",
       "out_prncp                        0\n",
       "out_prncp_inv                    0\n",
       "total_pymnt                      0\n",
       "total_pymnt_inv                  0\n",
       "total_rec_prncp                  0\n",
       "total_rec_int                    0\n",
       "total_rec_late_fee               0\n",
       "recoveries                       0\n",
       "collection_recovery_fee          0\n",
       "last_pymnt_d                    67\n",
       "last_pymnt_amnt                  0\n",
       "last_credit_pull_d               2\n",
       "collections_12_mths_ex_med       0\n",
       "policy_code                      0\n",
       "application_type                 0\n",
       "acc_now_delinq                   0\n",
       "chargeoff_within_12_mths         0\n",
       "delinq_amnt                      0\n",
       "pub_rec_bankruptcies           697\n",
       "tax_liens                        0\n",
       "dtype: int64"
      ]
     },
     "execution_count": 264,
     "metadata": {},
     "output_type": "execute_result"
    }
   ],
   "source": [
    "df.isna().sum()"
   ]
  },
  {
   "cell_type": "markdown",
   "id": "c384f23b",
   "metadata": {},
   "source": [
    "# Nulls are removed, now will clean the data"
   ]
  },
  {
   "cell_type": "code",
   "execution_count": 265,
   "id": "d21cb84a",
   "metadata": {},
   "outputs": [
    {
     "data": {
      "text/plain": [
       "Index(['id', 'member_id', 'loan_amnt', 'funded_amnt', 'funded_amnt_inv',\n",
       "       'term', 'int_rate', 'installment', 'grade', 'sub_grade', 'emp_title',\n",
       "       'emp_length', 'home_ownership', 'annual_inc', 'verification_status',\n",
       "       'issue_d', 'loan_status', 'pymnt_plan', 'url', 'purpose', 'title',\n",
       "       'zip_code', 'addr_state', 'dti', 'delinq_2yrs', 'earliest_cr_line',\n",
       "       'inq_last_6mths', 'open_acc', 'pub_rec', 'revol_bal', 'revol_util',\n",
       "       'total_acc', 'initial_list_status', 'out_prncp', 'out_prncp_inv',\n",
       "       'total_pymnt', 'total_pymnt_inv', 'total_rec_prncp', 'total_rec_int',\n",
       "       'total_rec_late_fee', 'recoveries', 'collection_recovery_fee',\n",
       "       'last_pymnt_d', 'last_pymnt_amnt', 'last_credit_pull_d',\n",
       "       'collections_12_mths_ex_med', 'policy_code', 'application_type',\n",
       "       'acc_now_delinq', 'chargeoff_within_12_mths', 'delinq_amnt',\n",
       "       'pub_rec_bankruptcies', 'tax_liens'],\n",
       "      dtype='object')"
      ]
     },
     "execution_count": 265,
     "metadata": {},
     "output_type": "execute_result"
    }
   ],
   "source": [
    "df.columns    "
   ]
  },
  {
   "cell_type": "code",
   "execution_count": 266,
   "id": "0b852a42",
   "metadata": {},
   "outputs": [],
   "source": [
    "df.columns = df.columns.str.strip()"
   ]
  },
  {
   "cell_type": "code",
   "execution_count": 267,
   "id": "ec715201",
   "metadata": {},
   "outputs": [
    {
     "name": "stdout",
     "output_type": "stream",
     "text": [
      "39667\n",
      "39667\n",
      "884\n",
      "1040\n",
      "8195\n",
      "2\n",
      "371\n",
      "15363\n",
      "7\n",
      "35\n",
      "28781\n",
      "11\n",
      "5\n",
      "5313\n",
      "3\n",
      "55\n",
      "3\n",
      "39667\n",
      "14\n",
      "19583\n",
      "823\n",
      "50\n",
      "2868\n",
      "11\n",
      "526\n",
      "9\n",
      "40\n",
      "5\n",
      "21711\n",
      "1089\n",
      "82\n",
      "1137\n",
      "1138\n",
      "37800\n",
      "37470\n",
      "7963\n",
      "35105\n",
      "1353\n",
      "4026\n",
      "2610\n",
      "101\n",
      "34901\n",
      "106\n",
      "3\n"
     ]
    }
   ],
   "source": [
    "for c in df.columns:\n",
    "    if(len(df[c].value_counts()) > 1):\n",
    "       print(len(df[c].value_counts()))"
   ]
  },
  {
   "cell_type": "code",
   "execution_count": 268,
   "id": "13544426",
   "metadata": {},
   "outputs": [],
   "source": [
    "for c in df.columns:\n",
    "    if(len(df[c].value_counts()) <= 1):\n",
    "       df.drop(c,axis=1,inplace=True)"
   ]
  },
  {
   "cell_type": "code",
   "execution_count": 269,
   "id": "9e142ec9",
   "metadata": {},
   "outputs": [
    {
     "data": {
      "text/plain": [
       "(39667, 44)"
      ]
     },
     "execution_count": 269,
     "metadata": {},
     "output_type": "execute_result"
    }
   ],
   "source": [
    "df.shape"
   ]
  },
  {
   "cell_type": "markdown",
   "id": "5ab7bf6a",
   "metadata": {},
   "source": [
    "we can drop any column that may not be needed for analysis"
   ]
  },
  {
   "cell_type": "code",
   "execution_count": 270,
   "id": "1d743e8e",
   "metadata": {},
   "outputs": [
    {
     "name": "stdout",
     "output_type": "stream",
     "text": [
      "<class 'pandas.core.frame.DataFrame'>\n",
      "Index: 39667 entries, 0 to 39716\n",
      "Data columns (total 44 columns):\n",
      " #   Column                   Non-Null Count  Dtype  \n",
      "---  ------                   --------------  -----  \n",
      " 0   id                       39667 non-null  int64  \n",
      " 1   member_id                39667 non-null  int64  \n",
      " 2   loan_amnt                39667 non-null  int64  \n",
      " 3   funded_amnt              39667 non-null  int64  \n",
      " 4   funded_amnt_inv          39667 non-null  float64\n",
      " 5   term                     39667 non-null  object \n",
      " 6   int_rate                 39667 non-null  object \n",
      " 7   installment              39667 non-null  float64\n",
      " 8   grade                    39667 non-null  object \n",
      " 9   sub_grade                39667 non-null  object \n",
      " 10  emp_title                37212 non-null  object \n",
      " 11  emp_length               38595 non-null  object \n",
      " 12  home_ownership           39667 non-null  object \n",
      " 13  annual_inc               39667 non-null  float64\n",
      " 14  verification_status      39667 non-null  object \n",
      " 15  issue_d                  39667 non-null  object \n",
      " 16  loan_status              39667 non-null  object \n",
      " 17  url                      39667 non-null  object \n",
      " 18  purpose                  39667 non-null  object \n",
      " 19  title                    39656 non-null  object \n",
      " 20  zip_code                 39667 non-null  object \n",
      " 21  addr_state               39667 non-null  object \n",
      " 22  dti                      39667 non-null  float64\n",
      " 23  delinq_2yrs              39667 non-null  int64  \n",
      " 24  earliest_cr_line         39667 non-null  object \n",
      " 25  inq_last_6mths           39667 non-null  int64  \n",
      " 26  open_acc                 39667 non-null  int64  \n",
      " 27  pub_rec                  39667 non-null  int64  \n",
      " 28  revol_bal                39667 non-null  int64  \n",
      " 29  revol_util               39667 non-null  object \n",
      " 30  total_acc                39667 non-null  int64  \n",
      " 31  out_prncp                39667 non-null  float64\n",
      " 32  out_prncp_inv            39667 non-null  float64\n",
      " 33  total_pymnt              39667 non-null  float64\n",
      " 34  total_pymnt_inv          39667 non-null  float64\n",
      " 35  total_rec_prncp          39667 non-null  float64\n",
      " 36  total_rec_int            39667 non-null  float64\n",
      " 37  total_rec_late_fee       39667 non-null  float64\n",
      " 38  recoveries               39667 non-null  float64\n",
      " 39  collection_recovery_fee  39667 non-null  float64\n",
      " 40  last_pymnt_d             39600 non-null  object \n",
      " 41  last_pymnt_amnt          39667 non-null  float64\n",
      " 42  last_credit_pull_d       39665 non-null  object \n",
      " 43  pub_rec_bankruptcies     38970 non-null  float64\n",
      "dtypes: float64(15), int64(10), object(19)\n",
      "memory usage: 13.6+ MB\n"
     ]
    }
   ],
   "source": [
    "df.info()"
   ]
  },
  {
   "cell_type": "code",
   "execution_count": 271,
   "id": "31a085c8",
   "metadata": {
    "scrolled": true
   },
   "outputs": [
    {
     "data": {
      "text/plain": [
       "last_credit_pull_d\n",
       "May-16    10302\n",
       "Apr-16     2546\n",
       "Mar-16     1121\n",
       "Feb-13      842\n",
       "Feb-16      736\n",
       "          ...  \n",
       "May-08        1\n",
       "Jun-08        1\n",
       "Jul-08        1\n",
       "May-07        1\n",
       "Jul-07        1\n",
       "Name: count, Length: 106, dtype: int64"
      ]
     },
     "execution_count": 271,
     "metadata": {},
     "output_type": "execute_result"
    }
   ],
   "source": [
    "df.last_credit_pull_d.value_counts()"
   ]
  },
  {
   "cell_type": "code",
   "execution_count": 272,
   "id": "7b7656b1",
   "metadata": {},
   "outputs": [],
   "source": [
    "df = df.drop(['member_id','url','collection_recovery_fee','last_pymnt_d','last_pymnt_amnt','last_credit_pull_d','recoveries','total_rec_late_fee','total_rec_int','total_rec_prncp','total_pymnt_inv','total_pymnt','out_prncp_inv','out_prncp','issue_d','funded_amnt','funded_amnt_inv'],axis=1)"
   ]
  },
  {
   "cell_type": "code",
   "execution_count": 273,
   "id": "8c7182dd",
   "metadata": {},
   "outputs": [
    {
     "name": "stdout",
     "output_type": "stream",
     "text": [
      "<class 'pandas.core.frame.DataFrame'>\n",
      "Index: 39667 entries, 0 to 39716\n",
      "Data columns (total 27 columns):\n",
      " #   Column                Non-Null Count  Dtype  \n",
      "---  ------                --------------  -----  \n",
      " 0   id                    39667 non-null  int64  \n",
      " 1   loan_amnt             39667 non-null  int64  \n",
      " 2   term                  39667 non-null  object \n",
      " 3   int_rate              39667 non-null  object \n",
      " 4   installment           39667 non-null  float64\n",
      " 5   grade                 39667 non-null  object \n",
      " 6   sub_grade             39667 non-null  object \n",
      " 7   emp_title             37212 non-null  object \n",
      " 8   emp_length            38595 non-null  object \n",
      " 9   home_ownership        39667 non-null  object \n",
      " 10  annual_inc            39667 non-null  float64\n",
      " 11  verification_status   39667 non-null  object \n",
      " 12  loan_status           39667 non-null  object \n",
      " 13  purpose               39667 non-null  object \n",
      " 14  title                 39656 non-null  object \n",
      " 15  zip_code              39667 non-null  object \n",
      " 16  addr_state            39667 non-null  object \n",
      " 17  dti                   39667 non-null  float64\n",
      " 18  delinq_2yrs           39667 non-null  int64  \n",
      " 19  earliest_cr_line      39667 non-null  object \n",
      " 20  inq_last_6mths        39667 non-null  int64  \n",
      " 21  open_acc              39667 non-null  int64  \n",
      " 22  pub_rec               39667 non-null  int64  \n",
      " 23  revol_bal             39667 non-null  int64  \n",
      " 24  revol_util            39667 non-null  object \n",
      " 25  total_acc             39667 non-null  int64  \n",
      " 26  pub_rec_bankruptcies  38970 non-null  float64\n",
      "dtypes: float64(4), int64(8), object(15)\n",
      "memory usage: 8.5+ MB\n"
     ]
    }
   ],
   "source": [
    "df.info()"
   ]
  },
  {
   "cell_type": "markdown",
   "id": "d12890c6",
   "metadata": {},
   "source": [
    "## change data types whereever necessary"
   ]
  },
  {
   "cell_type": "markdown",
   "id": "edcb3ae0",
   "metadata": {},
   "source": [
    " int_rate , earliest_cr_line, revol_util should be checked if they can be changed to int,float,  date time"
   ]
  },
  {
   "cell_type": "code",
   "execution_count": 275,
   "id": "090b7734",
   "metadata": {},
   "outputs": [
    {
     "data": {
      "text/plain": [
       "int_rate\n",
       "10.99%    956\n",
       "13.49%    826\n",
       "11.49%    825\n",
       "7.51%     787\n",
       "7.88%     725\n",
       "         ... \n",
       "17.34%      1\n",
       "16.71%      1\n",
       "16.15%      1\n",
       "18.36%      1\n",
       "14.67%      1\n",
       "Name: count, Length: 371, dtype: int64"
      ]
     },
     "execution_count": 275,
     "metadata": {},
     "output_type": "execute_result"
    }
   ],
   "source": [
    "df.int_rate.value_counts()"
   ]
  },
  {
   "cell_type": "code",
   "execution_count": 276,
   "id": "8374cf1c",
   "metadata": {},
   "outputs": [],
   "source": [
    "df.int_rate = df.int_rate.apply(lambda x: float(x.replace('%','')))"
   ]
  },
  {
   "cell_type": "code",
   "execution_count": 277,
   "id": "6781fb9b",
   "metadata": {},
   "outputs": [
    {
     "data": {
      "text/plain": [
       "revol_util\n",
       "0%        977\n",
       "0.20%      63\n",
       "63%        62\n",
       "40.70%     58\n",
       "66.70%     58\n",
       "         ... \n",
       "0.75%       1\n",
       "2.64%       1\n",
       "81.31%      1\n",
       "26.33%      1\n",
       "7.28%       1\n",
       "Name: count, Length: 1089, dtype: int64"
      ]
     },
     "execution_count": 277,
     "metadata": {},
     "output_type": "execute_result"
    }
   ],
   "source": [
    "df.revol_util.value_counts()"
   ]
  },
  {
   "cell_type": "code",
   "execution_count": 282,
   "id": "25f42be4",
   "metadata": {},
   "outputs": [],
   "source": [
    "df.revol_util = df.revol_util.apply(lambda x: float(x.replace('%','')))"
   ]
  },
  {
   "cell_type": "code",
   "execution_count": 284,
   "id": "69babffd",
   "metadata": {},
   "outputs": [
    {
     "data": {
      "text/plain": [
       "0        Jan-85\n",
       "1        Apr-99\n",
       "2        Nov-01\n",
       "3        Feb-96\n",
       "4        Jan-96\n",
       "          ...  \n",
       "39712    Nov-90\n",
       "39713    Dec-86\n",
       "39714    Oct-98\n",
       "39715    Nov-88\n",
       "39716    Oct-03\n",
       "Name: earliest_cr_line, Length: 39667, dtype: object"
      ]
     },
     "execution_count": 284,
     "metadata": {},
     "output_type": "execute_result"
    }
   ],
   "source": [
    "df.earliest_cr_line"
   ]
  },
  {
   "cell_type": "code",
   "execution_count": 291,
   "id": "facac6c7",
   "metadata": {},
   "outputs": [],
   "source": [
    "df.earliest_cr_line = pd.to_datetime(df.earliest_cr_line,format='%b-%y')"
   ]
  },
  {
   "cell_type": "code",
   "execution_count": 294,
   "id": "1360abb4",
   "metadata": {},
   "outputs": [
    {
     "name": "stdout",
     "output_type": "stream",
     "text": [
      "<class 'pandas.core.frame.DataFrame'>\n",
      "Index: 39667 entries, 0 to 39716\n",
      "Data columns (total 27 columns):\n",
      " #   Column                Non-Null Count  Dtype         \n",
      "---  ------                --------------  -----         \n",
      " 0   id                    39667 non-null  int64         \n",
      " 1   loan_amnt             39667 non-null  int64         \n",
      " 2   term                  39667 non-null  object        \n",
      " 3   int_rate              39667 non-null  float64       \n",
      " 4   installment           39667 non-null  float64       \n",
      " 5   grade                 39667 non-null  object        \n",
      " 6   sub_grade             39667 non-null  object        \n",
      " 7   emp_title             37212 non-null  object        \n",
      " 8   emp_length            38595 non-null  object        \n",
      " 9   home_ownership        39667 non-null  object        \n",
      " 10  annual_inc            39667 non-null  float64       \n",
      " 11  verification_status   39667 non-null  object        \n",
      " 12  loan_status           39667 non-null  object        \n",
      " 13  purpose               39667 non-null  object        \n",
      " 14  title                 39656 non-null  object        \n",
      " 15  zip_code              39667 non-null  object        \n",
      " 16  addr_state            39667 non-null  object        \n",
      " 17  dti                   39667 non-null  float64       \n",
      " 18  delinq_2yrs           39667 non-null  int64         \n",
      " 19  earliest_cr_line      39667 non-null  datetime64[ns]\n",
      " 20  inq_last_6mths        39667 non-null  int64         \n",
      " 21  open_acc              39667 non-null  int64         \n",
      " 22  pub_rec               39667 non-null  int64         \n",
      " 23  revol_bal             39667 non-null  int64         \n",
      " 24  revol_util            39667 non-null  float64       \n",
      " 25  total_acc             39667 non-null  int64         \n",
      " 26  pub_rec_bankruptcies  38970 non-null  float64       \n",
      "dtypes: datetime64[ns](1), float64(6), int64(8), object(12)\n",
      "memory usage: 8.5+ MB\n"
     ]
    }
   ],
   "source": [
    "df.info()"
   ]
  },
  {
   "cell_type": "markdown",
   "id": "e74644d1",
   "metadata": {},
   "source": [
    "### lets check if theres any duplicate entries"
   ]
  },
  {
   "cell_type": "code",
   "execution_count": 297,
   "id": "0023041f",
   "metadata": {},
   "outputs": [
    {
     "data": {
      "text/plain": [
       "np.int64(0)"
      ]
     },
     "execution_count": 297,
     "metadata": {},
     "output_type": "execute_result"
    }
   ],
   "source": [
    "df.duplicated().sum()"
   ]
  },
  {
   "cell_type": "code",
   "execution_count": null,
   "id": "2243d056",
   "metadata": {},
   "outputs": [],
   "source": []
  }
 ],
 "metadata": {
  "kernelspec": {
   "display_name": "Python 3 (ipykernel)",
   "language": "python",
   "name": "python3"
  },
  "language_info": {
   "codemirror_mode": {
    "name": "ipython",
    "version": 3
   },
   "file_extension": ".py",
   "mimetype": "text/x-python",
   "name": "python",
   "nbconvert_exporter": "python",
   "pygments_lexer": "ipython3",
   "version": "3.10.12"
  }
 },
 "nbformat": 4,
 "nbformat_minor": 5
}
