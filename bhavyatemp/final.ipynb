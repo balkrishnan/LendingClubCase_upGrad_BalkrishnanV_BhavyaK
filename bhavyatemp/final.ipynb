{
 "cells": [
  {
   "cell_type": "code",
   "execution_count": 1,
   "id": "d4e8e755",
   "metadata": {},
   "outputs": [],
   "source": [
    "import pandas as pd\n",
    "import matplotlib.pyplot as plt\n",
    "import seaborn as sns"
   ]
  },
  {
   "cell_type": "code",
   "execution_count": 2,
   "id": "96947294",
   "metadata": {},
   "outputs": [],
   "source": [
    "df = pd.read_csv('loan.csv',low_memory=False)"
   ]
  },
  {
   "cell_type": "code",
   "execution_count": 3,
   "id": "55515d73",
   "metadata": {},
   "outputs": [
    {
     "data": {
      "text/plain": [
       "(39717, 111)"
      ]
     },
     "execution_count": 3,
     "metadata": {},
     "output_type": "execute_result"
    }
   ],
   "source": [
    "df.shape"
   ]
  },
  {
   "cell_type": "markdown",
   "id": "dc6ee0ce",
   "metadata": {},
   "source": [
    "## Data cleaning"
   ]
  },
  {
   "cell_type": "markdown",
   "id": "d09f91ba",
   "metadata": {},
   "source": [
    "#### Some column names might have extra space at beginning or end. Lets trim those as a first step."
   ]
  },
  {
   "cell_type": "code",
   "execution_count": 4,
   "id": "ca2b521b",
   "metadata": {},
   "outputs": [],
   "source": [
    "df.columns = df.columns.str.strip()"
   ]
  },
  {
   "cell_type": "markdown",
   "id": "f974b4c1",
   "metadata": {},
   "source": [
    "#### Lets understand the Null Values present"
   ]
  },
  {
   "cell_type": "code",
   "execution_count": 5,
   "id": "acc2149d",
   "metadata": {},
   "outputs": [
    {
     "data": {
      "text/plain": [
       "id                                0\n",
       "member_id                         0\n",
       "loan_amnt                         0\n",
       "funded_amnt                       0\n",
       "funded_amnt_inv                   0\n",
       "                              ...  \n",
       "tax_liens                        39\n",
       "tot_hi_cred_lim               39717\n",
       "total_bal_ex_mort             39717\n",
       "total_bc_limit                39717\n",
       "total_il_high_credit_limit    39717\n",
       "Length: 111, dtype: int64"
      ]
     },
     "execution_count": 5,
     "metadata": {},
     "output_type": "execute_result"
    }
   ],
   "source": [
    "df.isna().sum()"
   ]
  },
  {
   "cell_type": "markdown",
   "id": "c4ef0b5b",
   "metadata": {},
   "source": [
    "#### There are total 39717 values in the data frame but some columns seems to have all the values as null values. <br> We should remove such columns as they won't contribute anything to the analysis"
   ]
  },
  {
   "cell_type": "code",
   "execution_count": 6,
   "id": "55a3a3b0",
   "metadata": {},
   "outputs": [
    {
     "data": {
      "text/plain": [
       "(39717, 57)"
      ]
     },
     "execution_count": 6,
     "metadata": {},
     "output_type": "execute_result"
    }
   ],
   "source": [
    "df = df.loc[:,df.isnull().sum() != len(df)]\n",
    "df.shape"
   ]
  },
  {
   "cell_type": "code",
   "execution_count": 7,
   "id": "e4d1c3ec",
   "metadata": {},
   "outputs": [
    {
     "data": {
      "text/plain": [
       "id                                0\n",
       "member_id                         0\n",
       "loan_amnt                         0\n",
       "funded_amnt                       0\n",
       "funded_amnt_inv                   0\n",
       "term                              0\n",
       "int_rate                          0\n",
       "installment                       0\n",
       "grade                             0\n",
       "sub_grade                         0\n",
       "emp_title                      2459\n",
       "emp_length                     1075\n",
       "home_ownership                    0\n",
       "annual_inc                        0\n",
       "verification_status               0\n",
       "issue_d                           0\n",
       "loan_status                       0\n",
       "pymnt_plan                        0\n",
       "url                               0\n",
       "desc                          12942\n",
       "purpose                           0\n",
       "title                            11\n",
       "zip_code                          0\n",
       "addr_state                        0\n",
       "dti                               0\n",
       "delinq_2yrs                       0\n",
       "earliest_cr_line                  0\n",
       "inq_last_6mths                    0\n",
       "mths_since_last_delinq        25682\n",
       "mths_since_last_record        36931\n",
       "open_acc                          0\n",
       "pub_rec                           0\n",
       "revol_bal                         0\n",
       "revol_util                       50\n",
       "total_acc                         0\n",
       "initial_list_status               0\n",
       "out_prncp                         0\n",
       "out_prncp_inv                     0\n",
       "total_pymnt                       0\n",
       "total_pymnt_inv                   0\n",
       "total_rec_prncp                   0\n",
       "total_rec_int                     0\n",
       "total_rec_late_fee                0\n",
       "recoveries                        0\n",
       "collection_recovery_fee           0\n",
       "last_pymnt_d                     71\n",
       "last_pymnt_amnt                   0\n",
       "next_pymnt_d                  38577\n",
       "last_credit_pull_d                2\n",
       "collections_12_mths_ex_med       56\n",
       "policy_code                       0\n",
       "application_type                  0\n",
       "acc_now_delinq                    0\n",
       "chargeoff_within_12_mths         56\n",
       "delinq_amnt                       0\n",
       "pub_rec_bankruptcies            697\n",
       "tax_liens                        39\n",
       "dtype: int64"
      ]
     },
     "execution_count": 7,
     "metadata": {},
     "output_type": "execute_result"
    }
   ],
   "source": [
    "df.isna().sum()"
   ]
  },
  {
   "cell_type": "markdown",
   "id": "019e5f2b",
   "metadata": {},
   "source": [
    "#### Now we are left with 57 columns. Lets drop all the columns which contains very high number of null values and seem insignificant for our analysis"
   ]
  },
  {
   "cell_type": "code",
   "execution_count": 8,
   "id": "85745de1",
   "metadata": {},
   "outputs": [
    {
     "data": {
      "text/plain": [
       "(39717, 53)"
      ]
     },
     "execution_count": 8,
     "metadata": {},
     "output_type": "execute_result"
    }
   ],
   "source": [
    "col_to_drop = ['desc','mths_since_last_delinq','mths_since_last_record','next_pymnt_d']\n",
    "df = df.drop(col_to_drop,axis=1)\n",
    "df.shape"
   ]
  },
  {
   "cell_type": "markdown",
   "id": "a38674d4",
   "metadata": {},
   "source": [
    "#### So now we are left with 53 columns. Lets now see which columns have just a single value and we can remove such columns since it won't contribute much to analysis"
   ]
  },
  {
   "cell_type": "code",
   "execution_count": 9,
   "id": "e42832dd",
   "metadata": {},
   "outputs": [
    {
     "name": "stdout",
     "output_type": "stream",
     "text": [
      "pymnt_plan\n",
      "initial_list_status\n",
      "collections_12_mths_ex_med\n",
      "policy_code\n",
      "application_type\n",
      "acc_now_delinq\n",
      "chargeoff_within_12_mths\n",
      "delinq_amnt\n",
      "tax_liens\n"
     ]
    }
   ],
   "source": [
    "# Check if any column with a less than or equal to one entry present\n",
    "for column in df.columns:\n",
    "    if(len(df[column].value_counts()) <= 1):\n",
    "       print(column)"
   ]
  },
  {
   "cell_type": "code",
   "execution_count": 10,
   "id": "fa41383b",
   "metadata": {},
   "outputs": [],
   "source": [
    "# Now removing the above columns\n",
    "for column in df.columns:\n",
    "    if(len(df[column].value_counts()) <= 1):\n",
    "       df.drop(column,axis=1,inplace=True)"
   ]
  },
  {
   "cell_type": "code",
   "execution_count": 11,
   "id": "6dcdbc4b",
   "metadata": {},
   "outputs": [
    {
     "data": {
      "text/plain": [
       "(39717, 44)"
      ]
     },
     "execution_count": 11,
     "metadata": {},
     "output_type": "execute_result"
    }
   ],
   "source": [
    "df.shape"
   ]
  },
  {
   "cell_type": "markdown",
   "id": "b0089101",
   "metadata": {},
   "source": [
    "#### Now we have 44 columns, We should drop all the columns which seem insignificant for our analysis"
   ]
  },
  {
   "cell_type": "code",
   "execution_count": 12,
   "id": "aab65a33",
   "metadata": {},
   "outputs": [
    {
     "name": "stdout",
     "output_type": "stream",
     "text": [
      "<class 'pandas.core.frame.DataFrame'>\n",
      "RangeIndex: 39717 entries, 0 to 39716\n",
      "Data columns (total 44 columns):\n",
      " #   Column                   Non-Null Count  Dtype  \n",
      "---  ------                   --------------  -----  \n",
      " 0   id                       39717 non-null  int64  \n",
      " 1   member_id                39717 non-null  int64  \n",
      " 2   loan_amnt                39717 non-null  int64  \n",
      " 3   funded_amnt              39717 non-null  int64  \n",
      " 4   funded_amnt_inv          39717 non-null  float64\n",
      " 5   term                     39717 non-null  object \n",
      " 6   int_rate                 39717 non-null  object \n",
      " 7   installment              39717 non-null  float64\n",
      " 8   grade                    39717 non-null  object \n",
      " 9   sub_grade                39717 non-null  object \n",
      " 10  emp_title                37258 non-null  object \n",
      " 11  emp_length               38642 non-null  object \n",
      " 12  home_ownership           39717 non-null  object \n",
      " 13  annual_inc               39717 non-null  float64\n",
      " 14  verification_status      39717 non-null  object \n",
      " 15  issue_d                  39717 non-null  object \n",
      " 16  loan_status              39717 non-null  object \n",
      " 17  url                      39717 non-null  object \n",
      " 18  purpose                  39717 non-null  object \n",
      " 19  title                    39706 non-null  object \n",
      " 20  zip_code                 39717 non-null  object \n",
      " 21  addr_state               39717 non-null  object \n",
      " 22  dti                      39717 non-null  float64\n",
      " 23  delinq_2yrs              39717 non-null  int64  \n",
      " 24  earliest_cr_line         39717 non-null  object \n",
      " 25  inq_last_6mths           39717 non-null  int64  \n",
      " 26  open_acc                 39717 non-null  int64  \n",
      " 27  pub_rec                  39717 non-null  int64  \n",
      " 28  revol_bal                39717 non-null  int64  \n",
      " 29  revol_util               39667 non-null  object \n",
      " 30  total_acc                39717 non-null  int64  \n",
      " 31  out_prncp                39717 non-null  float64\n",
      " 32  out_prncp_inv            39717 non-null  float64\n",
      " 33  total_pymnt              39717 non-null  float64\n",
      " 34  total_pymnt_inv          39717 non-null  float64\n",
      " 35  total_rec_prncp          39717 non-null  float64\n",
      " 36  total_rec_int            39717 non-null  float64\n",
      " 37  total_rec_late_fee       39717 non-null  float64\n",
      " 38  recoveries               39717 non-null  float64\n",
      " 39  collection_recovery_fee  39717 non-null  float64\n",
      " 40  last_pymnt_d             39646 non-null  object \n",
      " 41  last_pymnt_amnt          39717 non-null  float64\n",
      " 42  last_credit_pull_d       39715 non-null  object \n",
      " 43  pub_rec_bankruptcies     39020 non-null  float64\n",
      "dtypes: float64(15), int64(10), object(19)\n",
      "memory usage: 13.3+ MB\n"
     ]
    }
   ],
   "source": [
    "df.info()"
   ]
  },
  {
   "cell_type": "code",
   "execution_count": 13,
   "id": "9491056d",
   "metadata": {},
   "outputs": [],
   "source": [
    "col_to_drop = ['id','member_id','url','collection_recovery_fee','last_pymnt_d','last_pymnt_amnt','last_credit_pull_d','recoveries','total_rec_late_fee','total_rec_int','total_rec_prncp','total_pymnt_inv','total_pymnt','out_prncp_inv','out_prncp','issue_d','funded_amnt','funded_amnt_inv']\n",
    "df.drop(col_to_drop,axis=1,inplace=True)"
   ]
  },
  {
   "cell_type": "code",
   "execution_count": 14,
   "id": "72f388ad",
   "metadata": {},
   "outputs": [
    {
     "data": {
      "text/plain": [
       "(39717, 26)"
      ]
     },
     "execution_count": 14,
     "metadata": {},
     "output_type": "execute_result"
    }
   ],
   "source": [
    "df.shape"
   ]
  },
  {
   "cell_type": "markdown",
   "id": "62273cee",
   "metadata": {},
   "source": [
    "#### 26 columns remains and they will probably contribute to analysis."
   ]
  },
  {
   "cell_type": "markdown",
   "id": "c8f13baf",
   "metadata": {},
   "source": [
    "### Change Data Types"
   ]
  },
  {
   "cell_type": "code",
   "execution_count": 15,
   "id": "03a634aa",
   "metadata": {},
   "outputs": [
    {
     "name": "stdout",
     "output_type": "stream",
     "text": [
      "<class 'pandas.core.frame.DataFrame'>\n",
      "RangeIndex: 39717 entries, 0 to 39716\n",
      "Data columns (total 26 columns):\n",
      " #   Column                Non-Null Count  Dtype  \n",
      "---  ------                --------------  -----  \n",
      " 0   loan_amnt             39717 non-null  int64  \n",
      " 1   term                  39717 non-null  object \n",
      " 2   int_rate              39717 non-null  object \n",
      " 3   installment           39717 non-null  float64\n",
      " 4   grade                 39717 non-null  object \n",
      " 5   sub_grade             39717 non-null  object \n",
      " 6   emp_title             37258 non-null  object \n",
      " 7   emp_length            38642 non-null  object \n",
      " 8   home_ownership        39717 non-null  object \n",
      " 9   annual_inc            39717 non-null  float64\n",
      " 10  verification_status   39717 non-null  object \n",
      " 11  loan_status           39717 non-null  object \n",
      " 12  purpose               39717 non-null  object \n",
      " 13  title                 39706 non-null  object \n",
      " 14  zip_code              39717 non-null  object \n",
      " 15  addr_state            39717 non-null  object \n",
      " 16  dti                   39717 non-null  float64\n",
      " 17  delinq_2yrs           39717 non-null  int64  \n",
      " 18  earliest_cr_line      39717 non-null  object \n",
      " 19  inq_last_6mths        39717 non-null  int64  \n",
      " 20  open_acc              39717 non-null  int64  \n",
      " 21  pub_rec               39717 non-null  int64  \n",
      " 22  revol_bal             39717 non-null  int64  \n",
      " 23  revol_util            39667 non-null  object \n",
      " 24  total_acc             39717 non-null  int64  \n",
      " 25  pub_rec_bankruptcies  39020 non-null  float64\n",
      "dtypes: float64(4), int64(7), object(15)\n",
      "memory usage: 7.9+ MB\n"
     ]
    }
   ],
   "source": [
    "df.info()"
   ]
  },
  {
   "cell_type": "markdown",
   "id": "94ad19e0",
   "metadata": {},
   "source": [
    "#### int_rate, emp_length, earliest_cr_line, revol_util should be checked if they can be converted to other useful data types"
   ]
  },
  {
   "cell_type": "markdown",
   "id": "0fc4e0e0",
   "metadata": {},
   "source": [
    "##### Lets check for int_rate"
   ]
  },
  {
   "cell_type": "code",
   "execution_count": 16,
   "id": "aaf5c186",
   "metadata": {},
   "outputs": [
    {
     "data": {
      "text/plain": [
       "int_rate\n",
       "10.99%    956\n",
       "13.49%    826\n",
       "11.49%    825\n",
       "7.51%     787\n",
       "7.88%     725\n",
       "         ... \n",
       "17.34%      1\n",
       "16.71%      1\n",
       "16.15%      1\n",
       "18.36%      1\n",
       "14.67%      1\n",
       "Name: count, Length: 371, dtype: int64"
      ]
     },
     "execution_count": 16,
     "metadata": {},
     "output_type": "execute_result"
    }
   ],
   "source": [
    "df.int_rate.value_counts()"
   ]
  },
  {
   "cell_type": "markdown",
   "id": "72bbecdf",
   "metadata": {},
   "source": [
    "##### We can remove % and convert to float64"
   ]
  },
  {
   "cell_type": "code",
   "execution_count": 17,
   "id": "08923e1c",
   "metadata": {},
   "outputs": [
    {
     "data": {
      "text/plain": [
       "int_rate\n",
       "10.99    956\n",
       "13.49    826\n",
       "11.49    825\n",
       "7.51     787\n",
       "7.88     725\n",
       "        ... \n",
       "17.34      1\n",
       "16.71      1\n",
       "16.15      1\n",
       "18.36      1\n",
       "14.67      1\n",
       "Name: count, Length: 371, dtype: int64"
      ]
     },
     "execution_count": 17,
     "metadata": {},
     "output_type": "execute_result"
    }
   ],
   "source": [
    "df.int_rate = df.int_rate.apply(lambda x: float(x.replace('%','')))\n",
    "df.int_rate.value_counts()"
   ]
  },
  {
   "cell_type": "markdown",
   "id": "7687b7db",
   "metadata": {},
   "source": [
    "##### Lets check for emp_length"
   ]
  },
  {
   "cell_type": "code",
   "execution_count": 18,
   "id": "847a0dab",
   "metadata": {},
   "outputs": [
    {
     "data": {
      "text/plain": [
       "emp_length\n",
       "10+ years    8879\n",
       "< 1 year     4583\n",
       "2 years      4388\n",
       "3 years      4095\n",
       "4 years      3436\n",
       "5 years      3282\n",
       "1 year       3240\n",
       "6 years      2229\n",
       "7 years      1773\n",
       "8 years      1479\n",
       "9 years      1258\n",
       "Name: count, dtype: int64"
      ]
     },
     "execution_count": 18,
     "metadata": {},
     "output_type": "execute_result"
    }
   ],
   "source": [
    "df.emp_length.value_counts()"
   ]
  },
  {
   "cell_type": "code",
   "execution_count": 19,
   "id": "cc2265c3",
   "metadata": {},
   "outputs": [
    {
     "data": {
      "text/plain": [
       "np.int64(1075)"
      ]
     },
     "execution_count": 19,
     "metadata": {},
     "output_type": "execute_result"
    }
   ],
   "source": [
    "df.emp_length.isna().sum()"
   ]
  },
  {
   "cell_type": "markdown",
   "id": "00a208ab",
   "metadata": {},
   "source": [
    "##### We can convert it to float and represent 10+ years as 15.0 and < 1 year as 0.5 and the null values can be represented as 0.0. Null value rows are not removed to prevent the loss of data."
   ]
  },
  {
   "cell_type": "code",
   "execution_count": 20,
   "id": "12b8d2c9",
   "metadata": {},
   "outputs": [],
   "source": [
    "df.emp_length = df.emp_length.str.rstrip(' year').str.rstrip(' years').str.replace('10+','15').replace('< 1','0.5').str.strip(' ').fillna('0').astype('float')"
   ]
  },
  {
   "cell_type": "code",
   "execution_count": 21,
   "id": "65b41c34",
   "metadata": {},
   "outputs": [
    {
     "data": {
      "text/plain": [
       "emp_length\n",
       "15.0    8879\n",
       "0.5     4583\n",
       "2.0     4388\n",
       "3.0     4095\n",
       "4.0     3436\n",
       "5.0     3282\n",
       "1.0     3240\n",
       "6.0     2229\n",
       "7.0     1773\n",
       "8.0     1479\n",
       "9.0     1258\n",
       "0.0     1075\n",
       "Name: count, dtype: int64"
      ]
     },
     "execution_count": 21,
     "metadata": {},
     "output_type": "execute_result"
    }
   ],
   "source": [
    "df.emp_length.value_counts()"
   ]
  },
  {
   "cell_type": "markdown",
   "id": "d3437c81",
   "metadata": {},
   "source": [
    "##### Lets check for earliest_cr_line"
   ]
  },
  {
   "cell_type": "code",
   "execution_count": 22,
   "id": "5e5f42bd",
   "metadata": {},
   "outputs": [
    {
     "data": {
      "text/plain": [
       "earliest_cr_line\n",
       "Nov-98    370\n",
       "Oct-99    366\n",
       "Dec-98    348\n",
       "Oct-00    346\n",
       "Dec-97    329\n",
       "         ... \n",
       "Jul-64      1\n",
       "Apr-66      1\n",
       "Dec-66      1\n",
       "Oct-68      1\n",
       "Oct-74      1\n",
       "Name: count, Length: 526, dtype: int64"
      ]
     },
     "execution_count": 22,
     "metadata": {},
     "output_type": "execute_result"
    }
   ],
   "source": [
    "df.earliest_cr_line.value_counts()"
   ]
  },
  {
   "cell_type": "markdown",
   "id": "ac298736",
   "metadata": {},
   "source": [
    "##### We can convert earliest_cr_line to datetime format"
   ]
  },
  {
   "cell_type": "code",
   "execution_count": 23,
   "id": "1ede10ac",
   "metadata": {},
   "outputs": [
    {
     "data": {
      "text/plain": [
       "earliest_cr_line\n",
       "1998-11-01    370\n",
       "1999-10-01    366\n",
       "1998-12-01    348\n",
       "2000-10-01    346\n",
       "1997-12-01    329\n",
       "             ... \n",
       "2064-07-01      1\n",
       "2066-04-01      1\n",
       "2066-12-01      1\n",
       "2068-10-01      1\n",
       "1974-10-01      1\n",
       "Name: count, Length: 526, dtype: int64"
      ]
     },
     "execution_count": 23,
     "metadata": {},
     "output_type": "execute_result"
    }
   ],
   "source": [
    "df.earliest_cr_line = pd.to_datetime(df.earliest_cr_line,format='%b-%y')\n",
    "df.earliest_cr_line.value_counts()"
   ]
  },
  {
   "cell_type": "markdown",
   "id": "f98be18d",
   "metadata": {},
   "source": [
    "##### Lets check for revol_util "
   ]
  },
  {
   "cell_type": "code",
   "execution_count": 24,
   "id": "9add9bfc",
   "metadata": {},
   "outputs": [
    {
     "data": {
      "text/plain": [
       "revol_util\n",
       "0%        977\n",
       "0.20%      63\n",
       "63%        62\n",
       "40.70%     58\n",
       "66.70%     58\n",
       "         ... \n",
       "0.75%       1\n",
       "2.64%       1\n",
       "81.31%      1\n",
       "26.33%      1\n",
       "7.28%       1\n",
       "Name: count, Length: 1089, dtype: int64"
      ]
     },
     "execution_count": 24,
     "metadata": {},
     "output_type": "execute_result"
    }
   ],
   "source": [
    "df.revol_util.value_counts()"
   ]
  },
  {
   "cell_type": "code",
   "execution_count": 25,
   "id": "6cddccb9",
   "metadata": {},
   "outputs": [
    {
     "data": {
      "text/plain": [
       "np.int64(50)"
      ]
     },
     "execution_count": 25,
     "metadata": {},
     "output_type": "execute_result"
    }
   ],
   "source": [
    "df.revol_util.isna().sum()"
   ]
  },
  {
   "cell_type": "markdown",
   "id": "f4599aec",
   "metadata": {},
   "source": [
    "##### revol_util has some null values and we can remove these small number of rows from our analysis. And then we can convert it to float after removing the % signs."
   ]
  },
  {
   "cell_type": "code",
   "execution_count": 26,
   "id": "d792810c",
   "metadata": {},
   "outputs": [],
   "source": [
    "df = df[~df.revol_util.isna()]"
   ]
  },
  {
   "cell_type": "code",
   "execution_count": 27,
   "id": "e5630f55",
   "metadata": {},
   "outputs": [
    {
     "data": {
      "text/plain": [
       "revol_util\n",
       "0.00     977\n",
       "0.20      63\n",
       "63.00     62\n",
       "40.70     58\n",
       "66.70     58\n",
       "        ... \n",
       "0.75       1\n",
       "2.64       1\n",
       "81.31      1\n",
       "26.33      1\n",
       "7.28       1\n",
       "Name: count, Length: 1089, dtype: int64"
      ]
     },
     "execution_count": 27,
     "metadata": {},
     "output_type": "execute_result"
    }
   ],
   "source": [
    "df.revol_util = df.revol_util.apply(lambda x: float(x.replace('%','')))\n",
    "df.revol_util.value_counts()"
   ]
  },
  {
   "cell_type": "code",
   "execution_count": 28,
   "id": "51dcf825",
   "metadata": {},
   "outputs": [],
   "source": [
    "df.reset_index(inplace=True,drop=True)"
   ]
  },
  {
   "cell_type": "markdown",
   "id": "b18794fc",
   "metadata": {},
   "source": [
    "#### Now data cleaning has completed. We will move onto analysis part now and derive variables wherever necessary/"
   ]
  },
  {
   "cell_type": "markdown",
   "id": "1a9920ac",
   "metadata": {},
   "source": [
    "## Data Analysis"
   ]
  },
  {
   "cell_type": "code",
   "execution_count": 29,
   "id": "9672a5c6",
   "metadata": {},
   "outputs": [
    {
     "data": {
      "text/html": [
       "<div>\n",
       "<style scoped>\n",
       "    .dataframe tbody tr th:only-of-type {\n",
       "        vertical-align: middle;\n",
       "    }\n",
       "\n",
       "    .dataframe tbody tr th {\n",
       "        vertical-align: top;\n",
       "    }\n",
       "\n",
       "    .dataframe thead th {\n",
       "        text-align: right;\n",
       "    }\n",
       "</style>\n",
       "<table border=\"1\" class=\"dataframe\">\n",
       "  <thead>\n",
       "    <tr style=\"text-align: right;\">\n",
       "      <th></th>\n",
       "      <th>loan_amnt</th>\n",
       "      <th>term</th>\n",
       "      <th>int_rate</th>\n",
       "      <th>installment</th>\n",
       "      <th>grade</th>\n",
       "      <th>sub_grade</th>\n",
       "      <th>emp_title</th>\n",
       "      <th>emp_length</th>\n",
       "      <th>home_ownership</th>\n",
       "      <th>annual_inc</th>\n",
       "      <th>...</th>\n",
       "      <th>dti</th>\n",
       "      <th>delinq_2yrs</th>\n",
       "      <th>earliest_cr_line</th>\n",
       "      <th>inq_last_6mths</th>\n",
       "      <th>open_acc</th>\n",
       "      <th>pub_rec</th>\n",
       "      <th>revol_bal</th>\n",
       "      <th>revol_util</th>\n",
       "      <th>total_acc</th>\n",
       "      <th>pub_rec_bankruptcies</th>\n",
       "    </tr>\n",
       "  </thead>\n",
       "  <tbody>\n",
       "    <tr>\n",
       "      <th>0</th>\n",
       "      <td>5000</td>\n",
       "      <td>36 months</td>\n",
       "      <td>10.65</td>\n",
       "      <td>162.87</td>\n",
       "      <td>B</td>\n",
       "      <td>B2</td>\n",
       "      <td>NaN</td>\n",
       "      <td>15.0</td>\n",
       "      <td>RENT</td>\n",
       "      <td>24000.0</td>\n",
       "      <td>...</td>\n",
       "      <td>27.65</td>\n",
       "      <td>0</td>\n",
       "      <td>1985-01-01</td>\n",
       "      <td>1</td>\n",
       "      <td>3</td>\n",
       "      <td>0</td>\n",
       "      <td>13648</td>\n",
       "      <td>83.7</td>\n",
       "      <td>9</td>\n",
       "      <td>0.0</td>\n",
       "    </tr>\n",
       "    <tr>\n",
       "      <th>1</th>\n",
       "      <td>2500</td>\n",
       "      <td>60 months</td>\n",
       "      <td>15.27</td>\n",
       "      <td>59.83</td>\n",
       "      <td>C</td>\n",
       "      <td>C4</td>\n",
       "      <td>Ryder</td>\n",
       "      <td>0.5</td>\n",
       "      <td>RENT</td>\n",
       "      <td>30000.0</td>\n",
       "      <td>...</td>\n",
       "      <td>1.00</td>\n",
       "      <td>0</td>\n",
       "      <td>1999-04-01</td>\n",
       "      <td>5</td>\n",
       "      <td>3</td>\n",
       "      <td>0</td>\n",
       "      <td>1687</td>\n",
       "      <td>9.4</td>\n",
       "      <td>4</td>\n",
       "      <td>0.0</td>\n",
       "    </tr>\n",
       "    <tr>\n",
       "      <th>2</th>\n",
       "      <td>2400</td>\n",
       "      <td>36 months</td>\n",
       "      <td>15.96</td>\n",
       "      <td>84.33</td>\n",
       "      <td>C</td>\n",
       "      <td>C5</td>\n",
       "      <td>NaN</td>\n",
       "      <td>15.0</td>\n",
       "      <td>RENT</td>\n",
       "      <td>12252.0</td>\n",
       "      <td>...</td>\n",
       "      <td>8.72</td>\n",
       "      <td>0</td>\n",
       "      <td>2001-11-01</td>\n",
       "      <td>2</td>\n",
       "      <td>2</td>\n",
       "      <td>0</td>\n",
       "      <td>2956</td>\n",
       "      <td>98.5</td>\n",
       "      <td>10</td>\n",
       "      <td>0.0</td>\n",
       "    </tr>\n",
       "    <tr>\n",
       "      <th>3</th>\n",
       "      <td>10000</td>\n",
       "      <td>36 months</td>\n",
       "      <td>13.49</td>\n",
       "      <td>339.31</td>\n",
       "      <td>C</td>\n",
       "      <td>C1</td>\n",
       "      <td>AIR RESOURCES BOARD</td>\n",
       "      <td>15.0</td>\n",
       "      <td>RENT</td>\n",
       "      <td>49200.0</td>\n",
       "      <td>...</td>\n",
       "      <td>20.00</td>\n",
       "      <td>0</td>\n",
       "      <td>1996-02-01</td>\n",
       "      <td>1</td>\n",
       "      <td>10</td>\n",
       "      <td>0</td>\n",
       "      <td>5598</td>\n",
       "      <td>21.0</td>\n",
       "      <td>37</td>\n",
       "      <td>0.0</td>\n",
       "    </tr>\n",
       "    <tr>\n",
       "      <th>4</th>\n",
       "      <td>3000</td>\n",
       "      <td>60 months</td>\n",
       "      <td>12.69</td>\n",
       "      <td>67.79</td>\n",
       "      <td>B</td>\n",
       "      <td>B5</td>\n",
       "      <td>University Medical Group</td>\n",
       "      <td>1.0</td>\n",
       "      <td>RENT</td>\n",
       "      <td>80000.0</td>\n",
       "      <td>...</td>\n",
       "      <td>17.94</td>\n",
       "      <td>0</td>\n",
       "      <td>1996-01-01</td>\n",
       "      <td>0</td>\n",
       "      <td>15</td>\n",
       "      <td>0</td>\n",
       "      <td>27783</td>\n",
       "      <td>53.9</td>\n",
       "      <td>38</td>\n",
       "      <td>0.0</td>\n",
       "    </tr>\n",
       "    <tr>\n",
       "      <th>...</th>\n",
       "      <td>...</td>\n",
       "      <td>...</td>\n",
       "      <td>...</td>\n",
       "      <td>...</td>\n",
       "      <td>...</td>\n",
       "      <td>...</td>\n",
       "      <td>...</td>\n",
       "      <td>...</td>\n",
       "      <td>...</td>\n",
       "      <td>...</td>\n",
       "      <td>...</td>\n",
       "      <td>...</td>\n",
       "      <td>...</td>\n",
       "      <td>...</td>\n",
       "      <td>...</td>\n",
       "      <td>...</td>\n",
       "      <td>...</td>\n",
       "      <td>...</td>\n",
       "      <td>...</td>\n",
       "      <td>...</td>\n",
       "      <td>...</td>\n",
       "    </tr>\n",
       "    <tr>\n",
       "      <th>39662</th>\n",
       "      <td>2500</td>\n",
       "      <td>36 months</td>\n",
       "      <td>8.07</td>\n",
       "      <td>78.42</td>\n",
       "      <td>A</td>\n",
       "      <td>A4</td>\n",
       "      <td>FiSite Research</td>\n",
       "      <td>4.0</td>\n",
       "      <td>MORTGAGE</td>\n",
       "      <td>110000.0</td>\n",
       "      <td>...</td>\n",
       "      <td>11.33</td>\n",
       "      <td>0</td>\n",
       "      <td>1990-11-01</td>\n",
       "      <td>0</td>\n",
       "      <td>13</td>\n",
       "      <td>0</td>\n",
       "      <td>7274</td>\n",
       "      <td>13.1</td>\n",
       "      <td>40</td>\n",
       "      <td>NaN</td>\n",
       "    </tr>\n",
       "    <tr>\n",
       "      <th>39663</th>\n",
       "      <td>8500</td>\n",
       "      <td>36 months</td>\n",
       "      <td>10.28</td>\n",
       "      <td>275.38</td>\n",
       "      <td>C</td>\n",
       "      <td>C1</td>\n",
       "      <td>Squarewave Solutions, Ltd.</td>\n",
       "      <td>3.0</td>\n",
       "      <td>RENT</td>\n",
       "      <td>18000.0</td>\n",
       "      <td>...</td>\n",
       "      <td>6.40</td>\n",
       "      <td>1</td>\n",
       "      <td>1986-12-01</td>\n",
       "      <td>1</td>\n",
       "      <td>6</td>\n",
       "      <td>0</td>\n",
       "      <td>8847</td>\n",
       "      <td>26.9</td>\n",
       "      <td>9</td>\n",
       "      <td>NaN</td>\n",
       "    </tr>\n",
       "    <tr>\n",
       "      <th>39664</th>\n",
       "      <td>5000</td>\n",
       "      <td>36 months</td>\n",
       "      <td>8.07</td>\n",
       "      <td>156.84</td>\n",
       "      <td>A</td>\n",
       "      <td>A4</td>\n",
       "      <td>NaN</td>\n",
       "      <td>0.5</td>\n",
       "      <td>MORTGAGE</td>\n",
       "      <td>100000.0</td>\n",
       "      <td>...</td>\n",
       "      <td>2.30</td>\n",
       "      <td>0</td>\n",
       "      <td>1998-10-01</td>\n",
       "      <td>0</td>\n",
       "      <td>11</td>\n",
       "      <td>0</td>\n",
       "      <td>9698</td>\n",
       "      <td>19.4</td>\n",
       "      <td>20</td>\n",
       "      <td>NaN</td>\n",
       "    </tr>\n",
       "    <tr>\n",
       "      <th>39665</th>\n",
       "      <td>5000</td>\n",
       "      <td>36 months</td>\n",
       "      <td>7.43</td>\n",
       "      <td>155.38</td>\n",
       "      <td>A</td>\n",
       "      <td>A2</td>\n",
       "      <td>NaN</td>\n",
       "      <td>0.5</td>\n",
       "      <td>MORTGAGE</td>\n",
       "      <td>200000.0</td>\n",
       "      <td>...</td>\n",
       "      <td>3.72</td>\n",
       "      <td>0</td>\n",
       "      <td>1988-11-01</td>\n",
       "      <td>0</td>\n",
       "      <td>17</td>\n",
       "      <td>0</td>\n",
       "      <td>85607</td>\n",
       "      <td>0.7</td>\n",
       "      <td>26</td>\n",
       "      <td>NaN</td>\n",
       "    </tr>\n",
       "    <tr>\n",
       "      <th>39666</th>\n",
       "      <td>7500</td>\n",
       "      <td>36 months</td>\n",
       "      <td>13.75</td>\n",
       "      <td>255.43</td>\n",
       "      <td>E</td>\n",
       "      <td>E2</td>\n",
       "      <td>Evergreen Center</td>\n",
       "      <td>0.5</td>\n",
       "      <td>OWN</td>\n",
       "      <td>22000.0</td>\n",
       "      <td>...</td>\n",
       "      <td>14.29</td>\n",
       "      <td>1</td>\n",
       "      <td>2003-10-01</td>\n",
       "      <td>0</td>\n",
       "      <td>7</td>\n",
       "      <td>0</td>\n",
       "      <td>4175</td>\n",
       "      <td>51.5</td>\n",
       "      <td>8</td>\n",
       "      <td>NaN</td>\n",
       "    </tr>\n",
       "  </tbody>\n",
       "</table>\n",
       "<p>39667 rows × 26 columns</p>\n",
       "</div>"
      ],
      "text/plain": [
       "       loan_amnt        term  int_rate  installment grade sub_grade  \\\n",
       "0           5000   36 months     10.65       162.87     B        B2   \n",
       "1           2500   60 months     15.27        59.83     C        C4   \n",
       "2           2400   36 months     15.96        84.33     C        C5   \n",
       "3          10000   36 months     13.49       339.31     C        C1   \n",
       "4           3000   60 months     12.69        67.79     B        B5   \n",
       "...          ...         ...       ...          ...   ...       ...   \n",
       "39662       2500   36 months      8.07        78.42     A        A4   \n",
       "39663       8500   36 months     10.28       275.38     C        C1   \n",
       "39664       5000   36 months      8.07       156.84     A        A4   \n",
       "39665       5000   36 months      7.43       155.38     A        A2   \n",
       "39666       7500   36 months     13.75       255.43     E        E2   \n",
       "\n",
       "                        emp_title  emp_length home_ownership  annual_inc  ...  \\\n",
       "0                             NaN        15.0           RENT     24000.0  ...   \n",
       "1                           Ryder         0.5           RENT     30000.0  ...   \n",
       "2                             NaN        15.0           RENT     12252.0  ...   \n",
       "3             AIR RESOURCES BOARD        15.0           RENT     49200.0  ...   \n",
       "4        University Medical Group         1.0           RENT     80000.0  ...   \n",
       "...                           ...         ...            ...         ...  ...   \n",
       "39662             FiSite Research         4.0       MORTGAGE    110000.0  ...   \n",
       "39663  Squarewave Solutions, Ltd.         3.0           RENT     18000.0  ...   \n",
       "39664                         NaN         0.5       MORTGAGE    100000.0  ...   \n",
       "39665                         NaN         0.5       MORTGAGE    200000.0  ...   \n",
       "39666            Evergreen Center         0.5            OWN     22000.0  ...   \n",
       "\n",
       "         dti delinq_2yrs earliest_cr_line inq_last_6mths open_acc pub_rec  \\\n",
       "0      27.65           0       1985-01-01              1        3       0   \n",
       "1       1.00           0       1999-04-01              5        3       0   \n",
       "2       8.72           0       2001-11-01              2        2       0   \n",
       "3      20.00           0       1996-02-01              1       10       0   \n",
       "4      17.94           0       1996-01-01              0       15       0   \n",
       "...      ...         ...              ...            ...      ...     ...   \n",
       "39662  11.33           0       1990-11-01              0       13       0   \n",
       "39663   6.40           1       1986-12-01              1        6       0   \n",
       "39664   2.30           0       1998-10-01              0       11       0   \n",
       "39665   3.72           0       1988-11-01              0       17       0   \n",
       "39666  14.29           1       2003-10-01              0        7       0   \n",
       "\n",
       "       revol_bal  revol_util total_acc  pub_rec_bankruptcies  \n",
       "0          13648        83.7         9                   0.0  \n",
       "1           1687         9.4         4                   0.0  \n",
       "2           2956        98.5        10                   0.0  \n",
       "3           5598        21.0        37                   0.0  \n",
       "4          27783        53.9        38                   0.0  \n",
       "...          ...         ...       ...                   ...  \n",
       "39662       7274        13.1        40                   NaN  \n",
       "39663       8847        26.9         9                   NaN  \n",
       "39664       9698        19.4        20                   NaN  \n",
       "39665      85607         0.7        26                   NaN  \n",
       "39666       4175        51.5         8                   NaN  \n",
       "\n",
       "[39667 rows x 26 columns]"
      ]
     },
     "execution_count": 29,
     "metadata": {},
     "output_type": "execute_result"
    }
   ],
   "source": [
    "df"
   ]
  },
  {
   "cell_type": "code",
   "execution_count": 30,
   "id": "d1e4502f",
   "metadata": {},
   "outputs": [
    {
     "name": "stdout",
     "output_type": "stream",
     "text": [
      "<class 'pandas.core.frame.DataFrame'>\n",
      "RangeIndex: 39667 entries, 0 to 39666\n",
      "Data columns (total 26 columns):\n",
      " #   Column                Non-Null Count  Dtype         \n",
      "---  ------                --------------  -----         \n",
      " 0   loan_amnt             39667 non-null  int64         \n",
      " 1   term                  39667 non-null  object        \n",
      " 2   int_rate              39667 non-null  float64       \n",
      " 3   installment           39667 non-null  float64       \n",
      " 4   grade                 39667 non-null  object        \n",
      " 5   sub_grade             39667 non-null  object        \n",
      " 6   emp_title             37212 non-null  object        \n",
      " 7   emp_length            39667 non-null  float64       \n",
      " 8   home_ownership        39667 non-null  object        \n",
      " 9   annual_inc            39667 non-null  float64       \n",
      " 10  verification_status   39667 non-null  object        \n",
      " 11  loan_status           39667 non-null  object        \n",
      " 12  purpose               39667 non-null  object        \n",
      " 13  title                 39656 non-null  object        \n",
      " 14  zip_code              39667 non-null  object        \n",
      " 15  addr_state            39667 non-null  object        \n",
      " 16  dti                   39667 non-null  float64       \n",
      " 17  delinq_2yrs           39667 non-null  int64         \n",
      " 18  earliest_cr_line      39667 non-null  datetime64[ns]\n",
      " 19  inq_last_6mths        39667 non-null  int64         \n",
      " 20  open_acc              39667 non-null  int64         \n",
      " 21  pub_rec               39667 non-null  int64         \n",
      " 22  revol_bal             39667 non-null  int64         \n",
      " 23  revol_util            39667 non-null  float64       \n",
      " 24  total_acc             39667 non-null  int64         \n",
      " 25  pub_rec_bankruptcies  38970 non-null  float64       \n",
      "dtypes: datetime64[ns](1), float64(7), int64(7), object(11)\n",
      "memory usage: 7.9+ MB\n"
     ]
    }
   ],
   "source": [
    "df.info()"
   ]
  },
  {
   "cell_type": "markdown",
   "id": "09c68b83",
   "metadata": {},
   "source": [
    "#### Lets Store current dataframe in a backup"
   ]
  },
  {
   "cell_type": "code",
   "execution_count": 31,
   "id": "e125a24f",
   "metadata": {},
   "outputs": [],
   "source": [
    "df_backup = df"
   ]
  },
  {
   "cell_type": "markdown",
   "id": "f67616cd",
   "metadata": {},
   "source": [
    "#### We can remove the rows with loan_status = current since we want to analyse only for fully paid and charged off (defaulters)"
   ]
  },
  {
   "cell_type": "code",
   "execution_count": 32,
   "id": "351015b0",
   "metadata": {},
   "outputs": [
    {
     "data": {
      "text/html": [
       "<div>\n",
       "<style scoped>\n",
       "    .dataframe tbody tr th:only-of-type {\n",
       "        vertical-align: middle;\n",
       "    }\n",
       "\n",
       "    .dataframe tbody tr th {\n",
       "        vertical-align: top;\n",
       "    }\n",
       "\n",
       "    .dataframe thead th {\n",
       "        text-align: right;\n",
       "    }\n",
       "</style>\n",
       "<table border=\"1\" class=\"dataframe\">\n",
       "  <thead>\n",
       "    <tr style=\"text-align: right;\">\n",
       "      <th></th>\n",
       "      <th>loan_amnt</th>\n",
       "      <th>term</th>\n",
       "      <th>int_rate</th>\n",
       "      <th>installment</th>\n",
       "      <th>grade</th>\n",
       "      <th>sub_grade</th>\n",
       "      <th>emp_title</th>\n",
       "      <th>emp_length</th>\n",
       "      <th>home_ownership</th>\n",
       "      <th>annual_inc</th>\n",
       "      <th>...</th>\n",
       "      <th>dti</th>\n",
       "      <th>delinq_2yrs</th>\n",
       "      <th>earliest_cr_line</th>\n",
       "      <th>inq_last_6mths</th>\n",
       "      <th>open_acc</th>\n",
       "      <th>pub_rec</th>\n",
       "      <th>revol_bal</th>\n",
       "      <th>revol_util</th>\n",
       "      <th>total_acc</th>\n",
       "      <th>pub_rec_bankruptcies</th>\n",
       "    </tr>\n",
       "  </thead>\n",
       "  <tbody>\n",
       "    <tr>\n",
       "      <th>0</th>\n",
       "      <td>5000</td>\n",
       "      <td>36 months</td>\n",
       "      <td>10.65</td>\n",
       "      <td>162.87</td>\n",
       "      <td>B</td>\n",
       "      <td>B2</td>\n",
       "      <td>NaN</td>\n",
       "      <td>15.0</td>\n",
       "      <td>RENT</td>\n",
       "      <td>24000.0</td>\n",
       "      <td>...</td>\n",
       "      <td>27.65</td>\n",
       "      <td>0</td>\n",
       "      <td>1985-01-01</td>\n",
       "      <td>1</td>\n",
       "      <td>3</td>\n",
       "      <td>0</td>\n",
       "      <td>13648</td>\n",
       "      <td>83.7</td>\n",
       "      <td>9</td>\n",
       "      <td>0.0</td>\n",
       "    </tr>\n",
       "    <tr>\n",
       "      <th>1</th>\n",
       "      <td>2500</td>\n",
       "      <td>60 months</td>\n",
       "      <td>15.27</td>\n",
       "      <td>59.83</td>\n",
       "      <td>C</td>\n",
       "      <td>C4</td>\n",
       "      <td>Ryder</td>\n",
       "      <td>0.5</td>\n",
       "      <td>RENT</td>\n",
       "      <td>30000.0</td>\n",
       "      <td>...</td>\n",
       "      <td>1.00</td>\n",
       "      <td>0</td>\n",
       "      <td>1999-04-01</td>\n",
       "      <td>5</td>\n",
       "      <td>3</td>\n",
       "      <td>0</td>\n",
       "      <td>1687</td>\n",
       "      <td>9.4</td>\n",
       "      <td>4</td>\n",
       "      <td>0.0</td>\n",
       "    </tr>\n",
       "    <tr>\n",
       "      <th>2</th>\n",
       "      <td>2400</td>\n",
       "      <td>36 months</td>\n",
       "      <td>15.96</td>\n",
       "      <td>84.33</td>\n",
       "      <td>C</td>\n",
       "      <td>C5</td>\n",
       "      <td>NaN</td>\n",
       "      <td>15.0</td>\n",
       "      <td>RENT</td>\n",
       "      <td>12252.0</td>\n",
       "      <td>...</td>\n",
       "      <td>8.72</td>\n",
       "      <td>0</td>\n",
       "      <td>2001-11-01</td>\n",
       "      <td>2</td>\n",
       "      <td>2</td>\n",
       "      <td>0</td>\n",
       "      <td>2956</td>\n",
       "      <td>98.5</td>\n",
       "      <td>10</td>\n",
       "      <td>0.0</td>\n",
       "    </tr>\n",
       "    <tr>\n",
       "      <th>3</th>\n",
       "      <td>10000</td>\n",
       "      <td>36 months</td>\n",
       "      <td>13.49</td>\n",
       "      <td>339.31</td>\n",
       "      <td>C</td>\n",
       "      <td>C1</td>\n",
       "      <td>AIR RESOURCES BOARD</td>\n",
       "      <td>15.0</td>\n",
       "      <td>RENT</td>\n",
       "      <td>49200.0</td>\n",
       "      <td>...</td>\n",
       "      <td>20.00</td>\n",
       "      <td>0</td>\n",
       "      <td>1996-02-01</td>\n",
       "      <td>1</td>\n",
       "      <td>10</td>\n",
       "      <td>0</td>\n",
       "      <td>5598</td>\n",
       "      <td>21.0</td>\n",
       "      <td>37</td>\n",
       "      <td>0.0</td>\n",
       "    </tr>\n",
       "    <tr>\n",
       "      <th>4</th>\n",
       "      <td>5000</td>\n",
       "      <td>36 months</td>\n",
       "      <td>7.90</td>\n",
       "      <td>156.46</td>\n",
       "      <td>A</td>\n",
       "      <td>A4</td>\n",
       "      <td>Veolia Transportaton</td>\n",
       "      <td>3.0</td>\n",
       "      <td>RENT</td>\n",
       "      <td>36000.0</td>\n",
       "      <td>...</td>\n",
       "      <td>11.20</td>\n",
       "      <td>0</td>\n",
       "      <td>2004-11-01</td>\n",
       "      <td>3</td>\n",
       "      <td>9</td>\n",
       "      <td>0</td>\n",
       "      <td>7963</td>\n",
       "      <td>28.3</td>\n",
       "      <td>12</td>\n",
       "      <td>0.0</td>\n",
       "    </tr>\n",
       "    <tr>\n",
       "      <th>...</th>\n",
       "      <td>...</td>\n",
       "      <td>...</td>\n",
       "      <td>...</td>\n",
       "      <td>...</td>\n",
       "      <td>...</td>\n",
       "      <td>...</td>\n",
       "      <td>...</td>\n",
       "      <td>...</td>\n",
       "      <td>...</td>\n",
       "      <td>...</td>\n",
       "      <td>...</td>\n",
       "      <td>...</td>\n",
       "      <td>...</td>\n",
       "      <td>...</td>\n",
       "      <td>...</td>\n",
       "      <td>...</td>\n",
       "      <td>...</td>\n",
       "      <td>...</td>\n",
       "      <td>...</td>\n",
       "      <td>...</td>\n",
       "      <td>...</td>\n",
       "    </tr>\n",
       "    <tr>\n",
       "      <th>38522</th>\n",
       "      <td>2500</td>\n",
       "      <td>36 months</td>\n",
       "      <td>8.07</td>\n",
       "      <td>78.42</td>\n",
       "      <td>A</td>\n",
       "      <td>A4</td>\n",
       "      <td>FiSite Research</td>\n",
       "      <td>4.0</td>\n",
       "      <td>MORTGAGE</td>\n",
       "      <td>110000.0</td>\n",
       "      <td>...</td>\n",
       "      <td>11.33</td>\n",
       "      <td>0</td>\n",
       "      <td>1990-11-01</td>\n",
       "      <td>0</td>\n",
       "      <td>13</td>\n",
       "      <td>0</td>\n",
       "      <td>7274</td>\n",
       "      <td>13.1</td>\n",
       "      <td>40</td>\n",
       "      <td>NaN</td>\n",
       "    </tr>\n",
       "    <tr>\n",
       "      <th>38523</th>\n",
       "      <td>8500</td>\n",
       "      <td>36 months</td>\n",
       "      <td>10.28</td>\n",
       "      <td>275.38</td>\n",
       "      <td>C</td>\n",
       "      <td>C1</td>\n",
       "      <td>Squarewave Solutions, Ltd.</td>\n",
       "      <td>3.0</td>\n",
       "      <td>RENT</td>\n",
       "      <td>18000.0</td>\n",
       "      <td>...</td>\n",
       "      <td>6.40</td>\n",
       "      <td>1</td>\n",
       "      <td>1986-12-01</td>\n",
       "      <td>1</td>\n",
       "      <td>6</td>\n",
       "      <td>0</td>\n",
       "      <td>8847</td>\n",
       "      <td>26.9</td>\n",
       "      <td>9</td>\n",
       "      <td>NaN</td>\n",
       "    </tr>\n",
       "    <tr>\n",
       "      <th>38524</th>\n",
       "      <td>5000</td>\n",
       "      <td>36 months</td>\n",
       "      <td>8.07</td>\n",
       "      <td>156.84</td>\n",
       "      <td>A</td>\n",
       "      <td>A4</td>\n",
       "      <td>NaN</td>\n",
       "      <td>0.5</td>\n",
       "      <td>MORTGAGE</td>\n",
       "      <td>100000.0</td>\n",
       "      <td>...</td>\n",
       "      <td>2.30</td>\n",
       "      <td>0</td>\n",
       "      <td>1998-10-01</td>\n",
       "      <td>0</td>\n",
       "      <td>11</td>\n",
       "      <td>0</td>\n",
       "      <td>9698</td>\n",
       "      <td>19.4</td>\n",
       "      <td>20</td>\n",
       "      <td>NaN</td>\n",
       "    </tr>\n",
       "    <tr>\n",
       "      <th>38525</th>\n",
       "      <td>5000</td>\n",
       "      <td>36 months</td>\n",
       "      <td>7.43</td>\n",
       "      <td>155.38</td>\n",
       "      <td>A</td>\n",
       "      <td>A2</td>\n",
       "      <td>NaN</td>\n",
       "      <td>0.5</td>\n",
       "      <td>MORTGAGE</td>\n",
       "      <td>200000.0</td>\n",
       "      <td>...</td>\n",
       "      <td>3.72</td>\n",
       "      <td>0</td>\n",
       "      <td>1988-11-01</td>\n",
       "      <td>0</td>\n",
       "      <td>17</td>\n",
       "      <td>0</td>\n",
       "      <td>85607</td>\n",
       "      <td>0.7</td>\n",
       "      <td>26</td>\n",
       "      <td>NaN</td>\n",
       "    </tr>\n",
       "    <tr>\n",
       "      <th>38526</th>\n",
       "      <td>7500</td>\n",
       "      <td>36 months</td>\n",
       "      <td>13.75</td>\n",
       "      <td>255.43</td>\n",
       "      <td>E</td>\n",
       "      <td>E2</td>\n",
       "      <td>Evergreen Center</td>\n",
       "      <td>0.5</td>\n",
       "      <td>OWN</td>\n",
       "      <td>22000.0</td>\n",
       "      <td>...</td>\n",
       "      <td>14.29</td>\n",
       "      <td>1</td>\n",
       "      <td>2003-10-01</td>\n",
       "      <td>0</td>\n",
       "      <td>7</td>\n",
       "      <td>0</td>\n",
       "      <td>4175</td>\n",
       "      <td>51.5</td>\n",
       "      <td>8</td>\n",
       "      <td>NaN</td>\n",
       "    </tr>\n",
       "  </tbody>\n",
       "</table>\n",
       "<p>38527 rows × 26 columns</p>\n",
       "</div>"
      ],
      "text/plain": [
       "       loan_amnt        term  int_rate  installment grade sub_grade  \\\n",
       "0           5000   36 months     10.65       162.87     B        B2   \n",
       "1           2500   60 months     15.27        59.83     C        C4   \n",
       "2           2400   36 months     15.96        84.33     C        C5   \n",
       "3          10000   36 months     13.49       339.31     C        C1   \n",
       "4           5000   36 months      7.90       156.46     A        A4   \n",
       "...          ...         ...       ...          ...   ...       ...   \n",
       "38522       2500   36 months      8.07        78.42     A        A4   \n",
       "38523       8500   36 months     10.28       275.38     C        C1   \n",
       "38524       5000   36 months      8.07       156.84     A        A4   \n",
       "38525       5000   36 months      7.43       155.38     A        A2   \n",
       "38526       7500   36 months     13.75       255.43     E        E2   \n",
       "\n",
       "                        emp_title  emp_length home_ownership  annual_inc  ...  \\\n",
       "0                             NaN        15.0           RENT     24000.0  ...   \n",
       "1                           Ryder         0.5           RENT     30000.0  ...   \n",
       "2                             NaN        15.0           RENT     12252.0  ...   \n",
       "3             AIR RESOURCES BOARD        15.0           RENT     49200.0  ...   \n",
       "4            Veolia Transportaton         3.0           RENT     36000.0  ...   \n",
       "...                           ...         ...            ...         ...  ...   \n",
       "38522             FiSite Research         4.0       MORTGAGE    110000.0  ...   \n",
       "38523  Squarewave Solutions, Ltd.         3.0           RENT     18000.0  ...   \n",
       "38524                         NaN         0.5       MORTGAGE    100000.0  ...   \n",
       "38525                         NaN         0.5       MORTGAGE    200000.0  ...   \n",
       "38526            Evergreen Center         0.5            OWN     22000.0  ...   \n",
       "\n",
       "         dti delinq_2yrs earliest_cr_line inq_last_6mths open_acc pub_rec  \\\n",
       "0      27.65           0       1985-01-01              1        3       0   \n",
       "1       1.00           0       1999-04-01              5        3       0   \n",
       "2       8.72           0       2001-11-01              2        2       0   \n",
       "3      20.00           0       1996-02-01              1       10       0   \n",
       "4      11.20           0       2004-11-01              3        9       0   \n",
       "...      ...         ...              ...            ...      ...     ...   \n",
       "38522  11.33           0       1990-11-01              0       13       0   \n",
       "38523   6.40           1       1986-12-01              1        6       0   \n",
       "38524   2.30           0       1998-10-01              0       11       0   \n",
       "38525   3.72           0       1988-11-01              0       17       0   \n",
       "38526  14.29           1       2003-10-01              0        7       0   \n",
       "\n",
       "       revol_bal  revol_util total_acc  pub_rec_bankruptcies  \n",
       "0          13648        83.7         9                   0.0  \n",
       "1           1687         9.4         4                   0.0  \n",
       "2           2956        98.5        10                   0.0  \n",
       "3           5598        21.0        37                   0.0  \n",
       "4           7963        28.3        12                   0.0  \n",
       "...          ...         ...       ...                   ...  \n",
       "38522       7274        13.1        40                   NaN  \n",
       "38523       8847        26.9         9                   NaN  \n",
       "38524       9698        19.4        20                   NaN  \n",
       "38525      85607         0.7        26                   NaN  \n",
       "38526       4175        51.5         8                   NaN  \n",
       "\n",
       "[38527 rows x 26 columns]"
      ]
     },
     "execution_count": 32,
     "metadata": {},
     "output_type": "execute_result"
    }
   ],
   "source": [
    "df = df[df['loan_status'] != 'Current'].reset_index(drop=True)\n",
    "df"
   ]
  },
  {
   "cell_type": "markdown",
   "id": "46e0b6f5",
   "metadata": {},
   "source": [
    "#### Also, lets mention the consumer attributes (ca) and loan attributes (la)"
   ]
  },
  {
   "cell_type": "code",
   "execution_count": 33,
   "id": "c35fbb5e",
   "metadata": {},
   "outputs": [],
   "source": [
    "ca = ['emp_title','emp_length','home_ownership','verification_status','annual_inc','purpose','title','zip_code','addr_state','dti','delinq_2yrs','earliest_cr_line','inq_last_6mths','open_acc','pub_rec','revol_bal','revol_util','total_acc','pub_rec_bankruptcies']\n",
    "la = ['grade','sub_grade','installment','int_rate','term','loan_amnt']"
   ]
  },
  {
   "cell_type": "markdown",
   "id": "65042881",
   "metadata": {},
   "source": [
    "#### Lets also divide our data set into 'defaulters' (charged off) represented by df_def and 'fully paid' represented by df_fp"
   ]
  },
  {
   "cell_type": "code",
   "execution_count": 34,
   "id": "489bbffd",
   "metadata": {},
   "outputs": [],
   "source": [
    "df_def = df[df['loan_status'] == 'Charged Off']\n",
    "df_fp = df[df['loan_status'] == 'Fully Paid']"
   ]
  },
  {
   "cell_type": "markdown",
   "id": "c36357de",
   "metadata": {},
   "source": [
    "#### Lets start our analysis with loan attributes"
   ]
  },
  {
   "cell_type": "markdown",
   "id": "91340e38",
   "metadata": {},
   "source": [
    "##### grades"
   ]
  },
  {
   "cell_type": "code",
   "execution_count": 35,
   "id": "d8e34879",
   "metadata": {},
   "outputs": [
    {
     "data": {
      "text/html": [
       "<div>\n",
       "<style scoped>\n",
       "    .dataframe tbody tr th:only-of-type {\n",
       "        vertical-align: middle;\n",
       "    }\n",
       "\n",
       "    .dataframe tbody tr th {\n",
       "        vertical-align: top;\n",
       "    }\n",
       "\n",
       "    .dataframe thead th {\n",
       "        text-align: right;\n",
       "    }\n",
       "</style>\n",
       "<table border=\"1\" class=\"dataframe\">\n",
       "  <thead>\n",
       "    <tr style=\"text-align: right;\">\n",
       "      <th></th>\n",
       "      <th>Defaulters</th>\n",
       "      <th>Fully Paid</th>\n",
       "    </tr>\n",
       "    <tr>\n",
       "      <th>grade</th>\n",
       "      <th></th>\n",
       "      <th></th>\n",
       "    </tr>\n",
       "  </thead>\n",
       "  <tbody>\n",
       "    <tr>\n",
       "      <th>A</th>\n",
       "      <td>602</td>\n",
       "      <td>9443</td>\n",
       "    </tr>\n",
       "    <tr>\n",
       "      <th>B</th>\n",
       "      <td>1425</td>\n",
       "      <td>10249</td>\n",
       "    </tr>\n",
       "    <tr>\n",
       "      <th>C</th>\n",
       "      <td>1343</td>\n",
       "      <td>6477</td>\n",
       "    </tr>\n",
       "    <tr>\n",
       "      <th>D</th>\n",
       "      <td>1115</td>\n",
       "      <td>3954</td>\n",
       "    </tr>\n",
       "    <tr>\n",
       "      <th>E</th>\n",
       "      <td>711</td>\n",
       "      <td>1941</td>\n",
       "    </tr>\n",
       "    <tr>\n",
       "      <th>F</th>\n",
       "      <td>316</td>\n",
       "      <td>654</td>\n",
       "    </tr>\n",
       "    <tr>\n",
       "      <th>G</th>\n",
       "      <td>99</td>\n",
       "      <td>198</td>\n",
       "    </tr>\n",
       "  </tbody>\n",
       "</table>\n",
       "</div>"
      ],
      "text/plain": [
       "       Defaulters  Fully Paid\n",
       "grade                        \n",
       "A             602        9443\n",
       "B            1425       10249\n",
       "C            1343        6477\n",
       "D            1115        3954\n",
       "E             711        1941\n",
       "F             316         654\n",
       "G              99         198"
      ]
     },
     "execution_count": 35,
     "metadata": {},
     "output_type": "execute_result"
    }
   ],
   "source": [
    "df_def1 = df_def.grade.value_counts().sort_index()\n",
    "df_fp1 = df_fp.grade.value_counts().sort_index()\n",
    "df_grade = pd.DataFrame({'Defaulters':df_def1.values,'Fully Paid':df_fp1.values},df_def1.index)\n",
    "df_grade"
   ]
  },
  {
   "cell_type": "code",
   "execution_count": 36,
   "id": "fa290c47",
   "metadata": {},
   "outputs": [
    {
     "data": {
      "image/png": "[encoded data removed]",
      "text/plain": [
       "<Figure size 792x504 with 1 Axes>"
      ]
     },
     "metadata": {
      "needs_background": "light"
     },
     "output_type": "display_data"
    }
   ],
   "source": [
    "df_grade.plot(kind='bar',stacked=True,figsize=(11,7))\n",
    "plt.xticks(rotation=0,fontsize=11)\n",
    "plt.yticks(fontsize=11)\n",
    "plt.title('Distribution of Loan Grades for Defaulters and Fully Paid\\n', fontsize=16)\n",
    "plt.ylabel('Number of Loans (Counts)', fontsize=14)\n",
    "plt.xlabel('Grades', fontsize=14)\n",
    "plt.legend(title='Loan Status', fontsize=12, title_fontsize='13')\n",
    "\n",
    "plt.show()"
   ]
  },
  {
   "cell_type": "code",
   "execution_count": 37,
   "id": "24df823a",
   "metadata": {},
   "outputs": [
    {
     "data": {
      "image/png": "[encoded data removed]",
      "text/plain": [
       "<Figure size 792x504 with 1 Axes>"
      ]
     },
     "metadata": {
      "needs_background": "light"
     },
     "output_type": "display_data"
    }
   ],
   "source": [
    "df_grade['Total'] = df_grade.Defaulters + df_grade['Fully Paid']\n",
    "df_grade = df_grade.apply(lambda x: x.apply(lambda y: y*100/x['Total']) ,axis = 1).drop(['Total'],axis=1)\n",
    "df_grade.plot(kind='bar',stacked=True,figsize=(11,7))\n",
    "plt.xticks(rotation=0,fontsize=11)\n",
    "plt.yticks(fontsize=11)\n",
    "plt.title('Percentage Distribution of Loan Grades: Defaulters vs. Fully Paid\\n', fontsize=16)\n",
    "plt.ylabel('Percentage of Loans (%)', fontsize=14)\n",
    "plt.xlabel('Grades', fontsize=14)\n",
    "plt.legend(title='Loan Status', fontsize=12, title_fontsize='13')\n",
    "plt.show()"
   ]
  },
  {
   "cell_type": "markdown",
   "id": "1abf1e9b",
   "metadata": {},
   "source": [
    "##### sub_grade"
   ]
  },
  {
   "cell_type": "code",
   "execution_count": 38,
   "id": "8e1eab95",
   "metadata": {},
   "outputs": [
    {
     "data": {
      "image/png": "[encoded data removed]",
      "text/plain": [
       "<Figure size 1152x504 with 1 Axes>"
      ]
     },
     "metadata": {
      "needs_background": "light"
     },
     "output_type": "display_data"
    }
   ],
   "source": [
    "df_def1 = df_def.sub_grade.value_counts().sort_index()\n",
    "df_fp1 = df_fp.sub_grade.value_counts().sort_index()\n",
    "df_sub_grade = pd.DataFrame({'Defaulters':df_def1.values,'Fully Paid':df_fp1.values},df_def1.index)\n",
    "df_sub_grade.plot(kind='bar',stacked=True,figsize=(16,7))\n",
    "plt.legend(title='Loan Status', fontsize=12, title_fontsize='13')\n",
    "plt.title('Distribution of Loan Sub-Grades: Defaulters vs. Fully Paid\\n', fontsize=16)\n",
    "plt.ylabel('Number of Loans (Counts)', fontsize=14) \n",
    "plt.xlabel('Loan Sub-Grades', fontsize=14)\n",
    "plt.xticks(rotation=0,fontsize=11)\n",
    "plt.yticks(fontsize=11)\n",
    "plt.show()"
   ]
  },
  {
   "cell_type": "code",
   "execution_count": 39,
   "id": "ea1717d2",
   "metadata": {},
   "outputs": [
    {
     "data": {
      "image/png": "[encoded data removed]",
      "text/plain": [
       "<Figure size 1080x576 with 1 Axes>"
      ]
     },
     "metadata": {
      "needs_background": "light"
     },
     "output_type": "display_data"
    }
   ],
   "source": [
    "df_sub_grade['Total'] = df_sub_grade.Defaulters + df_sub_grade['Fully Paid']\n",
    "df_sub_grade = df_sub_grade.apply(lambda x: x.apply(lambda y: y*100/x['Total']) ,axis = 1).drop(['Total'],axis=1)\n",
    "df_sub_grade.plot(kind='bar',stacked=True,figsize=(15,8))\n",
    "plt.legend(title='Loan Status', fontsize=12, title_fontsize='13')\n",
    "plt.title('Percentage Distribution of Loan Sub-Grades: Defaulters vs. Fully Paid\\n', fontsize=16)\n",
    "plt.ylabel('Number of Loans (Counts)', fontsize=14) \n",
    "plt.xlabel('Loan Sub-Grades', fontsize=14)\n",
    "plt.xticks(rotation=0,fontsize=11)\n",
    "plt.yticks(fontsize=11)\n",
    "plt.show()"
   ]
  },
  {
   "cell_type": "markdown",
   "id": "16ad7608",
   "metadata": {},
   "source": [
    "##### installment\n"
   ]
  },
  {
   "cell_type": "code",
   "execution_count": 40,
   "id": "780944b1",
   "metadata": {},
   "outputs": [
    {
     "data": {
      "image/png": "[encoded data removed]",
      "text/plain": [
       "<Figure size 648x504 with 1 Axes>"
      ]
     },
     "metadata": {
      "needs_background": "light"
     },
     "output_type": "display_data"
    }
   ],
   "source": [
    "plt.figure(figsize=(9, 7))\n",
    "sns.boxplot(y=df.installment,hue=df.loan_status,x=df.loan_status)\n",
    "plt.title('Installments by Loan Status\\n', fontsize=16)\n",
    "plt.ylabel('Installment Amount', fontsize=14)\n",
    "plt.xlabel('Loan Status', fontsize=14)\n",
    "plt.yticks(fontsize=11)\n",
    "plt.xticks(fontsize=11)\n",
    "plt.show()"
   ]
  },
  {
   "cell_type": "markdown",
   "id": "e8e1c689",
   "metadata": {},
   "source": [
    "#### From above box plot, we see there are many outliers. Lets remove them."
   ]
  },
  {
   "cell_type": "code",
   "execution_count": 41,
   "id": "ae6fad43",
   "metadata": {},
   "outputs": [
    {
     "data": {
      "image/png": "[encoded data removed]",
      "text/plain": [
       "<Figure size 648x504 with 1 Axes>"
      ]
     },
     "metadata": {
      "needs_background": "light"
     },
     "output_type": "display_data"
    }
   ],
   "source": [
    "plt.figure(figsize=(9, 7))\n",
    "sns.boxplot(y=df[df.installment < 900].installment,hue=df.loan_status,x=df.loan_status)\n",
    "plt.title('Installments by Loan Status (Installments < 900)\\n', fontsize=16)\n",
    "plt.ylabel('Installment Amount', fontsize=14)\n",
    "plt.xlabel('Loan Status', fontsize=14)\n",
    "plt.yticks(fontsize=11)\n",
    "plt.xticks(fontsize=11)\n",
    "plt.show()"
   ]
  },
  {
   "cell_type": "markdown",
   "id": "2ef3e69b",
   "metadata": {},
   "source": [
    "##### int_rate"
   ]
  },
  {
   "cell_type": "code",
   "execution_count": 42,
   "id": "792b3e86",
   "metadata": {},
   "outputs": [
    {
     "data": {
      "image/png": "[encoded data removed]",
      "text/plain": [
       "<Figure size 648x504 with 1 Axes>"
      ]
     },
     "metadata": {
      "needs_background": "light"
     },
     "output_type": "display_data"
    }
   ],
   "source": [
    "plt.figure(figsize=(9, 7))\n",
    "sns.boxplot(y=df.int_rate,hue=df.loan_status,x=df.loan_status)\n",
    "plt.title('Interest Rates by Loan Status\\n', fontsize=16)\n",
    "plt.ylabel('Interest Rates', fontsize=14)\n",
    "plt.xlabel('Loan Status', fontsize=14)\n",
    "plt.yticks(fontsize=11)\n",
    "plt.xticks(fontsize=11)\n",
    "plt.show()"
   ]
  },
  {
   "cell_type": "code",
   "execution_count": 49,
   "id": "8b83fa07",
   "metadata": {},
   "outputs": [
    {
     "data": {
      "text/plain": [
       "count    38527.000000\n",
       "mean        11.927378\n",
       "std          3.690161\n",
       "min          5.420000\n",
       "25%          8.940000\n",
       "50%         11.710000\n",
       "75%         14.350000\n",
       "max         24.400000\n",
       "Name: int_rate, dtype: float64"
      ]
     },
     "execution_count": 49,
     "metadata": {},
     "output_type": "execute_result"
    }
   ],
   "source": [
    "df.int_rate.describe()"
   ]
  },
  {
   "cell_type": "markdown",
   "id": "177346e3",
   "metadata": {},
   "source": [
    "##### Lets categorise interest rates to low, medium, high and derive new variable 'ir_cat'.  Since min val is 5.42 and max is 24.4 , we can take bin from 5 to 25."
   ]
  },
  {
   "cell_type": "code",
   "execution_count": 62,
   "id": "ef2f9e57",
   "metadata": {},
   "outputs": [],
   "source": [
    "df['ir_cat'] = pd.cut(df.int_rate,bins=[5.00,9.25,14.54,25],labels=['low','medium','high'])\n",
    "df1 = pd.pivot_table(df,values='int_rate',index='ir_cat',columns='loan_status',aggfunc='count',fill_value=0,observed=False)"
   ]
  },
  {
   "cell_type": "code",
   "execution_count": 63,
   "id": "0f8843bc",
   "metadata": {},
   "outputs": [
    {
     "data": {
      "text/html": [
       "<div>\n",
       "<style scoped>\n",
       "    .dataframe tbody tr th:only-of-type {\n",
       "        vertical-align: middle;\n",
       "    }\n",
       "\n",
       "    .dataframe tbody tr th {\n",
       "        vertical-align: top;\n",
       "    }\n",
       "\n",
       "    .dataframe thead th {\n",
       "        text-align: right;\n",
       "    }\n",
       "</style>\n",
       "<table border=\"1\" class=\"dataframe\">\n",
       "  <thead>\n",
       "    <tr style=\"text-align: right;\">\n",
       "      <th>loan_status</th>\n",
       "      <th>Charged Off</th>\n",
       "      <th>Fully Paid</th>\n",
       "    </tr>\n",
       "    <tr>\n",
       "      <th>ir_cat</th>\n",
       "      <th></th>\n",
       "      <th></th>\n",
       "    </tr>\n",
       "  </thead>\n",
       "  <tbody>\n",
       "    <tr>\n",
       "      <th>low</th>\n",
       "      <td>600</td>\n",
       "      <td>9385</td>\n",
       "    </tr>\n",
       "    <tr>\n",
       "      <th>medium</th>\n",
       "      <td>2691</td>\n",
       "      <td>16517</td>\n",
       "    </tr>\n",
       "    <tr>\n",
       "      <th>high</th>\n",
       "      <td>2320</td>\n",
       "      <td>7014</td>\n",
       "    </tr>\n",
       "  </tbody>\n",
       "</table>\n",
       "</div>"
      ],
      "text/plain": [
       "loan_status  Charged Off  Fully Paid\n",
       "ir_cat                              \n",
       "low                  600        9385\n",
       "medium              2691       16517\n",
       "high                2320        7014"
      ]
     },
     "execution_count": 63,
     "metadata": {},
     "output_type": "execute_result"
    }
   ],
   "source": [
    "df1"
   ]
  },
  {
   "cell_type": "code",
   "execution_count": 68,
   "id": "3efa6b8a",
   "metadata": {},
   "outputs": [
    {
     "data": {
      "image/png": "[encoded data removed]",
      "text/plain": [
       "<Figure size 576x504 with 1 Axes>"
      ]
     },
     "metadata": {
      "needs_background": "light"
     },
     "output_type": "display_data"
    }
   ],
   "source": [
    "df1.plot(kind='bar',stacked=True,figsize=(8,7))\n",
    "plt.title('Distribution of Loan Status by Interest Rate Category\\n', fontsize=16)\n",
    "plt.ylabel('Number of Loans (Counts)', fontsize=14)\n",
    "plt.xlabel('Interest Rate Category', fontsize=14)\n",
    "plt.xticks(rotation=0, fontsize=11)\n",
    "plt.yticks(fontsize=11)\n",
    "plt.legend(title='Loan Status', fontsize=12, title_fontsize=13, loc='upper right')\n",
    "plt.show()"
   ]
  },
  {
   "cell_type": "code",
   "execution_count": 70,
   "id": "87807376",
   "metadata": {},
   "outputs": [
    {
     "data": {
      "image/png": "[encoded data removed]",
      "text/plain": [
       "<Figure size 576x576 with 1 Axes>"
      ]
     },
     "metadata": {
      "needs_background": "light"
     },
     "output_type": "display_data"
    }
   ],
   "source": [
    "df1['Total'] = df1['Charged Off'] + df1['Fully Paid']\n",
    "df1 = df1.apply(lambda x: x.apply(lambda y: y*100/x['Total']) ,axis = 1).drop(['Total'],axis=1)\n",
    "df1.plot(kind='bar',stacked=True,figsize=(8,8))\n",
    "plt.title('Percentage Distribution of Loan Status by Interest Rate Category\\n', fontsize=16)\n",
    "plt.ylabel('Percentage of Loans (%)', fontsize=14)\n",
    "plt.xlabel('Interest Rate Category', fontsize=14)\n",
    "plt.xticks(rotation=0, fontsize=11)\n",
    "plt.yticks(fontsize=11)\n",
    "plt.legend(title='Loan Status', fontsize=12, title_fontsize=13, loc='upper right')\n",
    "plt.show()"
   ]
  },
  {
   "cell_type": "code",
   "execution_count": 73,
   "id": "7296cad8",
   "metadata": {},
   "outputs": [
    {
     "data": {
      "text/html": [
       "<div>\n",
       "<style scoped>\n",
       "    .dataframe tbody tr th:only-of-type {\n",
       "        vertical-align: middle;\n",
       "    }\n",
       "\n",
       "    .dataframe tbody tr th {\n",
       "        vertical-align: top;\n",
       "    }\n",
       "\n",
       "    .dataframe thead th {\n",
       "        text-align: right;\n",
       "    }\n",
       "</style>\n",
       "<table border=\"1\" class=\"dataframe\">\n",
       "  <thead>\n",
       "    <tr style=\"text-align: right;\">\n",
       "      <th>loan_status</th>\n",
       "      <th>Charged Off</th>\n",
       "      <th>Fully Paid</th>\n",
       "    </tr>\n",
       "    <tr>\n",
       "      <th>term</th>\n",
       "      <th></th>\n",
       "      <th></th>\n",
       "    </tr>\n",
       "  </thead>\n",
       "  <tbody>\n",
       "    <tr>\n",
       "      <th>36 months</th>\n",
       "      <td>3214</td>\n",
       "      <td>25835</td>\n",
       "    </tr>\n",
       "    <tr>\n",
       "      <th>60 months</th>\n",
       "      <td>2397</td>\n",
       "      <td>7081</td>\n",
       "    </tr>\n",
       "  </tbody>\n",
       "</table>\n",
       "</div>"
      ],
      "text/plain": [
       "loan_status  Charged Off  Fully Paid\n",
       "term                                \n",
       "36 months           3214       25835\n",
       "60 months           2397        7081"
      ]
     },
     "execution_count": 73,
     "metadata": {},
     "output_type": "execute_result"
    }
   ],
   "source": [
    "df1 = pd.pivot_table( df.groupby(['term','loan_status']).count().reset_index(),values='int_rate',index='term',columns='loan_status',aggfunc='max',fill_value=0)\n",
    "df1"
   ]
  },
  {
   "cell_type": "code",
   "execution_count": 84,
   "id": "4675ca75",
   "metadata": {},
   "outputs": [
    {
     "data": {
      "image/png": "[encoded data removed]",
      "text/plain": [
       "<Figure size 504x504 with 1 Axes>"
      ]
     },
     "metadata": {
      "needs_background": "light"
     },
     "output_type": "display_data"
    }
   ],
   "source": [
    "df1.plot(kind='bar',stacked=True,figsize=(7,7))\n",
    "plt.title('Distribution of Loan Status by Term Category\\n', fontsize=16)\n",
    "plt.ylabel('Number of Loans (Counts)', fontsize=14)\n",
    "plt.xlabel('Term Duration', fontsize=14)\n",
    "plt.xticks(rotation=0, fontsize=11)\n",
    "plt.yticks(fontsize=11)\n",
    "plt.legend(title='Loan Status', fontsize=12, title_fontsize=13, loc='upper right')\n",
    "plt.show()\n"
   ]
  },
  {
   "cell_type": "code",
   "execution_count": 89,
   "id": "1df39010",
   "metadata": {},
   "outputs": [
    {
     "data": {
      "image/png": "[encoded data removed]",
      "text/plain": [
       "<Figure size 648x504 with 1 Axes>"
      ]
     },
     "metadata": {
      "needs_background": "light"
     },
     "output_type": "display_data"
    }
   ],
   "source": [
    "plt.figure(figsize=(9, 7))\n",
    "sns.boxplot(y=df.loan_amnt,x=df.loan_status, hue=df.loan_status)\n",
    "plt.title('Distribution for Loan Amount by Loan Status\\n', fontsize=16)\n",
    "plt.ylabel('Loan Amount', fontsize=14)\n",
    "plt.xlabel('Loan Status', fontsize=14)\n",
    "plt.yticks(fontsize=11)\n",
    "plt.xticks(fontsize=11)\n",
    "plt.show()"
   ]
  },
  {
   "cell_type": "code",
   "execution_count": null,
   "id": "b0bbe9ce",
   "metadata": {},
   "outputs": [],
   "source": []
  },
  {
   "cell_type": "code",
   "execution_count": null,
   "id": "e353eace",
   "metadata": {},
   "outputs": [],
   "source": []
  },
  {
   "cell_type": "code",
   "execution_count": 45,
   "id": "5d4975e9",
   "metadata": {
    "scrolled": false
   },
   "outputs": [
    {
     "data": {
      "text/plain": [
       "<Axes: xlabel='loan_status', ylabel='annual_inc'>"
      ]
     },
     "execution_count": 45,
     "metadata": {},
     "output_type": "execute_result"
    },
    {
     "data": {
      "image/png": "[encoded data removed]",
      "text/plain": [
       "<Figure size 432x288 with 1 Axes>"
      ]
     },
     "metadata": {
      "needs_background": "light"
     },
     "output_type": "display_data"
    }
   ],
   "source": [
    "sns.boxplot(y=df[df.annual_inc < 145000].annual_inc,x=df.loan_status)"
   ]
  },
  {
   "cell_type": "code",
   "execution_count": null,
   "id": "0724a25b",
   "metadata": {},
   "outputs": [],
   "source": []
  }
 ],
 "metadata": {
  "kernelspec": {
   "display_name": "Python 3 (ipykernel)",
   "language": "python",
   "name": "python3"
  },
  "language_info": {
   "codemirror_mode": {
    "name": "ipython",
    "version": 3
   },
   "file_extension": ".py",
   "mimetype": "text/x-python",
   "name": "python",
   "nbconvert_exporter": "python",
   "pygments_lexer": "ipython3",
   "version": "3.10.12"
  }
 },
 "nbformat": 4,
 "nbformat_minor": 5
}
